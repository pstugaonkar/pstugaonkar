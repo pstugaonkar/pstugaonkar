{
 "cells": [
  {
   "cell_type": "code",
   "execution_count": 1,
   "id": "7792035c",
   "metadata": {},
   "outputs": [],
   "source": [
    "from bs4 import BeautifulSoup"
   ]
  },
  {
   "cell_type": "code",
   "execution_count": 2,
   "id": "f0f3b5cf",
   "metadata": {},
   "outputs": [],
   "source": [
    "import requests"
   ]
  },
  {
   "cell_type": "code",
   "execution_count": 4,
   "id": "4d9804ac",
   "metadata": {},
   "outputs": [],
   "source": [
    "import numpy as np\n",
    "import pandas as pd"
   ]
  },
  {
   "cell_type": "code",
   "execution_count": 6,
   "id": "483ae31b",
   "metadata": {},
   "outputs": [
    {
     "name": "stdout",
     "output_type": "stream",
     "text": [
      "<Response [200]>\n",
      "<!DOCTYPE html>\n",
      "<html lang=\"en\"><head><link href=\"https://rukminim1.flixcart.com\" rel=\"preconnect\"/><link href=\"//static-assets-web.flixcart.com/fk-p-linchpin-web/fk-cp-zion/css/app_modules.chunk.905c37.css\" rel=\"stylesheet\"/><link href=\"//static-assets-web.flixcart.com/fk-p-linchpin-web/fk-cp-zion/css/app.chunk.8f4f44.css\" rel=\"stylesheet\"/><meta content=\"text/html; charset=utf-8\" http-equiv=\"Content-type\"/><meta content=\"IE=Edge\" http-equiv=\"X-UA-Compatible\"/><meta content=\"102988293558\" property=\"fb:page_id\"/><meta content=\"658873552,624500995,100000233612389\" property=\"fb:admins\"/><meta content=\"noodp\" name=\"robots\"/><link href=\"https:///www/promos/new/20150528-140547-favicon-retina.ico\" rel=\"shortcut icon\"/><link href=\"/osdd.xml?v=2\" rel=\"search\" type=\"application/opensearchdescription+xml\"/><meta content=\"website\" property=\"og:type\"/><meta content=\"Flipkart.com\" name=\"og_site_name\" property=\"og:site_name\"/><link href=\"/apple-touch-icon-57x57.png\" rel=\"apple-touch-icon\" sizes=\"57x57\"/><link href=\"/apple-touch-icon-72x72.png\" rel=\"apple-touch-icon\" sizes=\"72x72\"/><link href=\"/apple-touch-icon-114x114.png\" rel=\"apple-touch-icon\" sizes=\"114x114\"/><link href=\"/apple-touch-icon-144x144.png\" rel=\"apple-touch-icon\" sizes=\"144x144\"/><link href=\"/apple-touch-icon-57x57.png\" rel=\"apple-touch-icon\"/><meta content=\"app\" name=\"twitter:card\"/><meta content=\"@flipkart\" name=\"twitter:site\"/><meta content=\"@flipkart\" name=\"twitter:creator\"/><meta content=\"Mobiles Under 50000- Buy Products Online at Best Price in India - All Categories | Flipkart.com\" name=\"twitter:title\"/><meta content=\"Shop for electronics, apparels &amp; more using our Flipkart app Free shipping &amp; COD.\" name=\"twitter:description\"/><meta content=\"in\" name=\"twitter:app:country\"/><meta content=\"Flipkart\" name=\"al:ios:app_name\"/><meta content=\"742044692\" name=\"al:ios:app_store_id\"/><meta content=\"Flipkart\" name=\"twitter:app:name:iphone\"/><meta content=\"742044692\" name=\"twitter:app:id:iphone\"/><meta content=\"http://dl.flipkart.com/dl/home?\" name=\"twitter:app:url:iphone\"/><meta content=\"Flipkart\" name=\"twitter:app:name:ipad\"/><meta content=\"742044692\" name=\"twitter:app:id:ipad\"/><meta content=\"http://dl.flipkart.com/dl/home?\" name=\"twitter:app:url:ipad\"/><meta content=\"Flipkart\" name=\"twitter:app:name:googleplay\"/><meta content=\"com.flipkart.android\" name=\"twitter:app:id:googleplay\"/><meta content=\"http://dl.flipkart.com/dl/home?\" name=\"twitter:app:url:googleplay\"/><style>#container {\n",
      "\t\t\theight: 100%;\n",
      "\t\t}</style> <link href=\"///fk-cp-zion/css/Browse.chunk.e9630a.css\" rel=\"stylesheet\"/><title>Mobiles Under 50000- Buy Products Online at Best Price in India - All Categories | Flipkart.com</title><meta content=\"Mobiles Under 50000- Buy Products Online at Best Price in India - All Categories | Flipkart.com\" name=\"og_title\" property=\"og:title\"/><meta content=\"Mobiles Under 50000\" name=\"Keywords\"/> <meta content=\"Mobiles Under 50000- Buy Products Online at Best Price in India. India's Leading E-commerce Company - Free Home Delivery - All Categories | Flipkart.com\" name=\"Description\"/><meta content=\"Mobiles Under 50000- Buy Products Online at Best Price in India. India's Leading E-commerce Company - Free Home Delivery - All Categories | Flipkart.com\" property=\"og:description\"/> <meta content=\"noindex\" name=\"robots\"/> <meta content=\"F4EEB3A0AFFDD385992A06E6920C0AC3\" name=\"msvalidate.01\"/> <!--[if IE 9 ]>\n",
      "\t<script nonce=\"1080078668394454052\">\n",
      "\t\twindow.browserVersion = 'IE9';\n",
      "\t\tdocument.documentElement.className += ' ie9';\n",
      "\t</script>\n",
      "\t<![endif]--><!--[if !IE]><!--><script nonce=\"1080078668394454052\">if (/*@cc_on!@*/false) {\n",
      "\t\t\twindow.browserVersion = 'IE10';\n",
      "\t\t\tdocument.documentElement.className += ' ie10';\n",
      "\t\t}</script><!--<![endif]--> <link href=\"https://www.flipkart.com/search?q=mobiles+under+50000&amp;otracker=search&amp;otracker1=search&amp;marketplace=FLIPKART&amp;as-show=on&amp;as=off&amp;page=2\" id=\"next-page-link-tag\" rel=\"next\"/><script nonce=\"1080078668394454052\">!function(){if(\"PerformancePaintTiming\" in window){var e=window.__perf={e:[]};e.o=new PerformanceObserver(function(n){e.e=e.e.concat(n.getEntries())});try{e.o.observe({entryTypes:[\"paint\"]})}catch(e){}}}();\n",
      "\n",
      "\t\tif (requestAnimationFrame && performance && performance.mark) {\n",
      "\t\t\trequestAnimationFrame(function () {\n",
      "\t\t\t\twindow.first_paint = performance.now();\n",
      "\t\t\t\tperformance.mark(\"first_paint\");\n",
      "\t\t\t});\n",
      "\t\t}\n",
      "\n",
      "        // web-vitals polyfill for FID\n",
      "        !function(n,e){var t,o,i,c=[],f={passive:!0,capture:!0},r=new Date,a=\"pointerup\",u=\"pointercancel\";function p(n,c){t||(t=c,o=n,i=new Date,w(e),s())}function s(){o>=0&&o<i-r&&(c.forEach(function(n){n(o,t)}),c=[])}function l(t){if(t.cancelable){var o=(t.timeStamp>1e12?new Date:performance.now())-t.timeStamp;\"pointerdown\"==t.type?function(t,o){function i(){p(t,o),r()}function c(){r()}function r(){e(a,i,f),e(u,c,f)}n(a,i,f),n(u,c,f)}(o,t):p(o,t)}}function w(n){[\"click\",\"mousedown\",\"keydown\",\"touchstart\",\"pointerdown\"].forEach(function(e){n(e,l,f)})}w(n),self.perfMetrics=self.perfMetrics||{},self.perfMetrics.onFirstInputDelay=function(n){c.push(n),s()}}(addEventListener,removeEventListener);</script><script async=\"\" src=\"https://www.googletagmanager.com/gtag/js?id=AW-594691041\"></script><script nonce=\"1080078668394454052\">window.dataLayer = window.dataLayer || [];\n",
      "\t\tfunction gtag(){dataLayer.push(arguments)};\n",
      "\t\tgtag('js', new Date());</script></head><body><div id=\"container\"><div><div class=\"_1kfTjk\"><div class=\"_1rH5Jn\"><div class=\"_1TmfNK\"></div><div class=\"_2Xfa2_\"><div class=\"_3_C9Hx\"><div class=\"_3qX0zy\"><a href=\"/\"><img alt=\"Flipkart\" class=\"_2xm1JU\" src=\"//static-assets-web.flixcart.com/fk-p-linchpin-web/fk-cp-zion/img/flipkart-plus_8d85f4.png\" title=\"Flipkart\" width=\"75\"/></a><a class=\"_21ljIi\" href=\"/plus\">Explore<!-- --> <span class=\"_2FVHGh\">Plus</span><img src=\"//static-assets-web.flixcart.com/fk-p-linchpin-web/fk-cp-zion/img/plus_aef861.png\" width=\"10\"/></a></div></div><div class=\"_1cmsER\"><form action=\"/search\" class=\"_2M8cLY header-form-search\" method=\"GET\"><div class=\"col-12-12 _2oO9oE\"><div class=\"_3OO5Xc\"><input autocomplete=\"off\" class=\"_3704LK\" name=\"q\" placeholder=\"Search for products, brands and more\" title=\"Search for products, brands and more\" type=\"text\" value=\"mobiles under 50000\"/></div><button class=\"L0Z3Pu\" type=\"submit\"><svg class=\"\" height=\"20\" viewbox=\"0 0 17 18\" width=\"20\" xmlns=\"http://www.w3.org/2000/svg\"><g fill=\"#2874F1\" fill-rule=\"evenodd\"><path class=\"_34RNph\" d=\"m11.618 9.897l4.225 4.212c.092.092.101.232.02.313l-1.465 1.46c-.081.081-.221.072-.314-.02l-4.216-4.203\"></path><path class=\"_34RNph\" d=\"m6.486 10.901c-2.42 0-4.381-1.956-4.381-4.368 0-2.413 1.961-4.369 4.381-4.369 2.42 0 4.381 1.956 4.381 4.369 0 2.413-1.961 4.368-4.381 4.368m0-10.835c-3.582 0-6.486 2.895-6.486 6.467 0 3.572 2.904 6.467 6.486 6.467 3.582 0 6.486-2.895 6.486-6.467 0-3.572-2.904-6.467-6.486-6.467\"></path></g></svg></button><input name=\"otracker\" type=\"hidden\" value=\"search\"/><input name=\"otracker1\" type=\"hidden\" value=\"search\"/><input name=\"marketplace\" type=\"hidden\" value=\"FLIPKART\"/><input name=\"as-show\" type=\"hidden\" value=\"off\"/><input name=\"as\" type=\"hidden\" value=\"off\"/></div><ul class=\"col-12-12 _1MRYA1\"></ul></form></div><div class=\"go_DOp _2errNR\"><div class=\"_28p97w\"><div class=\"_1psGvi _3BvnxG\"><div><a class=\"_1_3w1N\" href=\"/account/login?ret=/search%3Fq%3Dmobiles%2Bunder%2B50000%26otracker%3Dsearch%26otracker1%3Dsearch%26marketplace%3DFLIPKART%26as-show%3Don%26as%3Doff%26page%3D1\">Login</a></div></div></div></div><div class=\"go_DOp\"><a class=\"_3-PJz-\" href=\"https://seller.flipkart.com/sell-online/?utm_source=fkwebsite&amp;utm_medium=websitedirect\"><span>Become a Seller</span></a></div><div class=\"go_DOp\"><div class=\"_28p97w\"><div class=\"_1psGvi _3BvnxG\"><div><div class=\"exehdJ\"> <!-- -->More<!-- --> </div></div></div><svg class=\"zZ3yfL\" height=\"8\" viewbox=\"0 0 16 27\" width=\"4.7\" xmlns=\"http://www.w3.org/2000/svg\"><path class=\"_2gTTdy\" d=\"M16 23.207L6.11 13.161 16 3.093 12.955 0 0 13.161l12.955 13.161z\" fill=\"#fff\"></path></svg></div></div><div class=\"go_DOp\"><div class=\"_1psGvi\"><div class=\"YUhWwv\"><a class=\"_3SkBxJ\" href=\"/viewcart?exploreMode=true&amp;preference=FLIPKART\"><svg class=\"V3C5bO\" height=\"14\" viewbox=\"0 0 16 16\" width=\"14\" xmlns=\"http://www.w3.org/2000/svg\"><path class=\"_1bS9ic\" d=\"M15.32 2.405H4.887C3 2.405 2.46.805 2.46.805L2.257.21C2.208.085 2.083 0 1.946 0H.336C.1 0-.064.24.024.46l.644 1.945L3.11 9.767c.047.137.175.23.32.23h8.418l-.493 1.958H3.768l.002.003c-.017 0-.033-.003-.05-.003-1.06 0-1.92.86-1.92 1.92s.86 1.92 1.92 1.92c.99 0 1.805-.75 1.91-1.712l5.55.076c.12.922.91 1.636 1.867 1.636 1.04 0 1.885-.844 1.885-1.885 0-.866-.584-1.593-1.38-1.814l2.423-8.832c.12-.433-.206-.86-.655-.86\" fill=\"#fff\"></path></svg><span>Cart</span></a></div></div></div></div><div class=\"_1TmfNK\"></div></div><div class=\"_1mUdNz\"></div></div><div class=\"_331-kn\"></div><div class=\"_36fx1h _6t1WkM _3HqJxg\"><div class=\"_1YokD2 _2GoDe3\"><div class=\"_1YokD2 _3Mn1Gg col-2-12\" style=\"flex:0 0 280px;max-width:280px;padding:0px 10px 0px 0px\"><div class=\"_1YokD2 _3Mn1Gg col-12-12\"><div class=\"_1AtVbE col-12-12\"><div class=\"_1KOcBL\"><section class=\"JWMl0H _2hbLCH\"><div class=\"_2ssEMF\"><div class=\"_3V8rao\"><span>Filters</span></div></div></section><div class=\"_2q_g77\"><section class=\"_2aDURW\"><div class=\"_2lfNTw\"><span>CATEGORIES</span></div><div><div class=\"TB_InB\"><span><svg class=\"_2Iqv73\" height=\"10\" viewbox=\"0 0 16 27\" width=\"10\" xmlns=\"http://www.w3.org/2000/svg\"><path class=\"_3zK8He\" d=\"M16 23.207L6.11 13.161 16 3.093 12.955 0 0 13.161l12.955 13.161z\" fill=\"#fff\"></path></svg></span><a class=\"_2qvBBJ _2Mji8F\" href=\"/mobiles-accessories/pr?sid=tyy&amp;q=mobiles+under+50000&amp;otracker=categorytree\" title=\"Mobiles &amp; Accessories\">Mobiles &amp; Accessories</a></div></div><div><div class=\"TB_InB\"><span><svg class=\"_2Iqv73\" height=\"10\" viewbox=\"0 0 16 27\" width=\"10\" xmlns=\"http://www.w3.org/2000/svg\"><path class=\"\" d=\"M16 23.207L6.11 13.161 16 3.093 12.955 0 0 13.161l12.955 13.161z\" fill=\"#fff\"></path></svg></span><a class=\"_1jJQdf _2Mji8F\" href=\"/mobiles/pr?sid=tyy,4io&amp;q=mobiles+under+50000&amp;otracker=categorytree\" title=\"Mobiles\">Mobiles</a></div></div></section></div><section class=\"_2yz7eI _2hbLCH\"><div class=\"_3KxRU6 _2ssEMF\"><div class=\"UR1L2I _3V8rao\"><span>Price</span></div></div><div class=\"_2NBiOm\"><div class=\"_1nneZ0\"><div class=\"_2TbXIJ\" style=\"height:0;width:0\"></div><div class=\"_2TbXIJ\" style=\"height:0;width:0\"></div><div class=\"_2TbXIJ\" style=\"height:0;width:0\"></div><div class=\"_2TbXIJ\" style=\"height:0;width:0\"></div><div class=\"_2TbXIJ\" style=\"height:0;width:0\"></div></div></div><div class=\"_2r34SG\"><div class=\"_12FhcQ\"><div class=\"_31Kbhn _28DFQy\"><div class=\"_3FdLqY\"></div></div><div class=\"_31Kbhn WC_zGJ\"><div class=\"_3FdLqY\"></div></div><div class=\"_2IN3-t\"></div><div class=\"_2IN3-t _1mRwrD\"></div></div><div class=\"_15GU70\"><div class=\"_1ftpgI\" style=\"width:undefinedpx\">.</div><div class=\"_1ftpgI\" style=\"width:undefinedpx\">.</div><div class=\"_1ftpgI\" style=\"width:undefinedpx\">.</div><div class=\"_1ftpgI\" style=\"width:undefinedpx\">.</div><div class=\"_1ftpgI\" style=\"width:undefinedpx\">.</div><div class=\"_1ftpgI\" style=\"width:0px\">.</div></div></div><div class=\"_2b0bUo\"><div class=\"_1YAKP4\"><select class=\"_2YxCDZ\"><option class=\"_3AsjWR\" selected=\"\" value=\"Min\">Min</option><option class=\"_3AsjWR\" value=\"10000\">₹10000</option><option class=\"_3AsjWR\" value=\"15000\">₹15000</option><option class=\"_3AsjWR\" value=\"20000\">₹20000</option><option class=\"_3AsjWR\" value=\"30000\">₹30000</option></select></div><div class=\"_3zohzR\">to</div><div class=\"_3uDYxP\"><select class=\"_2YxCDZ\"><option class=\"_3AsjWR\" value=\"10000\">₹10000</option><option class=\"_3AsjWR\" value=\"15000\">₹15000</option><option class=\"_3AsjWR\" value=\"20000\">₹20000</option><option class=\"_3AsjWR\" value=\"30000\">₹30000</option><option class=\"_3AsjWR\" selected=\"\" value=\"Max\">₹30000+</option></select></div></div></section><section class=\"_167Mu3 _2hbLCH\"><div class=\"_213eRC _2ssEMF\"><div class=\"_2gmUFU _3V8rao\">Brand</div><svg class=\"ttx38n _3DyGEM\" height=\"27\" viewbox=\"0 0 16 27\" width=\"16\" xmlns=\"http://www.w3.org/2000/svg\"><path class=\"IIvmWM\" d=\"M16 23.207L6.11 13.161 16 3.093 12.955 0 0 13.161l12.955 13.161z\" fill=\"#fff\"></path></svg></div><div class=\"_3FPh42\"><div class=\"_2d0we9\"><div class=\"_2pBqj6\"><svg class=\"_3WAvPc\" height=\"20\" viewbox=\"0 0 17 18\" width=\"20\" xmlns=\"http://www.w3.org/2000/svg\"><g fill=\"#2874F1\" fill-rule=\"evenodd\"><path class=\"-OwdlC\" d=\"m11.618 9.897l4.225 4.212c.092.092.101.232.02.313l-1.465 1.46c-.081.081-.221.072-.314-.02l-4.216-4.203\"></path><path class=\"-OwdlC\" d=\"m6.486 10.901c-2.42 0-4.381-1.956-4.381-4.368 0-2.413 1.961-4.369 4.381-4.369 2.42 0 4.381 1.956 4.381 4.369 0 2.413-1.961 4.368-4.381 4.368m0-10.835c-3.582 0-6.486 2.895-6.486 6.467 0 3.572 2.904 6.467 6.486 6.467 3.582 0 6.486-2.895 6.486-6.467 0-3.572-2.904-6.467-6.486-6.467\"></path></g></svg><input class=\"_34uFYj\" placeholder=\"Search Brand\" type=\"text\" value=\"\"/></div><div class=\"_4921Z t0pPfW\" title=\"realme\"><div class=\"_1Y4Vhm _4FO7b6\"><label class=\"_2iDkf8 t0pPfW\"><input class=\"_30VH1S\" readonly=\"\" type=\"checkbox\"/><div class=\"_24_Dny\"></div><div class=\"_3879cV\">realme</div></label></div></div><div class=\"_4921Z t0pPfW\" title=\"POCO\"><div class=\"_1Y4Vhm _4FO7b6\"><label class=\"_2iDkf8 t0pPfW\"><input class=\"_30VH1S\" readonly=\"\" type=\"checkbox\"/><div class=\"_24_Dny\"></div><div class=\"_3879cV\">POCO</div></label></div></div><div class=\"_4921Z t0pPfW\" title=\"Infinix\"><div class=\"_1Y4Vhm _4FO7b6\"><label class=\"_2iDkf8 t0pPfW\"><input class=\"_30VH1S\" readonly=\"\" type=\"checkbox\"/><div class=\"_24_Dny\"></div><div class=\"_3879cV\">Infinix</div></label></div></div><div class=\"_4921Z t0pPfW\" title=\"SAMSUNG\"><div class=\"_1Y4Vhm _4FO7b6\"><label class=\"_2iDkf8 t0pPfW\"><input class=\"_30VH1S\" readonly=\"\" type=\"checkbox\"/><div class=\"_24_Dny\"></div><div class=\"_3879cV\">SAMSUNG</div></label></div></div><div class=\"_4921Z t0pPfW\" title=\"Mi\"><div class=\"_1Y4Vhm _4FO7b6\"><label class=\"_2iDkf8 t0pPfW\"><input class=\"_30VH1S\" readonly=\"\" type=\"checkbox\"/><div class=\"_24_Dny\"></div><div class=\"_3879cV\">Mi</div></label></div></div><div class=\"_4921Z t0pPfW\" title=\"APPLE\"><div class=\"_1Y4Vhm _4FO7b6\"><label class=\"_2iDkf8 t0pPfW\"><input class=\"_30VH1S\" readonly=\"\" type=\"checkbox\"/><div class=\"_24_Dny\"></div><div class=\"_3879cV\">APPLE</div></label></div></div></div><div class=\"QvtND5 _2w_U27\"><span>159 MORE</span></div></div></section><section class=\"_2hbLCH _24gLJx\"><label class=\"_2iDkf8 shbqsL\"><input class=\"_30VH1S\" readonly=\"\" type=\"checkbox\"/><div class=\"_24_Dny _3tCU7L\"></div><div class=\"_3879cV\"><div class=\"_3U-Vxu\"><img class=\"_3U-Vxu\" height=\"21\" src=\"//static-assets-web.flixcart.com/fk-p-linchpin-web/fk-cp-zion/img/fa_62673a.png\"/></div></div></label><div class=\"Bv11UC\"><span class=\"question\">?</span></div></section><section class=\"_167Mu3 _2hbLCH\"><div class=\"_213eRC _2ssEMF\"><div class=\"_2gmUFU _3V8rao\">Customer Ratings</div><svg class=\"ttx38n _3DyGEM\" height=\"27\" viewbox=\"0 0 16 27\" width=\"16\" xmlns=\"http://www.w3.org/2000/svg\"><path class=\"IIvmWM\" d=\"M16 23.207L6.11 13.161 16 3.093 12.955 0 0 13.161l12.955 13.161z\" fill=\"#fff\"></path></svg></div><div class=\"_3FPh42\"><div class=\"_2d0we9\"><div class=\"_4921Z t0pPfW\" title=\"4★ &amp; above\"><div class=\"_1Y4Vhm _4FO7b6\"><label class=\"_2iDkf8 t0pPfW\"><input class=\"_30VH1S\" readonly=\"\" type=\"checkbox\"/><div class=\"_24_Dny\"></div><div class=\"_3879cV\">4★ &amp; above</div></label></div></div><div class=\"_4921Z t0pPfW\" title=\"3★ &amp; above\"><div class=\"_1Y4Vhm _4FO7b6\"><label class=\"_2iDkf8 t0pPfW\"><input class=\"_30VH1S\" readonly=\"\" type=\"checkbox\"/><div class=\"_24_Dny\"></div><div class=\"_3879cV\">3★ &amp; above</div></label></div></div></div></div></section><section class=\"_167Mu3 _2hbLCH\"><div class=\"_213eRC _2ssEMF\"><div class=\"_2gmUFU _3V8rao\">GST Invoice Available</div><svg class=\"ttx38n\" height=\"27\" viewbox=\"0 0 16 27\" width=\"16\" xmlns=\"http://www.w3.org/2000/svg\"><path class=\"IIvmWM\" d=\"M16 23.207L6.11 13.161 16 3.093 12.955 0 0 13.161l12.955 13.161z\" fill=\"#fff\"></path></svg></div></section><section class=\"_167Mu3 _2hbLCH\"><div class=\"_213eRC _2ssEMF\"><div class=\"_2gmUFU _3V8rao\">RAM</div><svg class=\"ttx38n _3DyGEM\" height=\"27\" viewbox=\"0 0 16 27\" width=\"16\" xmlns=\"http://www.w3.org/2000/svg\"><path class=\"IIvmWM\" d=\"M16 23.207L6.11 13.161 16 3.093 12.955 0 0 13.161l12.955 13.161z\" fill=\"#fff\"></path></svg></div><div class=\"_3FPh42\"><div class=\"_2d0we9\"><div class=\"_4921Z t0pPfW\" title=\"4 GB\"><div class=\"_1Y4Vhm _4FO7b6\"><label class=\"_2iDkf8 t0pPfW\"><input class=\"_30VH1S\" readonly=\"\" type=\"checkbox\"/><div class=\"_24_Dny\"></div><div class=\"_3879cV\">4 GB</div></label></div></div><div class=\"_4921Z t0pPfW\" title=\"3 GB\"><div class=\"_1Y4Vhm _4FO7b6\"><label class=\"_2iDkf8 t0pPfW\"><input class=\"_30VH1S\" readonly=\"\" type=\"checkbox\"/><div class=\"_24_Dny\"></div><div class=\"_3879cV\">3 GB</div></label></div></div><div class=\"_4921Z t0pPfW\" title=\"2 GB\"><div class=\"_1Y4Vhm _4FO7b6\"><label class=\"_2iDkf8 t0pPfW\"><input class=\"_30VH1S\" readonly=\"\" type=\"checkbox\"/><div class=\"_24_Dny\"></div><div class=\"_3879cV\">2 GB</div></label></div></div><div class=\"_4921Z t0pPfW\" title=\"1GB and Below\"><div class=\"_1Y4Vhm _4FO7b6\"><label class=\"_2iDkf8 t0pPfW\"><input class=\"_30VH1S\" readonly=\"\" type=\"checkbox\"/><div class=\"_24_Dny\"></div><div class=\"_3879cV\">1GB and Below</div></label></div></div><div class=\"_4921Z t0pPfW\" title=\"8 GB and Above\"><div class=\"_1Y4Vhm _4FO7b6\"><label class=\"_2iDkf8 t0pPfW\"><input class=\"_30VH1S\" readonly=\"\" type=\"checkbox\"/><div class=\"_24_Dny\"></div><div class=\"_3879cV\">8 GB and Above</div></label></div></div><div class=\"_4921Z t0pPfW\" title=\"6 GB\"><div class=\"_1Y4Vhm _4FO7b6\"><label class=\"_2iDkf8 t0pPfW\"><input class=\"_30VH1S\" readonly=\"\" type=\"checkbox\"/><div class=\"_24_Dny\"></div><div class=\"_3879cV\">6 GB</div></label></div></div></div></div></section><section class=\"_167Mu3 _2hbLCH\"><div class=\"_213eRC _2ssEMF\"><div class=\"_2gmUFU _3V8rao\">Internal Storage</div><svg class=\"ttx38n\" height=\"27\" viewbox=\"0 0 16 27\" width=\"16\" xmlns=\"http://www.w3.org/2000/svg\"><path class=\"IIvmWM\" d=\"M16 23.207L6.11 13.161 16 3.093 12.955 0 0 13.161l12.955 13.161z\" fill=\"#fff\"></path></svg></div></section><section class=\"_167Mu3 _2hbLCH\"><div class=\"_213eRC _2ssEMF\"><div class=\"_2gmUFU _3V8rao\">Battery Capacity</div><svg class=\"ttx38n\" height=\"27\" viewbox=\"0 0 16 27\" width=\"16\" xmlns=\"http://www.w3.org/2000/svg\"><path class=\"IIvmWM\" d=\"M16 23.207L6.11 13.161 16 3.093 12.955 0 0 13.161l12.955 13.161z\" fill=\"#fff\"></path></svg></div></section><section class=\"_167Mu3 _2hbLCH\"><div class=\"_213eRC _2ssEMF\"><div class=\"_2gmUFU _3V8rao\">Screen Size</div><svg class=\"ttx38n\" height=\"27\" viewbox=\"0 0 16 27\" width=\"16\" xmlns=\"http://www.w3.org/2000/svg\"><path class=\"IIvmWM\" d=\"M16 23.207L6.11 13.161 16 3.093 12.955 0 0 13.161l12.955 13.161z\" fill=\"#fff\"></path></svg></div></section><section class=\"_167Mu3 _2hbLCH\"><div class=\"_213eRC _2ssEMF\"><div class=\"_2gmUFU _3V8rao\">Primary Camera</div><svg class=\"ttx38n\" height=\"27\" viewbox=\"0 0 16 27\" width=\"16\" xmlns=\"http://www.w3.org/2000/svg\"><path class=\"IIvmWM\" d=\"M16 23.207L6.11 13.161 16 3.093 12.955 0 0 13.161l12.955 13.161z\" fill=\"#fff\"></path></svg></div></section><section class=\"_167Mu3 _2hbLCH\"><div class=\"_213eRC _2ssEMF\"><div class=\"_2gmUFU _3V8rao\">Secondary Camera</div><svg class=\"ttx38n\" height=\"27\" viewbox=\"0 0 16 27\" width=\"16\" xmlns=\"http://www.w3.org/2000/svg\"><path class=\"IIvmWM\" d=\"M16 23.207L6.11 13.161 16 3.093 12.955 0 0 13.161l12.955 13.161z\" fill=\"#fff\"></path></svg></div></section><section class=\"_167Mu3 _2hbLCH\"><div class=\"_213eRC _2ssEMF\"><div class=\"_2gmUFU _3V8rao\">Processor Brand</div><svg class=\"ttx38n\" height=\"27\" viewbox=\"0 0 16 27\" width=\"16\" xmlns=\"http://www.w3.org/2000/svg\"><path class=\"IIvmWM\" d=\"M16 23.207L6.11 13.161 16 3.093 12.955 0 0 13.161l12.955 13.161z\" fill=\"#fff\"></path></svg></div></section><section class=\"_167Mu3 _2hbLCH\"><div class=\"_213eRC _2ssEMF\"><div class=\"_2gmUFU _3V8rao\">Speciality</div><svg class=\"ttx38n\" height=\"27\" viewbox=\"0 0 16 27\" width=\"16\" xmlns=\"http://www.w3.org/2000/svg\"><path class=\"IIvmWM\" d=\"M16 23.207L6.11 13.161 16 3.093 12.955 0 0 13.161l12.955 13.161z\" fill=\"#fff\"></path></svg></div></section><section class=\"_167Mu3 _2hbLCH\"><div class=\"_213eRC _2ssEMF\"><div class=\"_2gmUFU _3V8rao\">Resolution Type</div><svg class=\"ttx38n\" height=\"27\" viewbox=\"0 0 16 27\" width=\"16\" xmlns=\"http://www.w3.org/2000/svg\"><path class=\"IIvmWM\" d=\"M16 23.207L6.11 13.161 16 3.093 12.955 0 0 13.161l12.955 13.161z\" fill=\"#fff\"></path></svg></div></section><section class=\"_167Mu3 _2hbLCH\"><div class=\"_213eRC _2ssEMF\"><div class=\"_2gmUFU _3V8rao\">Operating System</div><svg class=\"ttx38n\" height=\"27\" viewbox=\"0 0 16 27\" width=\"16\" xmlns=\"http://www.w3.org/2000/svg\"><path class=\"IIvmWM\" d=\"M16 23.207L6.11 13.161 16 3.093 12.955 0 0 13.161l12.955 13.161z\" fill=\"#fff\"></path></svg></div></section><section class=\"_167Mu3 _2hbLCH\"><div class=\"_213eRC _2ssEMF\"><div class=\"_2gmUFU _3V8rao\">Network Type</div><svg class=\"ttx38n\" height=\"27\" viewbox=\"0 0 16 27\" width=\"16\" xmlns=\"http://www.w3.org/2000/svg\"><path class=\"IIvmWM\" d=\"M16 23.207L6.11 13.161 16 3.093 12.955 0 0 13.161l12.955 13.161z\" fill=\"#fff\"></path></svg></div></section><section class=\"_167Mu3 _2hbLCH\"><div class=\"_213eRC _2ssEMF\"><div class=\"_2gmUFU _3V8rao\">Sim Type</div><svg class=\"ttx38n\" height=\"27\" viewbox=\"0 0 16 27\" width=\"16\" xmlns=\"http://www.w3.org/2000/svg\"><path class=\"IIvmWM\" d=\"M16 23.207L6.11 13.161 16 3.093 12.955 0 0 13.161l12.955 13.161z\" fill=\"#fff\"></path></svg></div></section><section class=\"_167Mu3 _2hbLCH\"><div class=\"_213eRC _2ssEMF\"><div class=\"_2gmUFU _3V8rao\">Offers</div><svg class=\"ttx38n _3DyGEM\" height=\"27\" viewbox=\"0 0 16 27\" width=\"16\" xmlns=\"http://www.w3.org/2000/svg\"><path class=\"IIvmWM\" d=\"M16 23.207L6.11 13.161 16 3.093 12.955 0 0 13.161l12.955 13.161z\" fill=\"#fff\"></path></svg></div><div class=\"_3FPh42\"><div class=\"_2d0we9\"><div class=\"_4921Z t0pPfW\" title=\"Buy More, Save More\"><div class=\"_1Y4Vhm _4FO7b6\"><label class=\"_2iDkf8 t0pPfW\"><input class=\"_30VH1S\" readonly=\"\" type=\"checkbox\"/><div class=\"_24_Dny\"></div><div class=\"_3879cV\">Buy More, Save More</div></label></div></div><div class=\"_4921Z t0pPfW\" title=\"No Cost EMI\"><div class=\"_1Y4Vhm _4FO7b6\"><label class=\"_2iDkf8 t0pPfW\"><input class=\"_30VH1S\" readonly=\"\" type=\"checkbox\"/><div class=\"_24_Dny\"></div><div class=\"_3879cV\">No Cost EMI</div></label></div></div><div class=\"_4921Z t0pPfW\" title=\"Special Price\"><div class=\"_1Y4Vhm _4FO7b6\"><label class=\"_2iDkf8 t0pPfW\"><input class=\"_30VH1S\" readonly=\"\" type=\"checkbox\"/><div class=\"_24_Dny\"></div><div class=\"_3879cV\">Special Price</div></label></div></div></div></div></section><section class=\"_167Mu3 _2hbLCH\"><div class=\"_213eRC _2ssEMF\"><div class=\"_2gmUFU _3V8rao\">Features</div><svg class=\"ttx38n\" height=\"27\" viewbox=\"0 0 16 27\" width=\"16\" xmlns=\"http://www.w3.org/2000/svg\"><path class=\"IIvmWM\" d=\"M16 23.207L6.11 13.161 16 3.093 12.955 0 0 13.161l12.955 13.161z\" fill=\"#fff\"></path></svg></div></section><section class=\"_167Mu3 _2hbLCH\"><div class=\"_213eRC _2ssEMF\"><div class=\"_2gmUFU _3V8rao\">Type</div><svg class=\"ttx38n\" height=\"27\" viewbox=\"0 0 16 27\" width=\"16\" xmlns=\"http://www.w3.org/2000/svg\"><path class=\"IIvmWM\" d=\"M16 23.207L6.11 13.161 16 3.093 12.955 0 0 13.161l12.955 13.161z\" fill=\"#fff\"></path></svg></div></section><section class=\"_167Mu3 _2hbLCH\"><div class=\"_213eRC _2ssEMF\"><div class=\"_2gmUFU _3V8rao\">Number of Cores</div><svg class=\"ttx38n\" height=\"27\" viewbox=\"0 0 16 27\" width=\"16\" xmlns=\"http://www.w3.org/2000/svg\"><path class=\"IIvmWM\" d=\"M16 23.207L6.11 13.161 16 3.093 12.955 0 0 13.161l12.955 13.161z\" fill=\"#fff\"></path></svg></div></section><section class=\"_167Mu3 _2hbLCH\"><div class=\"_213eRC _2ssEMF\"><div class=\"_2gmUFU _3V8rao\">Availability</div><svg class=\"ttx38n\" height=\"27\" viewbox=\"0 0 16 27\" width=\"16\" xmlns=\"http://www.w3.org/2000/svg\"><path class=\"IIvmWM\" d=\"M16 23.207L6.11 13.161 16 3.093 12.955 0 0 13.161l12.955 13.161z\" fill=\"#fff\"></path></svg></div></section><section class=\"_167Mu3 _2hbLCH\"><div class=\"_213eRC _2ssEMF\"><div class=\"_2gmUFU _3V8rao\">Discount</div><svg class=\"ttx38n _3DyGEM\" height=\"27\" viewbox=\"0 0 16 27\" width=\"16\" xmlns=\"http://www.w3.org/2000/svg\"><path class=\"IIvmWM\" d=\"M16 23.207L6.11 13.161 16 3.093 12.955 0 0 13.161l12.955 13.161z\" fill=\"#fff\"></path></svg></div><div class=\"_3FPh42\"><div class=\"_2d0we9\"><div class=\"_4921Z t0pPfW\" title=\"50% or more\"><div class=\"_1Y4Vhm _4FO7b6\"><label class=\"_2iDkf8 t0pPfW\"><input class=\"_30VH1S\" readonly=\"\" type=\"checkbox\"/><div class=\"_24_Dny\"></div><div class=\"_3879cV\">50% or more</div></label></div></div><div class=\"_4921Z t0pPfW\" title=\"40% or more\"><div class=\"_1Y4Vhm _4FO7b6\"><label class=\"_2iDkf8 t0pPfW\"><input class=\"_30VH1S\" readonly=\"\" type=\"checkbox\"/><div class=\"_24_Dny\"></div><div class=\"_3879cV\">40% or more</div></label></div></div><div class=\"_4921Z t0pPfW\" title=\"30% or more\"><div class=\"_1Y4Vhm _4FO7b6\"><label class=\"_2iDkf8 t0pPfW\"><input class=\"_30VH1S\" readonly=\"\" type=\"checkbox\"/><div class=\"_24_Dny\"></div><div class=\"_3879cV\">30% or more</div></label></div></div><div class=\"_4921Z t0pPfW\" title=\"20% or more\"><div class=\"_1Y4Vhm _4FO7b6\"><label class=\"_2iDkf8 t0pPfW\"><input class=\"_30VH1S\" readonly=\"\" type=\"checkbox\"/><div class=\"_24_Dny\"></div><div class=\"_3879cV\">20% or more</div></label></div></div><div class=\"_4921Z t0pPfW\" title=\"10% or more\"><div class=\"_1Y4Vhm _4FO7b6\"><label class=\"_2iDkf8 t0pPfW\"><input class=\"_30VH1S\" readonly=\"\" type=\"checkbox\"/><div class=\"_24_Dny\"></div><div class=\"_3879cV\">10% or more</div></label></div></div></div></div></section><section class=\"_167Mu3 _2hbLCH\"><div class=\"_213eRC _2ssEMF\"><div class=\"_2gmUFU _3V8rao\">Operating System Version Name</div><svg class=\"ttx38n\" height=\"27\" viewbox=\"0 0 16 27\" width=\"16\" xmlns=\"http://www.w3.org/2000/svg\"><path class=\"IIvmWM\" d=\"M16 23.207L6.11 13.161 16 3.093 12.955 0 0 13.161l12.955 13.161z\" fill=\"#fff\"></path></svg></div></section><section class=\"_167Mu3 _2hbLCH\"><div class=\"_213eRC _2ssEMF\"><div class=\"_2gmUFU _3V8rao\">Clock Speed</div><svg class=\"ttx38n\" height=\"27\" viewbox=\"0 0 16 27\" width=\"16\" xmlns=\"http://www.w3.org/2000/svg\"><path class=\"IIvmWM\" d=\"M16 23.207L6.11 13.161 16 3.093 12.955 0 0 13.161l12.955 13.161z\" fill=\"#fff\"></path></svg></div></section></div></div><div class=\"_1AtVbE col-12-12\"><a class=\"_1nY1tt\" href=\"/buying-guide/mobiles?sid=tyy,4io&amp;otracker=bg_from_browse_lhs\" title=\"Buying Guide\"><div><span>Need help?</span></div><div class=\"_1mVNvF\"><span>Help me decide</span><svg class=\"ViewtL\" height=\"27\" viewbox=\"0 0 16 27\" width=\"16\" xmlns=\"http://www.w3.org/2000/svg\"><path class=\"_2Zt1Py\" d=\"M16 23.207L6.11 13.161 16 3.093 12.955 0 0 13.161l12.955 13.161z\" fill=\"#fff\"></path></svg></div><img alt=\"Buying Guide\" src=\"//static-assets-web.flixcart.com/fk-p-linchpin-web/fk-cp-zion/img/buying-guide-illustration_4dd325.png\"/></a></div></div></div><div class=\"_1YokD2 _3Mn1Gg\" style=\"flex-grow:1;overflow:auto\"><div class=\"_1YokD2 _2GoDe3 col-12-12\" style=\"background-color:#ffffff;align-items:flex-end\"><div class=\"_1AtVbE\" style=\"flex-grow:1;overflow:auto\"><div class=\"W_R1IA\"><div class=\"_1MR4o5\"><div class=\"_3GIHBu\"><a class=\"_2whKao\" href=\"/\">Home</a><svg class=\"_39X-Og\" height=\"27\" viewbox=\"0 0 16 27\" width=\"16\" xmlns=\"http://www.w3.org/2000/svg\"><path class=\"DpXnhQ\" d=\"M16 23.207L6.11 13.161 16 3.093 12.955 0 0 13.161l12.955 13.161z\" fill=\"#fff\"></path></svg></div><div class=\"_3GIHBu\"><a class=\"_2whKao\" href=\"/mobiles-accessories/pr?sid=tyy&amp;marketplace=FLIPKART\">Mobiles &amp; Accessories</a><svg class=\"_39X-Og\" height=\"27\" viewbox=\"0 0 16 27\" width=\"16\" xmlns=\"http://www.w3.org/2000/svg\"><path class=\"DpXnhQ\" d=\"M16 23.207L6.11 13.161 16 3.093 12.955 0 0 13.161l12.955 13.161z\" fill=\"#fff\"></path></svg></div><div class=\"_3GIHBu\"><a class=\"_2whKao\" href=\"/mobiles/pr?sid=tyy,4io&amp;marketplace=FLIPKART\">Mobiles</a><svg class=\"_39X-Og\" height=\"27\" viewbox=\"0 0 16 27\" width=\"16\" xmlns=\"http://www.w3.org/2000/svg\"><path class=\"DpXnhQ\" d=\"M16 23.207L6.11 13.161 16 3.093 12.955 0 0 13.161l12.955 13.161z\" fill=\"#fff\"></path></svg></div></div><span class=\"_10Ermr\">Showing 1 – 24 of 7,825 results for \"<span>mobiles under 50000</span>\"</span><div class=\"_5THWM1\"><span class=\"_2i7N3j\">Sort By</span><div class=\"_10UF8M _3LsR0e\">Relevance</div><div class=\"_10UF8M\">Popularity</div><div class=\"_10UF8M\">Price -- Low to High</div><div class=\"_10UF8M\">Price -- High to Low</div><div class=\"_10UF8M\">Newest First</div></div></div></div></div><div class=\"_1AtVbE col-12-12\"><div class=\"_13oc-S\"><div data-id=\"MOBFWQ6BKRYBP5X8\" style=\"width:100%\"><div class=\"_2kHMtA\"><a class=\"_1fQZEK\" href=\"/apple-iphone-11-black-128-gb/p/itm8244e8d955aba?pid=MOBFWQ6BKRYBP5X8&amp;lid=LSTMOBFWQ6BKRYBP5X8IBG6BS&amp;marketplace=FLIPKART&amp;q=mobiles+under+50000&amp;store=tyy%2F4io&amp;srno=s_1_1&amp;otracker=search&amp;otracker1=search&amp;fm=organic&amp;iid=cadfb0f9-a759-4480-83a6-1ee3f391045e.MOBFWQ6BKRYBP5X8.SEARCH&amp;ppt=None&amp;ppn=None&amp;ssid=8vneci3w3k0000001680772066447&amp;qH=8b60bcb863f60970\" rel=\"noopener noreferrer\" target=\"_blank\"><div class=\"MIXNux\"><div class=\"_2QcLo-\"><div><div class=\"CXW8mj\" style=\"height:200px;width:200px\"><img alt=\"APPLE iPhone 11 (Black, 128 GB)\" class=\"_396cs4\" loading=\"eager\" src=\"https://rukminim1.flixcart.com/image/312/312/k2jbyq80pkrrdj/mobile-refurbished/x/j/s/iphone-11-128-d-mwm02hn-a-apple-0-original-imafkg242ugz8hwc.jpeg?q=70\"/></div></div></div><div class=\"_3wLduG\"><div class=\"_3PzNI-\"><span class=\"f3A4_V\"><label class=\"_2iDkf8\"><input class=\"_30VH1S\" readonly=\"\" type=\"checkbox\"/><div class=\"_24_Dny\"></div></label></span><label class=\"_6Up2sF\"><span>Add to Compare</span></label></div></div><div class=\"_2hVSre _3nq8ih\"><div class=\"_36FSn5\"><svg class=\"_1l0elc\" height=\"16\" viewbox=\"0 0 20 16\" width=\"16\" xmlns=\"http://www.w3.org/2000/svg\"><path class=\"eX72wL\" d=\"M8.695 16.682C4.06 12.382 1 9.536 1 6.065 1 3.219 3.178 1 5.95 1c1.566 0 3.069.746 4.05 1.915C10.981 1.745 12.484 1 14.05 1 16.822 1 19 3.22 19 6.065c0 3.471-3.06 6.316-7.695 10.617L10 17.897l-1.305-1.215z\" fill=\"#2874F0\" fill-rule=\"evenodd\" opacity=\".9\" stroke=\"#FFF\"></path></svg></div></div></div><div class=\"_3pLy-c row\"><div class=\"col col-7-12\"><div class=\"_4rR01T\">APPLE iPhone 11 (Black, 128 GB)</div><div class=\"gUuXy-\"><span class=\"_1lRcqv\" id=\"productRating_LSTMOBFWQ6BKRYBP5X8IBG6BS_MOBFWQ6BKRYBP5X8_\"><div class=\"_3LWZlK\">4.6<img class=\"_1wB99o\" src=\"data:image/svg+xml;base64,PHN2ZyB4bWxucz0iaHR0cDovL3d3dy53My5vcmcvMjAwMC9zdmciIHdpZHRoPSIxMyIgaGVpZ2h0PSIxMiI+PHBhdGggZmlsbD0iI0ZGRiIgZD0iTTYuNSA5LjQzOWwtMy42NzQgMi4yMy45NC00LjI2LTMuMjEtMi44ODMgNC4yNTQtLjQwNEw2LjUuMTEybDEuNjkgNC4wMSA0LjI1NC40MDQtMy4yMSAyLjg4Mi45NCA0LjI2eiIvPjwvc3ZnPg==\"/></div></span><span class=\"_2_R_DZ\"><span><span>1,89,458 Ratings </span><span class=\"_13vcmD\">&amp;</span><span> 11,024 Reviews</span></span></span></div><div class=\"fMghEO\"><ul class=\"_1xgFaf\"><li class=\"rgWa7D\">128 GB ROM</li><li class=\"rgWa7D\">15.49 cm (6.1 inch) Liquid Retina HD Display</li><li class=\"rgWa7D\">12MP + 12MP | 12MP Front Camera</li><li class=\"rgWa7D\">A13 Bionic Chip Processor</li><li class=\"rgWa7D\">Brand Warranty of 1 Year</li></ul></div></div><div class=\"col col-5-12 nlI3QM\"><div class=\"_3tbKJL\"><div class=\"_25b18c\"><div class=\"_30jeq3 _1_WHN1\">₹45,999</div><div class=\"_3I9_wc _27UcVY\">₹<!-- -->48,900</div><div class=\"_3Ay6Sb\"><span>5% off</span></div></div><div class=\"_3tcB5a p8ucoS\"><div><div class=\"_2Tpdn3\" style=\"color:#000000;font-size:12px;font-weight:400\">Free delivery</div></div></div></div><div class=\"_13J9qT\"><img height=\"21\" src=\"//static-assets-web.flixcart.com/fk-p-linchpin-web/fk-cp-zion/img/fa_62673a.png\"/></div><div class=\"_2ZdXDB\"><div class=\"_3xFhiH\"><div class=\"_2Tpdn3 _18hQoS\" style=\"color:#000000;font-size:14px;font-style:normal;font-weight:400\">Upto </div><div class=\"_2Tpdn3 _18hQoS\" style=\"color:#000000;font-size:14px;font-style:normal;font-weight:700\">₹27,000</div><div class=\"_2Tpdn3 _18hQoS\" style=\"color:#000000;font-size:14px;font-style:normal;font-weight:400\"> Off on Exchange</div></div></div><div class=\"_2ZdXDB\"><div class=\"_3xFhiH\"><div class=\"_2Tpdn3 _18hQoS\" style=\"color:#26A541;font-size:14px;font-weight:700\">Bank Offer</div></div></div></div></div></a></div></div></div></div><div class=\"_1AtVbE col-12-12\"><div class=\"_13oc-S\"><div data-id=\"MOBGN3BQGU5BRTHZ\" style=\"width:100%\"><div class=\"_2kHMtA\"><a class=\"_1fQZEK\" href=\"/oneplus-11r-5g-galactic-silver-256-gb/p/itmd8344a066fd54?pid=MOBGN3BQGU5BRTHZ&amp;lid=LSTMOBGN3BQGU5BRTHZ8EIANN&amp;marketplace=FLIPKART&amp;q=mobiles+under+50000&amp;store=tyy%2F4io&amp;srno=s_1_2&amp;otracker=search&amp;otracker1=search&amp;fm=organic&amp;iid=cadfb0f9-a759-4480-83a6-1ee3f391045e.MOBGN3BQGU5BRTHZ.SEARCH&amp;ppt=None&amp;ppn=None&amp;ssid=8vneci3w3k0000001680772066447&amp;qH=8b60bcb863f60970\" rel=\"noopener noreferrer\" target=\"_blank\"><div class=\"MIXNux\"><div class=\"_2QcLo-\"><div><div class=\"CXW8mj\" style=\"height:200px;width:200px\"><img alt=\"OnePlus 11R 5G (Galactic Silver, 256 GB)\" class=\"_396cs4\" loading=\"eager\" src=\"https://rukminim1.flixcart.com/image/312/312/xif0q/mobile/y/w/l/11r-5g-5011102527-oneplus-original-imagn3bq8t4ja5rx.jpeg?q=70\"/></div></div></div><div class=\"_3wLduG\"><div class=\"_3PzNI-\"><span class=\"f3A4_V\"><label class=\"_2iDkf8\"><input class=\"_30VH1S\" readonly=\"\" type=\"checkbox\"/><div class=\"_24_Dny\"></div></label></span><label class=\"_6Up2sF\"><span>Add to Compare</span></label></div></div><div class=\"_2hVSre _3nq8ih\"><div class=\"_36FSn5\"><svg class=\"_1l0elc\" height=\"16\" viewbox=\"0 0 20 16\" width=\"16\" xmlns=\"http://www.w3.org/2000/svg\"><path class=\"eX72wL\" d=\"M8.695 16.682C4.06 12.382 1 9.536 1 6.065 1 3.219 3.178 1 5.95 1c1.566 0 3.069.746 4.05 1.915C10.981 1.745 12.484 1 14.05 1 16.822 1 19 3.22 19 6.065c0 3.471-3.06 6.316-7.695 10.617L10 17.897l-1.305-1.215z\" fill=\"#2874F0\" fill-rule=\"evenodd\" opacity=\".9\" stroke=\"#FFF\"></path></svg></div></div></div><div class=\"_3pLy-c row\"><div class=\"col col-7-12\"><div class=\"_4rR01T\">OnePlus 11R 5G (Galactic Silver, 256 GB)</div><div class=\"gUuXy-\"><span class=\"_1lRcqv\" id=\"productRating_LSTMOBGN3BQGU5BRTHZ8EIANN_MOBGN3BQGU5BRTHZ_\"><div class=\"_3LWZlK\">4.7<img class=\"_1wB99o\" src=\"data:image/svg+xml;base64,PHN2ZyB4bWxucz0iaHR0cDovL3d3dy53My5vcmcvMjAwMC9zdmciIHdpZHRoPSIxMyIgaGVpZ2h0PSIxMiI+PHBhdGggZmlsbD0iI0ZGRiIgZD0iTTYuNSA5LjQzOWwtMy42NzQgMi4yMy45NC00LjI2LTMuMjEtMi44ODMgNC4yNTQtLjQwNEw2LjUuMTEybDEuNjkgNC4wMSA0LjI1NC40MDQtMy4yMSAyLjg4Mi45NCA0LjI2eiIvPjwvc3ZnPg==\"/></div></span><span class=\"_2_R_DZ\"><span><span>219 Ratings </span><span class=\"_13vcmD\">&amp;</span><span> 10 Reviews</span></span></span></div><div class=\"fMghEO\"><ul class=\"_1xgFaf\"><li class=\"rgWa7D\">16 GB RAM | 256 GB ROM</li><li class=\"rgWa7D\">17.02 cm (6.7 inch) Display</li><li class=\"rgWa7D\">50MP Rear Camera</li><li class=\"rgWa7D\">5000 mAh Battery</li><li class=\"rgWa7D\">Domestic warranty of 12 months on phone &amp; 6 months on accessories</li></ul></div></div><div class=\"col col-5-12 nlI3QM\"><div class=\"_3tbKJL\"><div class=\"_25b18c\"><div class=\"_30jeq3 _1_WHN1\">₹44,645</div><div class=\"_3I9_wc _27UcVY\">₹<!-- -->44,999</div></div><div class=\"_3tcB5a p8ucoS\"><div><div class=\"_2Tpdn3\" style=\"color:#000000;font-size:12px;font-weight:400\">Free delivery</div></div></div></div><div class=\"_13J9qT\"><img height=\"21\" src=\"//static-assets-web.flixcart.com/fk-p-linchpin-web/fk-cp-zion/img/fa_62673a.png\"/></div><div class=\"_2ZdXDB\"><div class=\"_3xFhiH\"><div class=\"_2Tpdn3 _18hQoS\" style=\"color:#000000;font-size:12px;font-weight:400\">No Cost EMI from ₹7,441/month</div></div></div><div class=\"_2ZdXDB\"><div class=\"_3xFhiH\"><div class=\"_2Tpdn3 _18hQoS\" style=\"color:#26A541;font-size:14px;font-weight:700\">Bank Offer</div></div></div></div></div></a></div></div></div></div><div class=\"_1AtVbE col-12-12\"><div class=\"_13oc-S\"><div data-id=\"MOBGNE4S9UY84GD6\" style=\"width:100%\"><div class=\"_2kHMtA\"><a class=\"_1fQZEK\" href=\"/samsung-galaxy-a54-5g-awesome-graphite-256-gb/p/itm205731bda3f72?pid=MOBGNE4S9UY84GD6&amp;lid=LSTMOBGNE4S9UY84GD6BAR8RB&amp;marketplace=FLIPKART&amp;q=mobiles+under+50000&amp;store=tyy%2F4io&amp;srno=s_1_3&amp;otracker=search&amp;otracker1=search&amp;fm=organic&amp;iid=cadfb0f9-a759-4480-83a6-1ee3f391045e.MOBGNE4S9UY84GD6.SEARCH&amp;ppt=None&amp;ppn=None&amp;ssid=8vneci3w3k0000001680772066447&amp;qH=8b60bcb863f60970\" rel=\"noopener noreferrer\" target=\"_blank\"><div class=\"MIXNux\"><div class=\"_2QcLo-\"><div><div class=\"CXW8mj\" style=\"height:200px;width:200px\"><img alt=\"SAMSUNG Galaxy A54 5G (Awesome Graphite, 256 GB)\" class=\"_396cs4\" loading=\"eager\" src=\"https://rukminim1.flixcart.com/image/312/312/xif0q/mobile/2/a/t/-original-imagnrhknw9pbg3t.jpeg?q=70\"/></div></div></div><div class=\"_3wLduG\"><div class=\"_3PzNI-\"><span class=\"f3A4_V\"><label class=\"_2iDkf8\"><input class=\"_30VH1S\" readonly=\"\" type=\"checkbox\"/><div class=\"_24_Dny\"></div></label></span><label class=\"_6Up2sF\"><span>Add to Compare</span></label></div></div><div class=\"_2hVSre _3nq8ih\"><div class=\"_36FSn5\"><svg class=\"_1l0elc\" height=\"16\" viewbox=\"0 0 20 16\" width=\"16\" xmlns=\"http://www.w3.org/2000/svg\"><path class=\"eX72wL\" d=\"M8.695 16.682C4.06 12.382 1 9.536 1 6.065 1 3.219 3.178 1 5.95 1c1.566 0 3.069.746 4.05 1.915C10.981 1.745 12.484 1 14.05 1 16.822 1 19 3.22 19 6.065c0 3.471-3.06 6.316-7.695 10.617L10 17.897l-1.305-1.215z\" fill=\"#2874F0\" fill-rule=\"evenodd\" opacity=\".9\" stroke=\"#FFF\"></path></svg></div></div></div><div class=\"_3pLy-c row\"><div class=\"col col-7-12\"><div class=\"_4rR01T\">SAMSUNG Galaxy A54 5G (Awesome Graphite, 256 GB)</div><div class=\"gUuXy-\"><span class=\"_1lRcqv\" id=\"productRating_LSTMOBGNE4S9UY84GD6BAR8RB_MOBGNE4S9UY84GD6_\"><div class=\"_3LWZlK\">4.4<img class=\"_1wB99o\" src=\"data:image/svg+xml;base64,PHN2ZyB4bWxucz0iaHR0cDovL3d3dy53My5vcmcvMjAwMC9zdmciIHdpZHRoPSIxMyIgaGVpZ2h0PSIxMiI+PHBhdGggZmlsbD0iI0ZGRiIgZD0iTTYuNSA5LjQzOWwtMy42NzQgMi4yMy45NC00LjI2LTMuMjEtMi44ODMgNC4yNTQtLjQwNEw2LjUuMTEybDEuNjkgNC4wMSA0LjI1NC40MDQtMy4yMSAyLjg4Mi45NCA0LjI2eiIvPjwvc3ZnPg==\"/></div></span><span class=\"_2_R_DZ\"><span><span>36 Ratings </span><span class=\"_13vcmD\">&amp;</span><span> 6 Reviews</span></span></span></div><div class=\"fMghEO\"><ul class=\"_1xgFaf\"><li class=\"rgWa7D\">8 GB RAM | 256 GB ROM | Expandable Upto 1 TB</li><li class=\"rgWa7D\">16.26 cm (6.4 inch) Full HD+ Display</li><li class=\"rgWa7D\">50MP + 12MP + 5MP | 32MP Front Camera</li><li class=\"rgWa7D\">5000 mAh Battery</li><li class=\"rgWa7D\">Exynos 1380, Octa Core Processor</li><li class=\"rgWa7D\">1 Year Manufacturer Warranty for Device and 6 Months Manufacturer Warranty for In-Box Accessories</li></ul></div></div><div class=\"col col-5-12 nlI3QM\"><div class=\"_3tbKJL\"><div class=\"_25b18c\"><div class=\"_30jeq3 _1_WHN1\">₹40,999</div><div class=\"_3I9_wc _27UcVY\">₹<!-- -->45,999</div><div class=\"_3Ay6Sb\"><span>10% off</span></div></div><div class=\"_3tcB5a p8ucoS\"><div><div class=\"_2Tpdn3\" style=\"color:#000000;font-size:12px;font-weight:400\">Free delivery</div></div></div></div><div class=\"_13J9qT\"><img height=\"21\" src=\"//static-assets-web.flixcart.com/fk-p-linchpin-web/fk-cp-zion/img/fa_62673a.png\"/></div><div class=\"_2ZdXDB\"><div class=\"_3xFhiH\"><div class=\"_2Tpdn3 _18hQoS\" style=\"color:#26A541;font-size:12px;font-weight:700\">Daily Saver</div></div></div><div class=\"_2ZdXDB\"><div class=\"_3xFhiH\"><div class=\"_2Tpdn3 _18hQoS\" style=\"color:#000000;font-size:14px;font-style:normal;font-weight:400\">Upto </div><div class=\"_2Tpdn3 _18hQoS\" style=\"color:#000000;font-size:14px;font-style:normal;font-weight:700\">₹29,000</div><div class=\"_2Tpdn3 _18hQoS\" style=\"color:#000000;font-size:14px;font-style:normal;font-weight:400\"> Off on Exchange</div></div></div></div></div></a></div></div></div></div><div class=\"_1AtVbE col-12-12\"><div class=\"_13oc-S\"><div data-id=\"MOBGNE4SXSWFUKEQ\" style=\"width:100%\"><div class=\"_2kHMtA\"><a class=\"_1fQZEK\" href=\"/samsung-galaxy-a54-5g-awesome-violet-256-gb/p/itmb5157c4fec810?pid=MOBGNE4SXSWFUKEQ&amp;lid=LSTMOBGNE4SXSWFUKEQDYVSA7&amp;marketplace=FLIPKART&amp;q=mobiles+under+50000&amp;store=tyy%2F4io&amp;srno=s_1_4&amp;otracker=search&amp;otracker1=search&amp;fm=organic&amp;iid=cadfb0f9-a759-4480-83a6-1ee3f391045e.MOBGNE4SXSWFUKEQ.SEARCH&amp;ppt=None&amp;ppn=None&amp;ssid=8vneci3w3k0000001680772066447&amp;qH=8b60bcb863f60970\" rel=\"noopener noreferrer\" target=\"_blank\"><div class=\"MIXNux\"><div class=\"_2QcLo-\"><div><div class=\"CXW8mj\" style=\"height:200px;width:200px\"><img alt=\"SAMSUNG Galaxy A54 5G (Awesome Violet, 256 GB)\" class=\"_396cs4\" loading=\"eager\" src=\"https://rukminim1.flixcart.com/image/312/312/xif0q/mobile/t/h/6/-original-imagnrhk2jpnnajr.jpeg?q=70\"/></div></div></div><div class=\"_3wLduG\"><div class=\"_3PzNI-\"><span class=\"f3A4_V\"><label class=\"_2iDkf8\"><input class=\"_30VH1S\" readonly=\"\" type=\"checkbox\"/><div class=\"_24_Dny\"></div></label></span><label class=\"_6Up2sF\"><span>Add to Compare</span></label></div></div><div class=\"_2hVSre _3nq8ih\"><div class=\"_36FSn5\"><svg class=\"_1l0elc\" height=\"16\" viewbox=\"0 0 20 16\" width=\"16\" xmlns=\"http://www.w3.org/2000/svg\"><path class=\"eX72wL\" d=\"M8.695 16.682C4.06 12.382 1 9.536 1 6.065 1 3.219 3.178 1 5.95 1c1.566 0 3.069.746 4.05 1.915C10.981 1.745 12.484 1 14.05 1 16.822 1 19 3.22 19 6.065c0 3.471-3.06 6.316-7.695 10.617L10 17.897l-1.305-1.215z\" fill=\"#2874F0\" fill-rule=\"evenodd\" opacity=\".9\" stroke=\"#FFF\"></path></svg></div></div></div><div class=\"_3pLy-c row\"><div class=\"col col-7-12\"><div class=\"_4rR01T\">SAMSUNG Galaxy A54 5G (Awesome Violet, 256 GB)</div><div class=\"gUuXy-\"><span class=\"_1lRcqv\" id=\"productRating_LSTMOBGNE4SXSWFUKEQDYVSA7_MOBGNE4SXSWFUKEQ_\"><div class=\"_3LWZlK\">4.4<img class=\"_1wB99o\" src=\"data:image/svg+xml;base64,PHN2ZyB4bWxucz0iaHR0cDovL3d3dy53My5vcmcvMjAwMC9zdmciIHdpZHRoPSIxMyIgaGVpZ2h0PSIxMiI+PHBhdGggZmlsbD0iI0ZGRiIgZD0iTTYuNSA5LjQzOWwtMy42NzQgMi4yMy45NC00LjI2LTMuMjEtMi44ODMgNC4yNTQtLjQwNEw2LjUuMTEybDEuNjkgNC4wMSA0LjI1NC40MDQtMy4yMSAyLjg4Mi45NCA0LjI2eiIvPjwvc3ZnPg==\"/></div></span><span class=\"_2_R_DZ\"><span><span>36 Ratings </span><span class=\"_13vcmD\">&amp;</span><span> 6 Reviews</span></span></span></div><div class=\"fMghEO\"><ul class=\"_1xgFaf\"><li class=\"rgWa7D\">8 GB RAM | 256 GB ROM | Expandable Upto 1 TB</li><li class=\"rgWa7D\">16.26 cm (6.4 inch) Full HD+ Display</li><li class=\"rgWa7D\">50MP + 12MP + 5MP | 32MP Front Camera</li><li class=\"rgWa7D\">5000 mAh Battery</li><li class=\"rgWa7D\">Exynos 1380, Octa Core Processor</li><li class=\"rgWa7D\">1 Year Manufacturer Warranty for Device and 6 Months Manufacturer Warranty for In-Box Accessories</li></ul></div></div><div class=\"col col-5-12 nlI3QM\"><div class=\"_3tbKJL\"><div class=\"_25b18c\"><div class=\"_30jeq3 _1_WHN1\">₹40,999</div><div class=\"_3I9_wc _27UcVY\">₹<!-- -->45,999</div><div class=\"_3Ay6Sb\"><span>10% off</span></div></div><div class=\"_3tcB5a p8ucoS\"><div><div class=\"_2Tpdn3\" style=\"color:#000000;font-size:12px;font-weight:400\">Free delivery</div></div></div></div><div class=\"_13J9qT\"><img height=\"21\" src=\"//static-assets-web.flixcart.com/fk-p-linchpin-web/fk-cp-zion/img/fa_62673a.png\"/></div><div class=\"_2ZdXDB\"><div class=\"_3xFhiH\"><div class=\"_2Tpdn3 _18hQoS\" style=\"color:#26A541;font-size:12px;font-weight:700\">Daily Saver</div></div></div><div class=\"_2ZdXDB\"><div class=\"_3xFhiH\"><div class=\"_2Tpdn3 _18hQoS\" style=\"color:#000000;font-size:14px;font-style:normal;font-weight:400\">Upto </div><div class=\"_2Tpdn3 _18hQoS\" style=\"color:#000000;font-size:14px;font-style:normal;font-weight:700\">₹29,000</div><div class=\"_2Tpdn3 _18hQoS\" style=\"color:#000000;font-size:14px;font-style:normal;font-weight:400\"> Off on Exchange</div></div></div></div></div></a></div></div></div></div><div class=\"_1AtVbE col-12-12\"><div class=\"_13oc-S\"><div data-id=\"MOBFWQ6BEZTNK59G\" style=\"width:100%\"><div class=\"_2kHMtA\"><a class=\"_1fQZEK\" href=\"/apple-iphone-11-red-128-gb/p/itm8d14bd0e33a1c?pid=MOBFWQ6BEZTNK59G&amp;lid=LSTMOBFWQ6BEZTNK59G4PTPDM&amp;marketplace=FLIPKART&amp;q=mobiles+under+50000&amp;store=tyy%2F4io&amp;srno=s_1_5&amp;otracker=search&amp;otracker1=search&amp;fm=organic&amp;iid=cadfb0f9-a759-4480-83a6-1ee3f391045e.MOBFWQ6BEZTNK59G.SEARCH&amp;ppt=None&amp;ppn=None&amp;ssid=8vneci3w3k0000001680772066447&amp;qH=8b60bcb863f60970\" rel=\"noopener noreferrer\" target=\"_blank\"><div class=\"MIXNux\"><div class=\"_2QcLo-\"><div><div class=\"CXW8mj\" style=\"height:200px;width:200px\"><img alt=\"APPLE iPhone 11 (Red, 128 GB)\" class=\"_396cs4\" loading=\"eager\" src=\"https://rukminim1.flixcart.com/image/312/312/k2jbyq80pkrrdj/mobile-refurbished/q/z/g/iphone-11-128-a-mwm32hn-a-apple-0-original-imafkg25hjmuy98e.jpeg?q=70\"/></div></div></div><div class=\"_3wLduG\"><div class=\"_3PzNI-\"><span class=\"f3A4_V\"><label class=\"_2iDkf8\"><input class=\"_30VH1S\" readonly=\"\" type=\"checkbox\"/><div class=\"_24_Dny\"></div></label></span><label class=\"_6Up2sF\"><span>Add to Compare</span></label></div></div><div class=\"_2hVSre _3nq8ih\"><div class=\"_36FSn5\"><svg class=\"_1l0elc\" height=\"16\" viewbox=\"0 0 20 16\" width=\"16\" xmlns=\"http://www.w3.org/2000/svg\"><path class=\"eX72wL\" d=\"M8.695 16.682C4.06 12.382 1 9.536 1 6.065 1 3.219 3.178 1 5.95 1c1.566 0 3.069.746 4.05 1.915C10.981 1.745 12.484 1 14.05 1 16.822 1 19 3.22 19 6.065c0 3.471-3.06 6.316-7.695 10.617L10 17.897l-1.305-1.215z\" fill=\"#2874F0\" fill-rule=\"evenodd\" opacity=\".9\" stroke=\"#FFF\"></path></svg></div></div></div><div class=\"_3pLy-c row\"><div class=\"col col-7-12\"><div class=\"_4rR01T\">APPLE iPhone 11 (Red, 128 GB)</div><div class=\"gUuXy-\"><span class=\"_1lRcqv\" id=\"productRating_LSTMOBFWQ6BEZTNK59G4PTPDM_MOBFWQ6BEZTNK59G_\"><div class=\"_3LWZlK\">4.6<img class=\"_1wB99o\" src=\"data:image/svg+xml;base64,PHN2ZyB4bWxucz0iaHR0cDovL3d3dy53My5vcmcvMjAwMC9zdmciIHdpZHRoPSIxMyIgaGVpZ2h0PSIxMiI+PHBhdGggZmlsbD0iI0ZGRiIgZD0iTTYuNSA5LjQzOWwtMy42NzQgMi4yMy45NC00LjI2LTMuMjEtMi44ODMgNC4yNTQtLjQwNEw2LjUuMTEybDEuNjkgNC4wMSA0LjI1NC40MDQtMy4yMSAyLjg4Mi45NCA0LjI2eiIvPjwvc3ZnPg==\"/></div></span><span class=\"_2_R_DZ\"><span><span>1,89,458 Ratings </span><span class=\"_13vcmD\">&amp;</span><span> 11,024 Reviews</span></span></span></div><div class=\"fMghEO\"><ul class=\"_1xgFaf\"><li class=\"rgWa7D\">128 GB ROM</li><li class=\"rgWa7D\">15.49 cm (6.1 inch) Liquid Retina HD Display</li><li class=\"rgWa7D\">12MP + 12MP | 12MP Front Camera</li><li class=\"rgWa7D\">A13 Bionic Chip Processor</li><li class=\"rgWa7D\">Brand Warranty of 1 Year</li></ul></div></div><div class=\"col col-5-12 nlI3QM\"><div class=\"_3tbKJL\"><div class=\"_25b18c\"><div class=\"_30jeq3 _1_WHN1\">₹45,999</div><div class=\"_3I9_wc _27UcVY\">₹<!-- -->48,900</div><div class=\"_3Ay6Sb\"><span>5% off</span></div></div><div class=\"_3tcB5a p8ucoS\"><div><div class=\"_2Tpdn3\" style=\"color:#000000;font-size:12px;font-weight:400\">Free delivery</div></div></div></div><div class=\"_13J9qT\"><img height=\"21\" src=\"//static-assets-web.flixcart.com/fk-p-linchpin-web/fk-cp-zion/img/fa_62673a.png\"/></div><div class=\"_2ZdXDB\"><div class=\"_3xFhiH\"><div class=\"_2Tpdn3 _18hQoS\" style=\"color:#000000;font-size:14px;font-style:normal;font-weight:400\">Upto </div><div class=\"_2Tpdn3 _18hQoS\" style=\"color:#000000;font-size:14px;font-style:normal;font-weight:700\">₹27,000</div><div class=\"_2Tpdn3 _18hQoS\" style=\"color:#000000;font-size:14px;font-style:normal;font-weight:400\"> Off on Exchange</div></div></div><div class=\"_2ZdXDB\"><div class=\"_3xFhiH\"><div class=\"_2Tpdn3 _18hQoS\" style=\"color:#26A541;font-size:14px;font-weight:700\">Bank Offer</div></div></div></div></div></a></div></div></div></div><div class=\"_1AtVbE col-12-12\"><div class=\"_13oc-S\"><div data-id=\"MOBFWQ6B7KKRXDDS\" style=\"width:100%\"><div class=\"_2kHMtA\"><a class=\"_1fQZEK\" href=\"/apple-iphone-11-white-128-gb/p/itme32df47ea6742?pid=MOBFWQ6B7KKRXDDS&amp;lid=LSTMOBFWQ6B7KKRXDDSULUZ0N&amp;marketplace=FLIPKART&amp;q=mobiles+under+50000&amp;store=tyy%2F4io&amp;srno=s_1_6&amp;otracker=search&amp;otracker1=search&amp;fm=organic&amp;iid=cadfb0f9-a759-4480-83a6-1ee3f391045e.MOBFWQ6B7KKRXDDS.SEARCH&amp;ppt=None&amp;ppn=None&amp;ssid=8vneci3w3k0000001680772066447&amp;qH=8b60bcb863f60970\" rel=\"noopener noreferrer\" target=\"_blank\"><div class=\"MIXNux\"><div class=\"_2QcLo-\"><div><div class=\"CXW8mj\" style=\"height:200px;width:200px\"><img alt=\"APPLE iPhone 11 (White, 128 GB)\" class=\"_396cs4\" loading=\"eager\" src=\"https://rukminim1.flixcart.com/image/312/312/k2jbyq80pkrrdj/mobile-refurbished/k/y/d/iphone-11-256-u-mwm82hn-a-apple-0-original-imafkg25mhaztxns.jpeg?q=70\"/></div></div></div><div class=\"_3wLduG\"><div class=\"_3PzNI-\"><span class=\"f3A4_V\"><label class=\"_2iDkf8\"><input class=\"_30VH1S\" readonly=\"\" type=\"checkbox\"/><div class=\"_24_Dny\"></div></label></span><label class=\"_6Up2sF\"><span>Add to Compare</span></label></div></div><div class=\"_2hVSre _3nq8ih\"><div class=\"_36FSn5\"><svg class=\"_1l0elc\" height=\"16\" viewbox=\"0 0 20 16\" width=\"16\" xmlns=\"http://www.w3.org/2000/svg\"><path class=\"eX72wL\" d=\"M8.695 16.682C4.06 12.382 1 9.536 1 6.065 1 3.219 3.178 1 5.95 1c1.566 0 3.069.746 4.05 1.915C10.981 1.745 12.484 1 14.05 1 16.822 1 19 3.22 19 6.065c0 3.471-3.06 6.316-7.695 10.617L10 17.897l-1.305-1.215z\" fill=\"#2874F0\" fill-rule=\"evenodd\" opacity=\".9\" stroke=\"#FFF\"></path></svg></div></div></div><div class=\"_3pLy-c row\"><div class=\"col col-7-12\"><div class=\"_4rR01T\">APPLE iPhone 11 (White, 128 GB)</div><div class=\"gUuXy-\"><span class=\"_1lRcqv\" id=\"productRating_LSTMOBFWQ6B7KKRXDDSULUZ0N_MOBFWQ6B7KKRXDDS_\"><div class=\"_3LWZlK\">4.6<img class=\"_1wB99o\" src=\"data:image/svg+xml;base64,PHN2ZyB4bWxucz0iaHR0cDovL3d3dy53My5vcmcvMjAwMC9zdmciIHdpZHRoPSIxMyIgaGVpZ2h0PSIxMiI+PHBhdGggZmlsbD0iI0ZGRiIgZD0iTTYuNSA5LjQzOWwtMy42NzQgMi4yMy45NC00LjI2LTMuMjEtMi44ODMgNC4yNTQtLjQwNEw2LjUuMTEybDEuNjkgNC4wMSA0LjI1NC40MDQtMy4yMSAyLjg4Mi45NCA0LjI2eiIvPjwvc3ZnPg==\"/></div></span><span class=\"_2_R_DZ\"><span><span>1,89,458 Ratings </span><span class=\"_13vcmD\">&amp;</span><span> 11,024 Reviews</span></span></span></div><div class=\"fMghEO\"><ul class=\"_1xgFaf\"><li class=\"rgWa7D\">128 GB ROM</li><li class=\"rgWa7D\">15.49 cm (6.1 inch) Liquid Retina HD Display</li><li class=\"rgWa7D\">12MP + 12MP | 12MP Front Camera</li><li class=\"rgWa7D\">A13 Bionic Chip Processor</li><li class=\"rgWa7D\">Brand Warranty of 1 Year</li></ul></div></div><div class=\"col col-5-12 nlI3QM\"><div class=\"_3tbKJL\"><div class=\"_25b18c\"><div class=\"_30jeq3 _1_WHN1\">₹45,999</div><div class=\"_3I9_wc _27UcVY\">₹<!-- -->48,900</div><div class=\"_3Ay6Sb\"><span>5% off</span></div></div><div class=\"_3tcB5a p8ucoS\"><div><div class=\"_2Tpdn3\" style=\"color:#000000;font-size:12px;font-weight:400\">Free delivery</div></div></div></div><div class=\"_13J9qT\"><img height=\"21\" src=\"//static-assets-web.flixcart.com/fk-p-linchpin-web/fk-cp-zion/img/fa_62673a.png\"/></div><div class=\"_2ZdXDB\"><div class=\"_3xFhiH\"><div class=\"_2Tpdn3 _18hQoS\" style=\"color:#000000;font-size:14px;font-style:normal;font-weight:400\">Upto </div><div class=\"_2Tpdn3 _18hQoS\" style=\"color:#000000;font-size:14px;font-style:normal;font-weight:700\">₹27,000</div><div class=\"_2Tpdn3 _18hQoS\" style=\"color:#000000;font-size:14px;font-style:normal;font-weight:400\"> Off on Exchange</div></div></div><div class=\"_2ZdXDB\"><div class=\"_3xFhiH\"><div class=\"_2Tpdn3 _18hQoS\" style=\"color:#26A541;font-size:14px;font-weight:700\">Bank Offer</div></div></div></div></div></a></div></div></div></div><div class=\"_1AtVbE col-12-12\"><div class=\"_13oc-S\"><div data-id=\"MOBGFGM2PHKKGB78\" style=\"width:100%\"><div class=\"_2kHMtA\"><a class=\"_1fQZEK\" href=\"/motorola-edge-30-ultra-interstellar-black-128-gb/p/itm36c69ef9d1313?pid=MOBGFGM2PHKKGB78&amp;lid=LSTMOBGFGM2PHKKGB78NUNL0L&amp;marketplace=FLIPKART&amp;q=mobiles+under+50000&amp;store=tyy%2F4io&amp;srno=s_1_7&amp;otracker=search&amp;otracker1=search&amp;fm=organic&amp;iid=cadfb0f9-a759-4480-83a6-1ee3f391045e.MOBGFGM2PHKKGB78.SEARCH&amp;ppt=None&amp;ppn=None&amp;ssid=8vneci3w3k0000001680772066447&amp;qH=8b60bcb863f60970\" rel=\"noopener noreferrer\" target=\"_blank\"><div class=\"MIXNux\"><div class=\"_2QcLo-\"><div><div class=\"CXW8mj\" style=\"height:200px;width:200px\"><img alt=\"MOTOROLA Edge 30 Ultra (Interstellar Black, 128 GB)\" class=\"_396cs4\" loading=\"eager\" src=\"https://rukminim1.flixcart.com/image/312/312/xif0q/mobile/2/6/s/-original-imaggfmgmz8ss6gb.jpeg?q=70\"/></div></div></div><div class=\"_3wLduG\"><div class=\"_3PzNI-\"><span class=\"f3A4_V\"><label class=\"_2iDkf8\"><input class=\"_30VH1S\" readonly=\"\" type=\"checkbox\"/><div class=\"_24_Dny\"></div></label></span><label class=\"_6Up2sF\"><span>Add to Compare</span></label></div></div><div class=\"_2hVSre _3nq8ih\"><div class=\"_36FSn5\"><svg class=\"_1l0elc\" height=\"16\" viewbox=\"0 0 20 16\" width=\"16\" xmlns=\"http://www.w3.org/2000/svg\"><path class=\"eX72wL\" d=\"M8.695 16.682C4.06 12.382 1 9.536 1 6.065 1 3.219 3.178 1 5.95 1c1.566 0 3.069.746 4.05 1.915C10.981 1.745 12.484 1 14.05 1 16.822 1 19 3.22 19 6.065c0 3.471-3.06 6.316-7.695 10.617L10 17.897l-1.305-1.215z\" fill=\"#2874F0\" fill-rule=\"evenodd\" opacity=\".9\" stroke=\"#FFF\"></path></svg></div></div></div><div class=\"_3pLy-c row\"><div class=\"col col-7-12\"><div class=\"_4rR01T\">MOTOROLA Edge 30 Ultra (Interstellar Black, 128 GB)</div><div class=\"gUuXy-\"><span class=\"_1lRcqv\" id=\"productRating_LSTMOBGFGM2PHKKGB78NUNL0L_MOBGFGM2PHKKGB78_\"><div class=\"_3LWZlK\">4.3<img class=\"_1wB99o\" src=\"data:image/svg+xml;base64,PHN2ZyB4bWxucz0iaHR0cDovL3d3dy53My5vcmcvMjAwMC9zdmciIHdpZHRoPSIxMyIgaGVpZ2h0PSIxMiI+PHBhdGggZmlsbD0iI0ZGRiIgZD0iTTYuNSA5LjQzOWwtMy42NzQgMi4yMy45NC00LjI2LTMuMjEtMi44ODMgNC4yNTQtLjQwNEw2LjUuMTEybDEuNjkgNC4wMSA0LjI1NC40MDQtMy4yMSAyLjg4Mi45NCA0LjI2eiIvPjwvc3ZnPg==\"/></div></span><span class=\"_2_R_DZ\"><span><span>1,165 Ratings </span><span class=\"_13vcmD\">&amp;</span><span> 222 Reviews</span></span></span></div><div class=\"fMghEO\"><ul class=\"_1xgFaf\"><li class=\"rgWa7D\">8 GB RAM | 128 GB ROM</li><li class=\"rgWa7D\">16.94 cm (6.67 inch) Full HD+ Display</li><li class=\"rgWa7D\">200MP + 50MP + 12MP | 60MP Front Camera</li><li class=\"rgWa7D\">4610 mAh Lithium Battery</li><li class=\"rgWa7D\">Qualcomm Snapdragon 8+ Gen 1 Processor</li><li class=\"rgWa7D\">1 Year on Handset and 6 Months on Accessories</li></ul></div></div><div class=\"col col-5-12 nlI3QM\"><div class=\"_3tbKJL\"><div class=\"_25b18c\"><div class=\"_30jeq3 _1_WHN1\">₹49,999</div><div class=\"_3I9_wc _27UcVY\">₹<!-- -->69,999</div><div class=\"_3Ay6Sb\"><span>28% off</span></div></div><div class=\"_3tcB5a p8ucoS\"><div><div class=\"_2Tpdn3\" style=\"color:#000000;font-size:12px;font-weight:400\">Free delivery</div></div></div></div><div class=\"_13J9qT\"><img height=\"21\" src=\"//static-assets-web.flixcart.com/fk-p-linchpin-web/fk-cp-zion/img/fa_62673a.png\"/></div><div class=\"_2ZdXDB\"><div class=\"_3xFhiH\"><div class=\"_2Tpdn3 _18hQoS\" style=\"color:#26A541;font-size:12px;font-weight:700\">Lowest price since launch</div></div></div><div class=\"_2ZdXDB\"><div class=\"_3xFhiH\"><div class=\"_2Tpdn3 _18hQoS\" style=\"color:#000000;font-size:14px;font-style:normal;font-weight:400\">Upto </div><div class=\"_2Tpdn3 _18hQoS\" style=\"color:#000000;font-size:14px;font-style:normal;font-weight:700\">₹27,000</div><div class=\"_2Tpdn3 _18hQoS\" style=\"color:#000000;font-size:14px;font-style:normal;font-weight:400\"> Off on Exchange</div></div></div></div></div></a></div></div></div></div><div class=\"_1AtVbE col-12-12\"><div class=\"_13oc-S\"><div data-id=\"MOBGFGM2GRYGBEPH\" style=\"width:100%\"><div class=\"_2kHMtA\"><a class=\"_1fQZEK\" href=\"/motorola-edge-30-ultra-starlight-white-128-gb/p/itmfa7c7c01456e6?pid=MOBGFGM2GRYGBEPH&amp;lid=LSTMOBGFGM2GRYGBEPHIG02U1&amp;marketplace=FLIPKART&amp;q=mobiles+under+50000&amp;store=tyy%2F4io&amp;srno=s_1_8&amp;otracker=search&amp;otracker1=search&amp;fm=organic&amp;iid=cadfb0f9-a759-4480-83a6-1ee3f391045e.MOBGFGM2GRYGBEPH.SEARCH&amp;ppt=None&amp;ppn=None&amp;ssid=8vneci3w3k0000001680772066447&amp;qH=8b60bcb863f60970\" rel=\"noopener noreferrer\" target=\"_blank\"><div class=\"MIXNux\"><div class=\"_2QcLo-\"><div><div class=\"CXW8mj\" style=\"height:200px;width:200px\"><img alt=\"MOTOROLA Edge 30 Ultra (Starlight White, 128 GB)\" class=\"_396cs4\" loading=\"eager\" src=\"https://rukminim1.flixcart.com/image/312/312/xif0q/mobile/p/x/l/-original-imaggfmg9yqbyphj.jpeg?q=70\"/></div></div></div><div class=\"_3wLduG\"><div class=\"_3PzNI-\"><span class=\"f3A4_V\"><label class=\"_2iDkf8\"><input class=\"_30VH1S\" readonly=\"\" type=\"checkbox\"/><div class=\"_24_Dny\"></div></label></span><label class=\"_6Up2sF\"><span>Add to Compare</span></label></div></div><div class=\"_2hVSre _3nq8ih\"><div class=\"_36FSn5\"><svg class=\"_1l0elc\" height=\"16\" viewbox=\"0 0 20 16\" width=\"16\" xmlns=\"http://www.w3.org/2000/svg\"><path class=\"eX72wL\" d=\"M8.695 16.682C4.06 12.382 1 9.536 1 6.065 1 3.219 3.178 1 5.95 1c1.566 0 3.069.746 4.05 1.915C10.981 1.745 12.484 1 14.05 1 16.822 1 19 3.22 19 6.065c0 3.471-3.06 6.316-7.695 10.617L10 17.897l-1.305-1.215z\" fill=\"#2874F0\" fill-rule=\"evenodd\" opacity=\".9\" stroke=\"#FFF\"></path></svg></div></div></div><div class=\"_3pLy-c row\"><div class=\"col col-7-12\"><div class=\"_4rR01T\">MOTOROLA Edge 30 Ultra (Starlight White, 128 GB)</div><div class=\"gUuXy-\"><span class=\"_1lRcqv\" id=\"productRating_LSTMOBGFGM2GRYGBEPHIG02U1_MOBGFGM2GRYGBEPH_\"><div class=\"_3LWZlK\">4.3<img class=\"_1wB99o\" src=\"data:image/svg+xml;base64,PHN2ZyB4bWxucz0iaHR0cDovL3d3dy53My5vcmcvMjAwMC9zdmciIHdpZHRoPSIxMyIgaGVpZ2h0PSIxMiI+PHBhdGggZmlsbD0iI0ZGRiIgZD0iTTYuNSA5LjQzOWwtMy42NzQgMi4yMy45NC00LjI2LTMuMjEtMi44ODMgNC4yNTQtLjQwNEw2LjUuMTEybDEuNjkgNC4wMSA0LjI1NC40MDQtMy4yMSAyLjg4Mi45NCA0LjI2eiIvPjwvc3ZnPg==\"/></div></span><span class=\"_2_R_DZ\"><span><span>1,165 Ratings </span><span class=\"_13vcmD\">&amp;</span><span> 222 Reviews</span></span></span></div><div class=\"fMghEO\"><ul class=\"_1xgFaf\"><li class=\"rgWa7D\">8 GB RAM | 128 GB ROM</li><li class=\"rgWa7D\">16.94 cm (6.67 inch) Full HD+ Display</li><li class=\"rgWa7D\">200MP + 50MP + 12MP | 60MP Front Camera</li><li class=\"rgWa7D\">4610 mAh Lithium Battery</li><li class=\"rgWa7D\">Qualcomm Snapdragon 8+ Gen 1 Processor</li><li class=\"rgWa7D\">1 Year on Handset and 6 Months on Accessories</li></ul></div></div><div class=\"col col-5-12 nlI3QM\"><div class=\"_3tbKJL\"><div class=\"_25b18c\"><div class=\"_30jeq3 _1_WHN1\">₹49,999</div><div class=\"_3I9_wc _27UcVY\">₹<!-- -->69,999</div><div class=\"_3Ay6Sb\"><span>28% off</span></div></div><div class=\"_3tcB5a p8ucoS\"><div><div class=\"_2Tpdn3\" style=\"color:#000000;font-size:12px;font-weight:400\">Free delivery</div></div></div></div><div class=\"_13J9qT\"><img height=\"21\" src=\"//static-assets-web.flixcart.com/fk-p-linchpin-web/fk-cp-zion/img/fa_62673a.png\"/></div><div class=\"_2ZdXDB\"><div class=\"_3xFhiH\"><div class=\"_2Tpdn3 _18hQoS\" style=\"color:#26A541;font-size:12px;font-weight:700\">Lowest price since launch</div></div></div><div class=\"_2ZdXDB\"><div class=\"_3xFhiH\"><div class=\"_2Tpdn3 _18hQoS\" style=\"color:#000000;font-size:14px;font-style:normal;font-weight:400\">Upto </div><div class=\"_2Tpdn3 _18hQoS\" style=\"color:#000000;font-size:14px;font-style:normal;font-weight:700\">₹27,000</div><div class=\"_2Tpdn3 _18hQoS\" style=\"color:#000000;font-size:14px;font-style:normal;font-weight:400\"> Off on Exchange</div></div></div></div></div></a></div></div></div></div><div class=\"_1AtVbE col-12-12\"><div class=\"_13oc-S\"><div data-id=\"MOBGDZ7SUTSMUMSZ\" style=\"width:100%\"><div class=\"_2kHMtA\"><a class=\"_1fQZEK\" href=\"/xiaomi-12-pro-5g-opera-mauve-256-gb/p/itm4e017bacc4e75?pid=MOBGDZ7SUTSMUMSZ&amp;lid=LSTMOBGDZ7SUTSMUMSZPUTOW9&amp;marketplace=FLIPKART&amp;q=mobiles+under+50000&amp;store=tyy%2F4io&amp;srno=s_1_9&amp;otracker=search&amp;otracker1=search&amp;fm=organic&amp;iid=cadfb0f9-a759-4480-83a6-1ee3f391045e.MOBGDZ7SUTSMUMSZ.SEARCH&amp;ppt=None&amp;ppn=None&amp;ssid=8vneci3w3k0000001680772066447&amp;qH=8b60bcb863f60970\" rel=\"noopener noreferrer\" target=\"_blank\"><div class=\"MIXNux\"><div class=\"_2QcLo-\"><div><div class=\"CXW8mj\" style=\"height:200px;width:200px\"><img alt=\"Xiaomi 12 Pro 5G (Opera Mauve, 256 GB)\" class=\"_396cs4\" loading=\"eager\" src=\"https://rukminim1.flixcart.com/image/312/312/l2p23rk0/mobile/b/n/9/12-pro-5g-2201122g-mi-original-imagdz7rs8qfakcb.jpeg?q=70\"/></div></div></div><div class=\"_3wLduG\"><div class=\"_3PzNI-\"><span class=\"f3A4_V\"><label class=\"_2iDkf8\"><input class=\"_30VH1S\" readonly=\"\" type=\"checkbox\"/><div class=\"_24_Dny\"></div></label></span><label class=\"_6Up2sF\"><span>Add to Compare</span></label></div></div><div class=\"_2hVSre _3nq8ih\"><div class=\"_36FSn5\"><svg class=\"_1l0elc\" height=\"16\" viewbox=\"0 0 20 16\" width=\"16\" xmlns=\"http://www.w3.org/2000/svg\"><path class=\"eX72wL\" d=\"M8.695 16.682C4.06 12.382 1 9.536 1 6.065 1 3.219 3.178 1 5.95 1c1.566 0 3.069.746 4.05 1.915C10.981 1.745 12.484 1 14.05 1 16.822 1 19 3.22 19 6.065c0 3.471-3.06 6.316-7.695 10.617L10 17.897l-1.305-1.215z\" fill=\"#2874F0\" fill-rule=\"evenodd\" opacity=\".9\" stroke=\"#FFF\"></path></svg></div></div></div><div class=\"_3pLy-c row\"><div class=\"col col-7-12\"><div class=\"_4rR01T\">Xiaomi 12 Pro 5G (Opera Mauve, 256 GB)</div><div class=\"gUuXy-\"><span class=\"_1lRcqv\" id=\"productRating_LSTMOBGDZ7SUTSMUMSZPUTOW9_MOBGDZ7SUTSMUMSZ_\"><div class=\"_3LWZlK\">4.1<img class=\"_1wB99o\" src=\"data:image/svg+xml;base64,PHN2ZyB4bWxucz0iaHR0cDovL3d3dy53My5vcmcvMjAwMC9zdmciIHdpZHRoPSIxMyIgaGVpZ2h0PSIxMiI+PHBhdGggZmlsbD0iI0ZGRiIgZD0iTTYuNSA5LjQzOWwtMy42NzQgMi4yMy45NC00LjI2LTMuMjEtMi44ODMgNC4yNTQtLjQwNEw2LjUuMTEybDEuNjkgNC4wMSA0LjI1NC40MDQtMy4yMSAyLjg4Mi45NCA0LjI2eiIvPjwvc3ZnPg==\"/></div></span><span class=\"_2_R_DZ\"><span><span>170 Ratings </span><span class=\"_13vcmD\">&amp;</span><span> 28 Reviews</span></span></span></div><div class=\"fMghEO\"><ul class=\"_1xgFaf\"><li class=\"rgWa7D\">8 GB RAM | 256 GB ROM</li><li class=\"rgWa7D\">17.09 cm (6.73 inch) Full HD+ AMOLED Display</li><li class=\"rgWa7D\">50MP Rear Camera</li><li class=\"rgWa7D\">4600 mAh Battery</li><li class=\"rgWa7D\">Snapdragon@ 8 Gen 1 Processor</li><li class=\"rgWa7D\">12 Months</li></ul></div></div><div class=\"col col-5-12 nlI3QM\"><div class=\"_3tbKJL\"><div class=\"_25b18c\"><div class=\"_30jeq3 _1_WHN1\">₹46,480</div><div class=\"_3I9_wc _27UcVY\">₹<!-- -->79,999</div><div class=\"_3Ay6Sb\"><span>41% off</span></div></div><div class=\"_3tcB5a p8ucoS\"><div><div class=\"_2Tpdn3\" style=\"color:#000000;font-size:12px;font-weight:400\">Free delivery</div></div></div></div><div class=\"_13J9qT\"><img height=\"21\" src=\"//static-assets-web.flixcart.com/fk-p-linchpin-web/fk-cp-zion/img/fa_62673a.png\"/></div><div class=\"_2ZdXDB\"><div class=\"_3xFhiH\"><div class=\"_2Tpdn3 _18hQoS\" style=\"color:#26A541;font-size:14px;font-weight:700\">Bank Offer</div></div></div></div></div></a></div></div></div></div><div class=\"_1AtVbE col-12-12\"><div class=\"_13oc-S\"><div data-id=\"MOBG6Y6HJ5TVQDP6\" style=\"width:100%\"><div class=\"_2kHMtA\"><a class=\"_1fQZEK\" href=\"/asus-rog-5s-black-128-gb/p/itm0aa8f13814a44?pid=MOBG6Y6HJ5TVQDP6&amp;lid=LSTMOBG6Y6HJ5TVQDP6YLDEIG&amp;marketplace=FLIPKART&amp;q=mobiles+under+50000&amp;store=tyy%2F4io&amp;srno=s_1_10&amp;otracker=search&amp;otracker1=search&amp;fm=organic&amp;iid=cadfb0f9-a759-4480-83a6-1ee3f391045e.MOBG6Y6HJ5TVQDP6.SEARCH&amp;ppt=None&amp;ppn=None&amp;ssid=8vneci3w3k0000001680772066447&amp;qH=8b60bcb863f60970\" rel=\"noopener noreferrer\" target=\"_blank\"><div class=\"MIXNux\"><div class=\"_2QcLo-\"><div><div class=\"CXW8mj\" style=\"height:200px;width:200px\"><img alt=\"ASUS ROG 5s (Black, 128 GB)\" class=\"_396cs4\" loading=\"eager\" src=\"https://rukminim1.flixcart.com/image/312/312/ky7lci80/mobile/t/x/j/-original-imagahvge92r5fmm.jpeg?q=70\"/></div></div></div><div class=\"_3wLduG\"><div class=\"_3PzNI-\"><span class=\"f3A4_V\"><label class=\"_2iDkf8\"><input class=\"_30VH1S\" readonly=\"\" type=\"checkbox\"/><div class=\"_24_Dny\"></div></label></span><label class=\"_6Up2sF\"><span>Add to Compare</span></label></div></div><div class=\"_2hVSre _3nq8ih\"><div class=\"_36FSn5\"><svg class=\"_1l0elc\" height=\"16\" viewbox=\"0 0 20 16\" width=\"16\" xmlns=\"http://www.w3.org/2000/svg\"><path class=\"eX72wL\" d=\"M8.695 16.682C4.06 12.382 1 9.536 1 6.065 1 3.219 3.178 1 5.95 1c1.566 0 3.069.746 4.05 1.915C10.981 1.745 12.484 1 14.05 1 16.822 1 19 3.22 19 6.065c0 3.471-3.06 6.316-7.695 10.617L10 17.897l-1.305-1.215z\" fill=\"#2874F0\" fill-rule=\"evenodd\" opacity=\".9\" stroke=\"#FFF\"></path></svg></div></div></div><div class=\"_3pLy-c row\"><div class=\"col col-7-12\"><div class=\"_4rR01T\">ASUS ROG 5s (Black, 128 GB)</div><div class=\"gUuXy-\"><span class=\"_1lRcqv\" id=\"productRating_LSTMOBG6Y6HJ5TVQDP6YLDEIG_MOBG6Y6HJ5TVQDP6_\"><div class=\"_3LWZlK\">4.1<img class=\"_1wB99o\" src=\"data:image/svg+xml;base64,PHN2ZyB4bWxucz0iaHR0cDovL3d3dy53My5vcmcvMjAwMC9zdmciIHdpZHRoPSIxMyIgaGVpZ2h0PSIxMiI+PHBhdGggZmlsbD0iI0ZGRiIgZD0iTTYuNSA5LjQzOWwtMy42NzQgMi4yMy45NC00LjI2LTMuMjEtMi44ODMgNC4yNTQtLjQwNEw2LjUuMTEybDEuNjkgNC4wMSA0LjI1NC40MDQtMy4yMSAyLjg4Mi45NCA0LjI2eiIvPjwvc3ZnPg==\"/></div></span><span class=\"_2_R_DZ\"><span><span>1,066 Ratings </span><span class=\"_13vcmD\">&amp;</span><span> 153 Reviews</span></span></span></div><div class=\"fMghEO\"><ul class=\"_1xgFaf\"><li class=\"rgWa7D\">8 GB RAM | 128 GB ROM</li><li class=\"rgWa7D\">17.22 cm (6.78 inch) Full HD+ Display</li><li class=\"rgWa7D\">64MP + 13MP + 5MP | 24MP Front Camera</li><li class=\"rgWa7D\">6000 mAh Lithium Polymer Battery</li><li class=\"rgWa7D\">Qualcomm Snapdragon 888 Plus (SM8350) Processor</li><li class=\"rgWa7D\">1 Year Brand Warranty</li></ul></div></div><div class=\"col col-5-12 nlI3QM\"><div class=\"_3tbKJL\"><div class=\"_25b18c\"><div class=\"_30jeq3 _1_WHN1\">₹49,999</div><div class=\"_3I9_wc _27UcVY\">₹<!-- -->55,999</div><div class=\"_3Ay6Sb\"><span>10% off</span></div></div><div class=\"_3tcB5a p8ucoS\"><div><div class=\"_2Tpdn3\" style=\"color:#000000;font-size:12px;font-weight:400\">Free delivery</div></div></div></div><div class=\"_2ZdXDB\"><div class=\"_3xFhiH\"><div class=\"_2Tpdn3 _18hQoS\" style=\"color:#000000;font-size:14px;font-style:normal;font-weight:400\">Upto </div><div class=\"_2Tpdn3 _18hQoS\" style=\"color:#000000;font-size:14px;font-style:normal;font-weight:700\">₹27,000</div><div class=\"_2Tpdn3 _18hQoS\" style=\"color:#000000;font-size:14px;font-style:normal;font-weight:400\"> Off on Exchange</div></div></div><div class=\"_2ZdXDB\"><div class=\"_3xFhiH\"><div class=\"_2Tpdn3 _18hQoS\" style=\"color:#26A541;font-size:14px;font-weight:700\">Bank Offer</div></div></div></div></div></a></div></div></div></div><div class=\"_1AtVbE col-12-12\"><div class=\"_13oc-S\"><div data-id=\"MOBGHBZHGQFJYYG5\" style=\"width:100%\"><div class=\"_2kHMtA\"><a class=\"_1fQZEK\" href=\"/oneplus-10t-5g-moonstone-black-128-gb/p/itm6863515112e3e?pid=MOBGHBZHGQFJYYG5&amp;lid=LSTMOBGHBZHGQFJYYG5AAHIMC&amp;marketplace=FLIPKART&amp;q=mobiles+under+50000&amp;store=tyy%2F4io&amp;srno=s_1_11&amp;otracker=search&amp;otracker1=search&amp;fm=organic&amp;iid=cadfb0f9-a759-4480-83a6-1ee3f391045e.MOBGHBZHGQFJYYG5.SEARCH&amp;ppt=None&amp;ppn=None&amp;ssid=8vneci3w3k0000001680772066447&amp;qH=8b60bcb863f60970\" rel=\"noopener noreferrer\" target=\"_blank\"><div class=\"MIXNux\"><div class=\"_2QcLo-\"><div><div class=\"CXW8mj\" style=\"height:200px;width:200px\"><img alt=\"OnePlus 10T 5G (Moonstone Black, 128 GB)\" class=\"_396cs4\" loading=\"eager\" src=\"https://rukminim1.flixcart.com/image/312/312/xif0q/mobile/v/i/f/-original-imaggceewkgkxthq.jpeg?q=70\"/></div></div></div><div class=\"_3wLduG\"><div class=\"_3PzNI-\"><span class=\"f3A4_V\"><label class=\"_2iDkf8\"><input class=\"_30VH1S\" readonly=\"\" type=\"checkbox\"/><div class=\"_24_Dny\"></div></label></span><label class=\"_6Up2sF\"><span>Add to Compare</span></label></div></div><div class=\"_2hVSre _3nq8ih\"><div class=\"_36FSn5\"><svg class=\"_1l0elc\" height=\"16\" viewbox=\"0 0 20 16\" width=\"16\" xmlns=\"http://www.w3.org/2000/svg\"><path class=\"eX72wL\" d=\"M8.695 16.682C4.06 12.382 1 9.536 1 6.065 1 3.219 3.178 1 5.95 1c1.566 0 3.069.746 4.05 1.915C10.981 1.745 12.484 1 14.05 1 16.822 1 19 3.22 19 6.065c0 3.471-3.06 6.316-7.695 10.617L10 17.897l-1.305-1.215z\" fill=\"#2874F0\" fill-rule=\"evenodd\" opacity=\".9\" stroke=\"#FFF\"></path></svg></div></div></div><div class=\"_3pLy-c row\"><div class=\"col col-7-12\"><div class=\"_4rR01T\">OnePlus 10T 5G (Moonstone Black, 128 GB)</div><div class=\"gUuXy-\"><span class=\"_1lRcqv\" id=\"productRating_LSTMOBGHBZHGQFJYYG5AAHIMC_MOBGHBZHGQFJYYG5_\"><div class=\"_3LWZlK\">4.3<img class=\"_1wB99o\" src=\"data:image/svg+xml;base64,PHN2ZyB4bWxucz0iaHR0cDovL3d3dy53My5vcmcvMjAwMC9zdmciIHdpZHRoPSIxMyIgaGVpZ2h0PSIxMiI+PHBhdGggZmlsbD0iI0ZGRiIgZD0iTTYuNSA5LjQzOWwtMy42NzQgMi4yMy45NC00LjI2LTMuMjEtMi44ODMgNC4yNTQtLjQwNEw2LjUuMTEybDEuNjkgNC4wMSA0LjI1NC40MDQtMy4yMSAyLjg4Mi45NCA0LjI2eiIvPjwvc3ZnPg==\"/></div></span><span class=\"_2_R_DZ\"><span><span>203 Ratings </span><span class=\"_13vcmD\">&amp;</span><span> 17 Reviews</span></span></span></div><div class=\"fMghEO\"><ul class=\"_1xgFaf\"><li class=\"rgWa7D\">8 GB RAM | 128 GB ROM</li><li class=\"rgWa7D\">17.02 cm (6.7 inch) Display</li><li class=\"rgWa7D\">50MP Rear Camera</li><li class=\"rgWa7D\">4800 mAh Battery</li><li class=\"rgWa7D\">1 Year Manufacturer Warranty for Handset and 6 Months Warranty for In the Box Accessories</li></ul></div></div><div class=\"col col-5-12 nlI3QM\"><div class=\"_3tbKJL\"><div class=\"_25b18c\"><div class=\"_30jeq3 _1_WHN1\">₹47,700</div><div class=\"_3I9_wc _27UcVY\">₹<!-- -->49,999</div><div class=\"_3Ay6Sb\"><span>4% off</span></div></div><div class=\"_3tcB5a p8ucoS\"><div><div class=\"_2Tpdn3\" style=\"color:#000000;font-size:12px;font-weight:400\">Free delivery</div></div></div></div><div class=\"_13J9qT\"><img height=\"21\" src=\"//static-assets-web.flixcart.com/fk-p-linchpin-web/fk-cp-zion/img/fa_62673a.png\"/></div><div class=\"_2ZdXDB\"><div class=\"_3xFhiH\"><div class=\"_2Tpdn3 _18hQoS\" style=\"color:#26A541;font-size:14px;font-weight:700\">Bank Offer</div></div></div></div></div></a></div></div></div></div><div class=\"_1AtVbE col-12-12\"><div class=\"_13oc-S\"><div data-id=\"MOBGHV89DZF2GNG3\" style=\"width:100%\"><div class=\"_2kHMtA\"><a class=\"_1fQZEK\" href=\"/iqoo-9t-5g-alpha-128-gb/p/itm48c825943ad3d?pid=MOBGHV89DZF2GNG3&amp;lid=LSTMOBGHV89DZF2GNG3WA7AC9&amp;marketplace=FLIPKART&amp;q=mobiles+under+50000&amp;store=tyy%2F4io&amp;srno=s_1_12&amp;otracker=search&amp;otracker1=search&amp;fm=organic&amp;iid=cadfb0f9-a759-4480-83a6-1ee3f391045e.MOBGHV89DZF2GNG3.SEARCH&amp;ppt=None&amp;ppn=None&amp;ssid=8vneci3w3k0000001680772066447&amp;qH=8b60bcb863f60970\" rel=\"noopener noreferrer\" target=\"_blank\"><div class=\"MIXNux\"><div class=\"_2QcLo-\"><div><div class=\"CXW8mj\" style=\"height:200px;width:200px\"><img alt=\"IQOO 9T 5G (ALPHA, 128 GB)\" class=\"_396cs4\" loading=\"eager\" src=\"https://rukminim1.flixcart.com/image/312/312/xif0q/mobile/7/w/a/-original-imaghv89yteth3g5.jpeg?q=70\"/></div></div></div><div class=\"_3wLduG\"><div class=\"_3PzNI-\"><span class=\"f3A4_V\"><label class=\"_2iDkf8\"><input class=\"_30VH1S\" readonly=\"\" type=\"checkbox\"/><div class=\"_24_Dny\"></div></label></span><label class=\"_6Up2sF\"><span>Add to Compare</span></label></div></div><div class=\"_2hVSre _3nq8ih\"><div class=\"_36FSn5\"><svg class=\"_1l0elc\" height=\"16\" viewbox=\"0 0 20 16\" width=\"16\" xmlns=\"http://www.w3.org/2000/svg\"><path class=\"eX72wL\" d=\"M8.695 16.682C4.06 12.382 1 9.536 1 6.065 1 3.219 3.178 1 5.95 1c1.566 0 3.069.746 4.05 1.915C10.981 1.745 12.484 1 14.05 1 16.822 1 19 3.22 19 6.065c0 3.471-3.06 6.316-7.695 10.617L10 17.897l-1.305-1.215z\" fill=\"#2874F0\" fill-rule=\"evenodd\" opacity=\".9\" stroke=\"#FFF\"></path></svg></div></div></div><div class=\"_3pLy-c row\"><div class=\"col col-7-12\"><div class=\"_4rR01T\">IQOO 9T 5G (ALPHA, 128 GB)</div><div class=\"gUuXy-\"><span class=\"_1lRcqv\" id=\"productRating_LSTMOBGHV89DZF2GNG3WA7AC9_MOBGHV89DZF2GNG3_\"><div class=\"_3LWZlK\">4.1<img class=\"_1wB99o\" src=\"data:image/svg+xml;base64,PHN2ZyB4bWxucz0iaHR0cDovL3d3dy53My5vcmcvMjAwMC9zdmciIHdpZHRoPSIxMyIgaGVpZ2h0PSIxMiI+PHBhdGggZmlsbD0iI0ZGRiIgZD0iTTYuNSA5LjQzOWwtMy42NzQgMi4yMy45NC00LjI2LTMuMjEtMi44ODMgNC4yNTQtLjQwNEw2LjUuMTEybDEuNjkgNC4wMSA0LjI1NC40MDQtMy4yMSAyLjg4Mi45NCA0LjI2eiIvPjwvc3ZnPg==\"/></div></span><span class=\"_2_R_DZ\"><span><span>54 Ratings </span><span class=\"_13vcmD\">&amp;</span><span> 7 Reviews</span></span></span></div><div class=\"fMghEO\"><ul class=\"_1xgFaf\"><li class=\"rgWa7D\">8 GB RAM | 128 GB ROM</li><li class=\"rgWa7D\">17.22 cm (6.78 inch) Display</li><li class=\"rgWa7D\">50MP Rear Camera</li><li class=\"rgWa7D\">4700 mAh Battery</li><li class=\"rgWa7D\">1 Year</li></ul></div></div><div class=\"col col-5-12 nlI3QM\"><div class=\"_3tbKJL\"><div class=\"_25b18c\"><div class=\"_30jeq3 _1_WHN1\">₹45,799</div><div class=\"_3I9_wc _27UcVY\">₹<!-- -->54,999</div><div class=\"_3Ay6Sb\"><span>16% off</span></div></div><div class=\"_3tcB5a p8ucoS\"><div><div class=\"_2Tpdn3\" style=\"color:#000000;font-size:12px;font-weight:400\">Free delivery</div></div></div></div><div class=\"_13J9qT\"><img height=\"21\" src=\"//static-assets-web.flixcart.com/fk-p-linchpin-web/fk-cp-zion/img/fa_62673a.png\"/></div><div class=\"_2ZdXDB\"><div class=\"_3xFhiH\"><div class=\"_2Tpdn3 _18hQoS\" style=\"color:#26A541;font-size:14px;font-weight:700\">Bank Offer</div></div></div></div></div></a></div></div></div></div><div class=\"_1AtVbE col-12-12\"><div class=\"_13oc-S\"><div data-id=\"MOBGDZ72AVDBGA66\" style=\"width:100%\"><div class=\"_2kHMtA\"><a class=\"_1fQZEK\" href=\"/xiaomi-12-pro-5g-noir-black-256-gb/p/itm4e017bacc4e75?pid=MOBGDZ72AVDBGA66&amp;lid=LSTMOBGDZ72AVDBGA66ADCJRD&amp;marketplace=FLIPKART&amp;q=mobiles+under+50000&amp;store=tyy%2F4io&amp;srno=s_1_13&amp;otracker=search&amp;otracker1=search&amp;fm=organic&amp;iid=cadfb0f9-a759-4480-83a6-1ee3f391045e.MOBGDZ72AVDBGA66.SEARCH&amp;ppt=None&amp;ppn=None&amp;ssid=8vneci3w3k0000001680772066447&amp;qH=8b60bcb863f60970\" rel=\"noopener noreferrer\" target=\"_blank\"><div class=\"MIXNux\"><div class=\"_2QcLo-\"><div><div class=\"CXW8mj\" style=\"height:200px;width:200px\"><img alt=\"Xiaomi 12 Pro 5G (Noir Black, 256 GB)\" class=\"_396cs4\" loading=\"eager\" src=\"https://rukminim1.flixcart.com/image/312/312/l2p23rk0/mobile/v/w/m/12-pro-5g-2201122g-mi-original-imagdz7fzeqhs54b.jpeg?q=70\"/></div></div></div><div class=\"_3wLduG\"><div class=\"_3PzNI-\"><span class=\"f3A4_V\"><label class=\"_2iDkf8\"><input class=\"_30VH1S\" readonly=\"\" type=\"checkbox\"/><div class=\"_24_Dny\"></div></label></span><label class=\"_6Up2sF\"><span>Add to Compare</span></label></div></div><div class=\"_2hVSre _3nq8ih\"><div class=\"_36FSn5\"><svg class=\"_1l0elc\" height=\"16\" viewbox=\"0 0 20 16\" width=\"16\" xmlns=\"http://www.w3.org/2000/svg\"><path class=\"eX72wL\" d=\"M8.695 16.682C4.06 12.382 1 9.536 1 6.065 1 3.219 3.178 1 5.95 1c1.566 0 3.069.746 4.05 1.915C10.981 1.745 12.484 1 14.05 1 16.822 1 19 3.22 19 6.065c0 3.471-3.06 6.316-7.695 10.617L10 17.897l-1.305-1.215z\" fill=\"#2874F0\" fill-rule=\"evenodd\" opacity=\".9\" stroke=\"#FFF\"></path></svg></div></div></div><div class=\"_3pLy-c row\"><div class=\"col col-7-12\"><div class=\"_4rR01T\">Xiaomi 12 Pro 5G (Noir Black, 256 GB)</div><div class=\"gUuXy-\"><span class=\"_1lRcqv\" id=\"productRating_LSTMOBGDZ72AVDBGA66ADCJRD_MOBGDZ72AVDBGA66_\"><div class=\"_3LWZlK\">4.1<img class=\"_1wB99o\" src=\"data:image/svg+xml;base64,PHN2ZyB4bWxucz0iaHR0cDovL3d3dy53My5vcmcvMjAwMC9zdmciIHdpZHRoPSIxMyIgaGVpZ2h0PSIxMiI+PHBhdGggZmlsbD0iI0ZGRiIgZD0iTTYuNSA5LjQzOWwtMy42NzQgMi4yMy45NC00LjI2LTMuMjEtMi44ODMgNC4yNTQtLjQwNEw2LjUuMTEybDEuNjkgNC4wMSA0LjI1NC40MDQtMy4yMSAyLjg4Mi45NCA0LjI2eiIvPjwvc3ZnPg==\"/></div></span><span class=\"_2_R_DZ\"><span><span>170 Ratings </span><span class=\"_13vcmD\">&amp;</span><span> 28 Reviews</span></span></span></div><div class=\"fMghEO\"><ul class=\"_1xgFaf\"><li class=\"rgWa7D\">8 GB RAM | 256 GB ROM</li><li class=\"rgWa7D\">17.09 cm (6.73 inch) Full HD+ AMOLED Display</li><li class=\"rgWa7D\">50MP Rear Camera</li><li class=\"rgWa7D\">4600 mAh Battery</li><li class=\"rgWa7D\">Snapdragon@ 8 Gen 1 Processor</li><li class=\"rgWa7D\">12 Months</li></ul></div></div><div class=\"col col-5-12 nlI3QM\"><div class=\"_3tbKJL\"><div class=\"_25b18c\"><div class=\"_30jeq3 _1_WHN1\">₹48,999</div><div class=\"_3I9_wc _27UcVY\">₹<!-- -->79,999</div><div class=\"_3Ay6Sb\"><span>38% off</span></div></div><div class=\"_3tcB5a p8ucoS\"><div><div class=\"_2Tpdn3\" style=\"color:#000000;font-size:12px;font-weight:400\">Free delivery</div></div></div></div><div class=\"_13J9qT\"><img height=\"21\" src=\"//static-assets-web.flixcart.com/fk-p-linchpin-web/fk-cp-zion/img/fa_62673a.png\"/></div><div class=\"_2ZdXDB\"><div class=\"_3xFhiH\"><div class=\"_2Tpdn3 _18hQoS\" style=\"color:#26A541;font-size:14px;font-weight:700\">Bank Offer</div></div></div></div></div></a></div></div></div></div><div class=\"_1AtVbE col-12-12\"><div class=\"_13oc-S\"><div data-id=\"MOBGCS4JSYRGZPZR\" style=\"width:100%\"><div class=\"_2kHMtA\"><a class=\"_1fQZEK\" href=\"/samsung-galaxy-a73-5g-awesome-gray-128-gb/p/itme09eaea734554?pid=MOBGCS4JSYRGZPZR&amp;lid=LSTMOBGCS4JSYRGZPZRGMZWXC&amp;marketplace=FLIPKART&amp;q=mobiles+under+50000&amp;store=tyy%2F4io&amp;srno=s_1_14&amp;otracker=search&amp;otracker1=search&amp;fm=organic&amp;iid=cadfb0f9-a759-4480-83a6-1ee3f391045e.MOBGCS4JSYRGZPZR.SEARCH&amp;ppt=None&amp;ppn=None&amp;ssid=8vneci3w3k0000001680772066447&amp;qH=8b60bcb863f60970\" rel=\"noopener noreferrer\" target=\"_blank\"><div class=\"MIXNux\"><div class=\"_2QcLo-\"><div><div class=\"CXW8mj\" style=\"height:200px;width:200px\"><img alt=\"SAMSUNG Galaxy A73 5G (Awesome Gray, 128 GB)\" class=\"_396cs4\" loading=\"eager\" src=\"https://rukminim1.flixcart.com/image/312/312/l3xcr680/mobile/c/j/o/-original-imagexf78mkqcgzr.jpeg?q=70\"/></div></div></div><div class=\"_3wLduG\"><div class=\"_3PzNI-\"><span class=\"f3A4_V\"><label class=\"_2iDkf8\"><input class=\"_30VH1S\" readonly=\"\" type=\"checkbox\"/><div class=\"_24_Dny\"></div></label></span><label class=\"_6Up2sF\"><span>Add to Compare</span></label></div></div><div class=\"_2hVSre _3nq8ih\"><div class=\"_36FSn5\"><svg class=\"_1l0elc\" height=\"16\" viewbox=\"0 0 20 16\" width=\"16\" xmlns=\"http://www.w3.org/2000/svg\"><path class=\"eX72wL\" d=\"M8.695 16.682C4.06 12.382 1 9.536 1 6.065 1 3.219 3.178 1 5.95 1c1.566 0 3.069.746 4.05 1.915C10.981 1.745 12.484 1 14.05 1 16.822 1 19 3.22 19 6.065c0 3.471-3.06 6.316-7.695 10.617L10 17.897l-1.305-1.215z\" fill=\"#2874F0\" fill-rule=\"evenodd\" opacity=\".9\" stroke=\"#FFF\"></path></svg></div></div></div><div class=\"_3pLy-c row\"><div class=\"col col-7-12\"><div class=\"_4rR01T\">SAMSUNG Galaxy A73 5G (Awesome Gray, 128 GB)</div><div class=\"gUuXy-\"><span class=\"_1lRcqv\" id=\"productRating_LSTMOBGCS4JSYRGZPZRGMZWXC_MOBGCS4JSYRGZPZR_\"><div class=\"_3LWZlK\">4.2<img class=\"_1wB99o\" src=\"data:image/svg+xml;base64,PHN2ZyB4bWxucz0iaHR0cDovL3d3dy53My5vcmcvMjAwMC9zdmciIHdpZHRoPSIxMyIgaGVpZ2h0PSIxMiI+PHBhdGggZmlsbD0iI0ZGRiIgZD0iTTYuNSA5LjQzOWwtMy42NzQgMi4yMy45NC00LjI2LTMuMjEtMi44ODMgNC4yNTQtLjQwNEw2LjUuMTEybDEuNjkgNC4wMSA0LjI1NC40MDQtMy4yMSAyLjg4Mi45NCA0LjI2eiIvPjwvc3ZnPg==\"/></div></span><span class=\"_2_R_DZ\"><span><span>1,494 Ratings </span><span class=\"_13vcmD\">&amp;</span><span> 195 Reviews</span></span></span></div><div class=\"fMghEO\"><ul class=\"_1xgFaf\"><li class=\"rgWa7D\">8 GB RAM | 128 GB ROM | Expandable Upto 1 TB</li><li class=\"rgWa7D\">17.02 cm (6.7 inch) Full HD+ Display</li><li class=\"rgWa7D\">108MP + 12MP + 5MP + 5MP | 32MP Front Camera</li><li class=\"rgWa7D\">5000 mAh Li-ion Battery</li><li class=\"rgWa7D\">Qualcomm Snapdragon 778G Processor</li><li class=\"rgWa7D\">1 Year Manufacturer Warranty for Device and 6 Months Manufacturer Warranty for In-Box</li></ul></div></div><div class=\"col col-5-12 nlI3QM\"><div class=\"_3tbKJL\"><div class=\"_25b18c\"><div class=\"_30jeq3 _1_WHN1\">₹41,999</div><div class=\"_3I9_wc _27UcVY\">₹<!-- -->47,490</div><div class=\"_3Ay6Sb\"><span>11% off</span></div></div><div class=\"_3tcB5a p8ucoS\"><div><div class=\"_2Tpdn3\" style=\"color:#000000;font-size:12px;font-weight:400\">Free delivery</div></div></div></div><div class=\"_13J9qT\"><img height=\"21\" src=\"//static-assets-web.flixcart.com/fk-p-linchpin-web/fk-cp-zion/img/fa_62673a.png\"/></div><div class=\"_2ZdXDB\"><div class=\"_3xFhiH\"><div class=\"_2Tpdn3 _18hQoS\" style=\"color:#26A541;font-size:12px;font-weight:700\">Daily Saver</div></div></div><div class=\"_2ZdXDB\"><div class=\"_3xFhiH\"><div class=\"_2Tpdn3 _18hQoS\" style=\"color:#000000;font-size:14px;font-style:normal;font-weight:400\">Upto </div><div class=\"_2Tpdn3 _18hQoS\" style=\"color:#000000;font-size:14px;font-style:normal;font-weight:700\">₹29,000</div><div class=\"_2Tpdn3 _18hQoS\" style=\"color:#000000;font-size:14px;font-style:normal;font-weight:400\"> Off on Exchange</div></div></div></div></div></a></div></div></div></div><div class=\"_1AtVbE col-12-12\"><div class=\"_13oc-S\"><div data-id=\"MOBGAU545V4QSFFP\" style=\"width:100%\"><div class=\"_2kHMtA\"><a class=\"_1fQZEK\" href=\"/xiaomi-11t-pro-5g-hyperphone-celestial-magic-128-gb/p/itm7124fdf6f4b04?pid=MOBGAU545V4QSFFP&amp;lid=LSTMOBGAU545V4QSFFPEN1WF0&amp;marketplace=FLIPKART&amp;q=mobiles+under+50000&amp;store=tyy%2F4io&amp;srno=s_1_15&amp;otracker=search&amp;otracker1=search&amp;fm=organic&amp;iid=cadfb0f9-a759-4480-83a6-1ee3f391045e.MOBGAU545V4QSFFP.SEARCH&amp;ppt=None&amp;ppn=None&amp;ssid=8vneci3w3k0000001680772066447&amp;qH=8b60bcb863f60970\" rel=\"noopener noreferrer\" target=\"_blank\"><div class=\"MIXNux\"><div class=\"_2QcLo-\"><div><div class=\"CXW8mj\" style=\"height:200px;width:200px\"><img alt=\"Xiaomi 11T Pro 5G Hyperphone (Celestial Magic, 128 GB)\" class=\"_396cs4\" loading=\"eager\" src=\"https://rukminim1.flixcart.com/image/312/312/kynb6vk0/mobile/s/5/g/11t-pro-5g-11t-mi-original-imagatzzzpffbhgb.jpeg?q=70\"/></div></div></div><div class=\"_3wLduG\"><div class=\"_3PzNI-\"><span class=\"f3A4_V\"><label class=\"_2iDkf8\"><input class=\"_30VH1S\" readonly=\"\" type=\"checkbox\"/><div class=\"_24_Dny\"></div></label></span><label class=\"_6Up2sF\"><span>Add to Compare</span></label></div></div><div class=\"_2hVSre _3nq8ih\"><div class=\"_36FSn5\"><svg class=\"_1l0elc\" height=\"16\" viewbox=\"0 0 20 16\" width=\"16\" xmlns=\"http://www.w3.org/2000/svg\"><path class=\"eX72wL\" d=\"M8.695 16.682C4.06 12.382 1 9.536 1 6.065 1 3.219 3.178 1 5.95 1c1.566 0 3.069.746 4.05 1.915C10.981 1.745 12.484 1 14.05 1 16.822 1 19 3.22 19 6.065c0 3.471-3.06 6.316-7.695 10.617L10 17.897l-1.305-1.215z\" fill=\"#2874F0\" fill-rule=\"evenodd\" opacity=\".9\" stroke=\"#FFF\"></path></svg></div></div></div><div class=\"_3pLy-c row\"><div class=\"col col-7-12\"><div class=\"_4rR01T\">Xiaomi 11T Pro 5G Hyperphone (Celestial Magic, 128 GB)</div><div class=\"gUuXy-\"><span class=\"_1lRcqv\" id=\"productRating_LSTMOBGAU545V4QSFFPEN1WF0_MOBGAU545V4QSFFP_\"><div class=\"_3LWZlK\">4.1<img class=\"_1wB99o\" src=\"data:image/svg+xml;base64,PHN2ZyB4bWxucz0iaHR0cDovL3d3dy53My5vcmcvMjAwMC9zdmciIHdpZHRoPSIxMyIgaGVpZ2h0PSIxMiI+PHBhdGggZmlsbD0iI0ZGRiIgZD0iTTYuNSA5LjQzOWwtMy42NzQgMi4yMy45NC00LjI2LTMuMjEtMi44ODMgNC4yNTQtLjQwNEw2LjUuMTEybDEuNjkgNC4wMSA0LjI1NC40MDQtMy4yMSAyLjg4Mi45NCA0LjI2eiIvPjwvc3ZnPg==\"/></div></span><span class=\"_2_R_DZ\"><span><span>527 Ratings </span><span class=\"_13vcmD\">&amp;</span><span> 63 Reviews</span></span></span></div><div class=\"fMghEO\"><ul class=\"_1xgFaf\"><li class=\"rgWa7D\">8 GB RAM | 128 GB ROM</li><li class=\"rgWa7D\">16.94 cm (6.67 inch) Display</li><li class=\"rgWa7D\">108MP Rear Camera</li><li class=\"rgWa7D\">5000 mAh Battery</li><li class=\"rgWa7D\">1 Year</li></ul></div></div><div class=\"col col-5-12 nlI3QM\"><div class=\"_3tbKJL\"><div class=\"_25b18c\"><div class=\"_30jeq3 _1_WHN1\">₹30,880</div><div class=\"_3I9_wc _27UcVY\">₹<!-- -->49,999</div><div class=\"_3Ay6Sb\"><span>38% off</span></div></div><div class=\"_3tcB5a p8ucoS\"><div><div class=\"_2Tpdn3\" style=\"color:#000000;font-size:12px;font-weight:400\">Free delivery</div></div></div></div><div class=\"_2ZdXDB\"><div class=\"_3xFhiH\"><div class=\"_2Tpdn3 _18hQoS\" style=\"color:#26A541;font-size:14px;font-weight:700\">Bank Offer</div></div></div></div></div></a></div></div></div></div><div class=\"_1AtVbE col-12-12\"><div class=\"_13oc-S\"><div data-id=\"MOBGHBZHP7QQFFE8\" style=\"width:100%\"><div class=\"_2kHMtA\"><a class=\"_1fQZEK\" href=\"/oneplus-10-pro-5g-emerald-forest-128-gb/p/itmca601c423f05f?pid=MOBGHBZHP7QQFFE8&amp;lid=LSTMOBGHBZHP7QQFFE8MGYFSO&amp;marketplace=FLIPKART&amp;q=mobiles+under+50000&amp;store=tyy%2F4io&amp;srno=s_1_16&amp;otracker=search&amp;otracker1=search&amp;fm=organic&amp;iid=cadfb0f9-a759-4480-83a6-1ee3f391045e.MOBGHBZHP7QQFFE8.SEARCH&amp;ppt=None&amp;ppn=None&amp;ssid=8vneci3w3k0000001680772066447&amp;qH=8b60bcb863f60970\" rel=\"noopener noreferrer\" target=\"_blank\"><div class=\"MIXNux\"><div class=\"_2QcLo-\"><div><div class=\"CXW8mj\" style=\"height:200px;width:200px\"><img alt=\"OnePlus 10 Pro 5G (Emerald Forest, 128 GB)\" class=\"_396cs4\" loading=\"eager\" src=\"https://rukminim1.flixcart.com/image/312/312/xif0q/mobile/l/j/q/-original-imagkgshx9kfayxq.jpeg?q=70\"/></div></div></div><div class=\"_3wLduG\"><div class=\"_3PzNI-\"><span class=\"f3A4_V\"><label class=\"_2iDkf8\"><input class=\"_30VH1S\" readonly=\"\" type=\"checkbox\"/><div class=\"_24_Dny\"></div></label></span><label class=\"_6Up2sF\"><span>Add to Compare</span></label></div></div><div class=\"_2hVSre _3nq8ih\"><div class=\"_36FSn5\"><svg class=\"_1l0elc\" height=\"16\" viewbox=\"0 0 20 16\" width=\"16\" xmlns=\"http://www.w3.org/2000/svg\"><path class=\"eX72wL\" d=\"M8.695 16.682C4.06 12.382 1 9.536 1 6.065 1 3.219 3.178 1 5.95 1c1.566 0 3.069.746 4.05 1.915C10.981 1.745 12.484 1 14.05 1 16.822 1 19 3.22 19 6.065c0 3.471-3.06 6.316-7.695 10.617L10 17.897l-1.305-1.215z\" fill=\"#2874F0\" fill-rule=\"evenodd\" opacity=\".9\" stroke=\"#FFF\"></path></svg></div></div></div><div class=\"_3pLy-c row\"><div class=\"col col-7-12\"><div class=\"_4rR01T\">OnePlus 10 Pro 5G (Emerald Forest, 128 GB)</div><div class=\"gUuXy-\"><span class=\"_1lRcqv\" id=\"productRating_LSTMOBGHBZHP7QQFFE8MGYFSO_MOBGHBZHP7QQFFE8_\"><div class=\"_3LWZlK\">4.2<img class=\"_1wB99o\" src=\"data:image/svg+xml;base64,PHN2ZyB4bWxucz0iaHR0cDovL3d3dy53My5vcmcvMjAwMC9zdmciIHdpZHRoPSIxMyIgaGVpZ2h0PSIxMiI+PHBhdGggZmlsbD0iI0ZGRiIgZD0iTTYuNSA5LjQzOWwtMy42NzQgMi4yMy45NC00LjI2LTMuMjEtMi44ODMgNC4yNTQtLjQwNEw2LjUuMTEybDEuNjkgNC4wMSA0LjI1NC40MDQtMy4yMSAyLjg4Mi45NCA0LjI2eiIvPjwvc3ZnPg==\"/></div></span><span class=\"_2_R_DZ\"><span><span>160 Ratings </span><span class=\"_13vcmD\">&amp;</span><span> 8 Reviews</span></span></span></div><div class=\"fMghEO\"><ul class=\"_1xgFaf\"><li class=\"rgWa7D\">8 GB RAM | 128 GB ROM</li><li class=\"rgWa7D\">17.02 cm (6.7 inch) Display</li><li class=\"rgWa7D\">48MP Rear Camera</li><li class=\"rgWa7D\">5000 mAh Battery</li><li class=\"rgWa7D\">1 year manufacturer warranty for device and 6 months manufacturer warranty for in-box accessories including batteries from the date of purchase</li></ul></div></div><div class=\"col col-5-12 nlI3QM\"><div class=\"_3tbKJL\"><div class=\"_25b18c\"><div class=\"_30jeq3 _1_WHN1\">₹49,990</div><div class=\"_3I9_wc _27UcVY\">₹<!-- -->66,999</div><div class=\"_3Ay6Sb\"><span>25% off</span></div></div><div class=\"_3tcB5a p8ucoS\"><div><div class=\"_2Tpdn3\" style=\"color:#000000;font-size:12px;font-weight:400\">Free delivery</div></div></div></div><div class=\"_13J9qT\"><img height=\"21\" src=\"//static-assets-web.flixcart.com/fk-p-linchpin-web/fk-cp-zion/img/fa_62673a.png\"/></div><div class=\"_2ZdXDB\"><div class=\"_3xFhiH\"><div class=\"_2Tpdn3 _18hQoS\" style=\"color:#000000;font-size:12px;font-weight:400\">No Cost EMI from ₹8,332/month</div></div></div><div class=\"_2ZdXDB\"><div class=\"_3xFhiH\"><div class=\"_2Tpdn3 _18hQoS\" style=\"color:#26A541;font-size:14px;font-weight:700\">Bank Offer</div></div></div></div></div></a></div></div></div></div><div class=\"_1AtVbE col-12-12\"><div class=\"_13oc-S\"><div data-id=\"MOBGCRYZ7PYZSBGJ\" style=\"width:100%\"><div class=\"_2kHMtA\"><a class=\"_1fQZEK\" href=\"/realme-gt-2-pro-paper-white-128-gb/p/itm125e5a8c1de92?pid=MOBGCRYZ7PYZSBGJ&amp;lid=LSTMOBGCRYZ7PYZSBGJ3SDADH&amp;marketplace=FLIPKART&amp;q=mobiles+under+50000&amp;store=tyy%2F4io&amp;srno=s_1_17&amp;otracker=search&amp;otracker1=search&amp;fm=organic&amp;iid=cadfb0f9-a759-4480-83a6-1ee3f391045e.MOBGCRYZ7PYZSBGJ.SEARCH&amp;ppt=None&amp;ppn=None&amp;ssid=8vneci3w3k0000001680772066447&amp;qH=8b60bcb863f60970\" rel=\"noopener noreferrer\" target=\"_blank\"><div class=\"MIXNux\"><div class=\"_2QcLo-\"><div><div class=\"CXW8mj\" style=\"height:200px;width:200px\"><img alt=\"realme GT 2 Pro (Paper White, 128 GB)\" class=\"_396cs4\" loading=\"eager\" src=\"https://rukminim1.flixcart.com/image/312/312/l3rmzrk0/mobile/c/c/o/-original-imagetmegwtng3xg.jpeg?q=70\"/></div></div></div><div class=\"_3wLduG\"><div class=\"_3PzNI-\"><span class=\"f3A4_V\"><label class=\"_2iDkf8\"><input class=\"_30VH1S\" readonly=\"\" type=\"checkbox\"/><div class=\"_24_Dny\"></div></label></span><label class=\"_6Up2sF\"><span>Add to Compare</span></label></div></div><div class=\"_2hVSre _3nq8ih\"><div class=\"_36FSn5\"><svg class=\"_1l0elc\" height=\"16\" viewbox=\"0 0 20 16\" width=\"16\" xmlns=\"http://www.w3.org/2000/svg\"><path class=\"eX72wL\" d=\"M8.695 16.682C4.06 12.382 1 9.536 1 6.065 1 3.219 3.178 1 5.95 1c1.566 0 3.069.746 4.05 1.915C10.981 1.745 12.484 1 14.05 1 16.822 1 19 3.22 19 6.065c0 3.471-3.06 6.316-7.695 10.617L10 17.897l-1.305-1.215z\" fill=\"#2874F0\" fill-rule=\"evenodd\" opacity=\".9\" stroke=\"#FFF\"></path></svg></div></div></div><div class=\"_3pLy-c row\"><div class=\"col col-7-12\"><div class=\"_4rR01T\">realme GT 2 Pro (Paper White, 128 GB)</div><div class=\"gUuXy-\"><span class=\"_1lRcqv\" id=\"productRating_LSTMOBGCRYZ7PYZSBGJ3SDADH_MOBGCRYZ7PYZSBGJ_\"><div class=\"_3LWZlK\">4.2<img class=\"_1wB99o\" src=\"data:image/svg+xml;base64,PHN2ZyB4bWxucz0iaHR0cDovL3d3dy53My5vcmcvMjAwMC9zdmciIHdpZHRoPSIxMyIgaGVpZ2h0PSIxMiI+PHBhdGggZmlsbD0iI0ZGRiIgZD0iTTYuNSA5LjQzOWwtMy42NzQgMi4yMy45NC00LjI2LTMuMjEtMi44ODMgNC4yNTQtLjQwNEw2LjUuMTEybDEuNjkgNC4wMSA0LjI1NC40MDQtMy4yMSAyLjg4Mi45NCA0LjI2eiIvPjwvc3ZnPg==\"/></div></span><span class=\"_2_R_DZ\"><span><span>2,761 Ratings </span><span class=\"_13vcmD\">&amp;</span><span> 426 Reviews</span></span></span></div><div class=\"fMghEO\"><ul class=\"_1xgFaf\"><li class=\"rgWa7D\">8 GB RAM | 128 GB ROM</li><li class=\"rgWa7D\">17.02 cm (6.7 inch) Quad HD Display</li><li class=\"rgWa7D\">50MP + 50MP + 2MP | 32MP Front Camera</li><li class=\"rgWa7D\">5000 mAh Lithium Ion Battery</li><li class=\"rgWa7D\">Qualcomm Snapdragon 8 Gen 1 Mobile Platform Processor</li><li class=\"rgWa7D\">1 Year Manufacturer Warranty for Phone and 6 Months Warranty for In-Box Accessories</li></ul></div></div><div class=\"col col-5-12 nlI3QM\"><div class=\"_3tbKJL\"><div class=\"_25b18c\"><div class=\"_30jeq3 _1_WHN1\">₹49,999</div><div class=\"_3I9_wc _27UcVY\">₹<!-- -->57,999</div><div class=\"_3Ay6Sb\"><span>13% off</span></div></div><div class=\"_3tcB5a p8ucoS\"><div><div class=\"_2Tpdn3\" style=\"color:#000000;font-size:12px;font-weight:400\">Free delivery</div></div></div></div><div class=\"_13J9qT\"><img height=\"21\" src=\"//static-assets-web.flixcart.com/fk-p-linchpin-web/fk-cp-zion/img/fa_62673a.png\"/></div><div class=\"_2ZdXDB\"><div class=\"_3xFhiH\"><div class=\"_2Tpdn3 _18hQoS\" style=\"color:#26A541;font-size:12px;font-weight:700\">Daily Saver</div></div></div><div class=\"_2ZdXDB\"><div class=\"_3xFhiH\"><div class=\"_2Tpdn3 _18hQoS\" style=\"color:#000000;font-size:14px;font-style:normal;font-weight:400\">Upto </div><div class=\"_2Tpdn3 _18hQoS\" style=\"color:#000000;font-size:14px;font-style:normal;font-weight:700\">₹27,000</div><div class=\"_2Tpdn3 _18hQoS\" style=\"color:#000000;font-size:14px;font-style:normal;font-weight:400\"> Off on Exchange</div></div></div></div></div></a></div></div></div></div><div class=\"_1AtVbE col-12-12\"><div class=\"_13oc-S\"><div data-id=\"MOBFP6WYFBVHDHY8\" style=\"width:100%\"><div class=\"_2kHMtA\"><a class=\"_1fQZEK\" href=\"/realme-x50-pro-moss-green-256-gb/p/itm13d1770db35a3?pid=MOBFP6WYFBVHDHY8&amp;lid=LSTMOBFP6WYFBVHDHY8GUPJMY&amp;marketplace=FLIPKART&amp;q=mobiles+under+50000&amp;store=tyy%2F4io&amp;srno=s_1_18&amp;otracker=search&amp;otracker1=search&amp;fm=organic&amp;iid=cadfb0f9-a759-4480-83a6-1ee3f391045e.MOBFP6WYFBVHDHY8.SEARCH&amp;ppt=None&amp;ppn=None&amp;ssid=8vneci3w3k0000001680772066447&amp;qH=8b60bcb863f60970\" rel=\"noopener noreferrer\" target=\"_blank\"><div class=\"MIXNux\"><div class=\"_2QcLo-\"><div><div class=\"CXW8mj\" style=\"height:200px;width:200px\"><img alt=\"realme X50 Pro (Moss Green, 256 GB)\" class=\"_396cs4\" loading=\"eager\" src=\"https://rukminim1.flixcart.com/image/312/312/k6zda4w0/mobile/h/y/8/realme-x50-pro-rmx2076-original-imafpbbvbwfcpz2r.jpeg?q=70\"/></div></div></div><div class=\"_3wLduG\"><div class=\"_3PzNI-\"><span class=\"f3A4_V\"><label class=\"_2iDkf8\"><input class=\"_30VH1S\" readonly=\"\" type=\"checkbox\"/><div class=\"_24_Dny\"></div></label></span><label class=\"_6Up2sF\"><span>Add to Compare</span></label></div></div><div class=\"_2hVSre _3nq8ih\"><div class=\"_36FSn5\"><svg class=\"_1l0elc\" height=\"16\" viewbox=\"0 0 20 16\" width=\"16\" xmlns=\"http://www.w3.org/2000/svg\"><path class=\"eX72wL\" d=\"M8.695 16.682C4.06 12.382 1 9.536 1 6.065 1 3.219 3.178 1 5.95 1c1.566 0 3.069.746 4.05 1.915C10.981 1.745 12.484 1 14.05 1 16.822 1 19 3.22 19 6.065c0 3.471-3.06 6.316-7.695 10.617L10 17.897l-1.305-1.215z\" fill=\"#2874F0\" fill-rule=\"evenodd\" opacity=\".9\" stroke=\"#FFF\"></path></svg></div></div></div><div class=\"_3pLy-c row\"><div class=\"col col-7-12\"><div class=\"_4rR01T\">realme X50 Pro (Moss Green, 256 GB)</div><div class=\"gUuXy-\"><span class=\"_1lRcqv\" id=\"productRating_LSTMOBFP6WYFBVHDHY8GUPJMY_MOBFP6WYFBVHDHY8_\"><div class=\"_3LWZlK\">4.4<img class=\"_1wB99o\" src=\"data:image/svg+xml;base64,PHN2ZyB4bWxucz0iaHR0cDovL3d3dy53My5vcmcvMjAwMC9zdmciIHdpZHRoPSIxMyIgaGVpZ2h0PSIxMiI+PHBhdGggZmlsbD0iI0ZGRiIgZD0iTTYuNSA5LjQzOWwtMy42NzQgMi4yMy45NC00LjI2LTMuMjEtMi44ODMgNC4yNTQtLjQwNEw2LjUuMTEybDEuNjkgNC4wMSA0LjI1NC40MDQtMy4yMSAyLjg4Mi45NCA0LjI2eiIvPjwvc3ZnPg==\"/></div></span><span class=\"_2_R_DZ\"><span><span>1,644 Ratings </span><span class=\"_13vcmD\">&amp;</span><span> 188 Reviews</span></span></span></div><div class=\"fMghEO\"><ul class=\"_1xgFaf\"><li class=\"rgWa7D\">12 GB RAM | 256 GB ROM</li><li class=\"rgWa7D\">16.36 cm (6.44 inch) Full HD+ Display</li><li class=\"rgWa7D\">64MP + 12MP + 8MP + 2MP | 32MP + 8MP Dual Front Camera</li><li class=\"rgWa7D\">4200 mAh Battery</li><li class=\"rgWa7D\">5G Phone</li><li class=\"rgWa7D\">Qualcomm Snapdragon 865 Processor</li><li class=\"rgWa7D\">65W Superdart Charge</li><li class=\"rgWa7D\">Brand Warranty of 1 Year Available for Mobile and 6 Months for Accessories</li></ul></div></div><div class=\"col col-5-12 nlI3QM\"><div class=\"_3tbKJL\"><div class=\"_25b18c\"><div class=\"_30jeq3 _1_WHN1\">₹47,999</div></div><div class=\"_3tcB5a p8ucoS\"><div><div class=\"_2Tpdn3\" style=\"color:#000000;font-size:12px;font-weight:400\">Free delivery</div></div></div></div><div class=\"_13J9qT\"><img height=\"21\" src=\"//static-assets-web.flixcart.com/fk-p-linchpin-web/fk-cp-zion/img/fa_62673a.png\"/></div><div class=\"_2ZdXDB\"><div class=\"_3xFhiH\"><div class=\"_2Tpdn3 _18hQoS\" style=\"color:#000000;font-size:14px;font-style:normal;font-weight:400\">Upto </div><div class=\"_2Tpdn3 _18hQoS\" style=\"color:#000000;font-size:14px;font-style:normal;font-weight:700\">₹27,000</div><div class=\"_2Tpdn3 _18hQoS\" style=\"color:#000000;font-size:14px;font-style:normal;font-weight:400\"> Off on Exchange</div></div></div><div class=\"_2ZdXDB\"><div class=\"_3xFhiH\"><div class=\"_2Tpdn3 _18hQoS\" style=\"color:#26A541;font-size:14px;font-weight:700\">Bank Offer</div></div></div></div></div></a></div></div></div></div><div class=\"_1AtVbE col-12-12\"><div class=\"_13oc-S\"><div data-id=\"MOBFWAFZASEEEES6\" style=\"width:100%\"><div class=\"_2kHMtA\"><a class=\"_1fQZEK\" href=\"/mi-10t-pro-cosmic-black-128-gb/p/itm5ff5455fec520?pid=MOBFWAFZASEEEES6&amp;lid=LSTMOBFWAFZASEEEES6FME6S3&amp;marketplace=FLIPKART&amp;q=mobiles+under+50000&amp;store=tyy%2F4io&amp;srno=s_1_19&amp;otracker=search&amp;otracker1=search&amp;fm=organic&amp;iid=cadfb0f9-a759-4480-83a6-1ee3f391045e.MOBFWAFZASEEEES6.SEARCH&amp;ppt=None&amp;ppn=None&amp;ssid=8vneci3w3k0000001680772066447&amp;qH=8b60bcb863f60970\" rel=\"noopener noreferrer\" target=\"_blank\"><div class=\"MIXNux\"><div class=\"_2QcLo-\"><div><div class=\"CXW8mj\" style=\"height:200px;width:200px\"><img alt=\"Mi 10T Pro (Cosmic Black, 128 GB)\" class=\"_396cs4\" loading=\"eager\" src=\"https://rukminim1.flixcart.com/image/312/312/kg6vfrk0/mobile/e/s/6/mi-10t-pro-mzb07zdin-original-imafwhbrythgcddt.jpeg?q=70\"/></div></div></div><div class=\"_3wLduG\"><div class=\"_3PzNI-\"><span class=\"f3A4_V\"><label class=\"_2iDkf8\"><input class=\"_30VH1S\" readonly=\"\" type=\"checkbox\"/><div class=\"_24_Dny\"></div></label></span><label class=\"_6Up2sF\"><span>Add to Compare</span></label></div></div><div class=\"_2hVSre _3nq8ih\"><div class=\"_36FSn5\"><svg class=\"_1l0elc\" height=\"16\" viewbox=\"0 0 20 16\" width=\"16\" xmlns=\"http://www.w3.org/2000/svg\"><path class=\"eX72wL\" d=\"M8.695 16.682C4.06 12.382 1 9.536 1 6.065 1 3.219 3.178 1 5.95 1c1.566 0 3.069.746 4.05 1.915C10.981 1.745 12.484 1 14.05 1 16.822 1 19 3.22 19 6.065c0 3.471-3.06 6.316-7.695 10.617L10 17.897l-1.305-1.215z\" fill=\"#2874F0\" fill-rule=\"evenodd\" opacity=\".9\" stroke=\"#FFF\"></path></svg></div></div></div><div class=\"_3pLy-c row\"><div class=\"col col-7-12\"><div class=\"_4rR01T\">Mi 10T Pro (Cosmic Black, 128 GB)</div><div class=\"gUuXy-\"><span class=\"_1lRcqv\" id=\"productRating_LSTMOBFWAFZASEEEES6FME6S3_MOBFWAFZASEEEES6_\"><div class=\"_3LWZlK\">4.2<img class=\"_1wB99o\" src=\"data:image/svg+xml;base64,PHN2ZyB4bWxucz0iaHR0cDovL3d3dy53My5vcmcvMjAwMC9zdmciIHdpZHRoPSIxMyIgaGVpZ2h0PSIxMiI+PHBhdGggZmlsbD0iI0ZGRiIgZD0iTTYuNSA5LjQzOWwtMy42NzQgMi4yMy45NC00LjI2LTMuMjEtMi44ODMgNC4yNTQtLjQwNEw2LjUuMTEybDEuNjkgNC4wMSA0LjI1NC40MDQtMy4yMSAyLjg4Mi45NCA0LjI2eiIvPjwvc3ZnPg==\"/></div></span><span class=\"_2_R_DZ\"><span><span>3,684 Ratings </span><span class=\"_13vcmD\">&amp;</span><span> 553 Reviews</span></span></span></div><div class=\"fMghEO\"><ul class=\"_1xgFaf\"><li class=\"rgWa7D\">8 GB RAM | 128 GB ROM</li><li class=\"rgWa7D\">16.94 cm (6.67 inch) Full HD+ Display</li><li class=\"rgWa7D\">108MP + 13MP + 5MP | 20MP Front Camera</li><li class=\"rgWa7D\">5000 mAh Li-ion Polymer Battery</li><li class=\"rgWa7D\">Qualcomm Snapdragon 865 Processor</li><li class=\"rgWa7D\">144Hz Intelligent AdaptiveSync Display</li><li class=\"rgWa7D\">33W Dual Split Flash Charge</li><li class=\"rgWa7D\">1 Year Manufacturer Warranty for Device and 6 Months Manufacturer Warranty for In-box Accessories</li></ul></div></div><div class=\"col col-5-12 nlI3QM\"><div class=\"_3tbKJL\"><div class=\"_25b18c\"><div class=\"_30jeq3 _1_WHN1\">₹47,999</div></div><div class=\"_3tcB5a p8ucoS\"><div><div class=\"_2Tpdn3\" style=\"color:#000000;font-size:12px;font-weight:400\">Free delivery</div></div></div></div><div class=\"_13J9qT\"><img height=\"21\" src=\"//static-assets-web.flixcart.com/fk-p-linchpin-web/fk-cp-zion/img/fa_62673a.png\"/></div><div class=\"_2ZdXDB\"><div class=\"_3xFhiH\"><div class=\"_2Tpdn3 _18hQoS\" style=\"color:#000000;font-size:14px;font-style:normal;font-weight:400\">Upto </div><div class=\"_2Tpdn3 _18hQoS\" style=\"color:#000000;font-size:14px;font-style:normal;font-weight:700\">₹27,000</div><div class=\"_2Tpdn3 _18hQoS\" style=\"color:#000000;font-size:14px;font-style:normal;font-weight:400\"> Off on Exchange</div></div></div><div class=\"_2ZdXDB\"><div class=\"_3xFhiH\"><div class=\"_2Tpdn3 _18hQoS\" style=\"color:#26A541;font-size:14px;font-weight:700\">Bank Offer</div></div></div></div></div></a></div></div></div></div><div class=\"_1AtVbE col-12-12\"><div class=\"_13oc-S\"><div data-id=\"MOBGCRYZJGW3UJWG\" style=\"width:100%\"><div class=\"_2kHMtA\"><a class=\"_1fQZEK\" href=\"/realme-gt-2-pro-paper-green-128-gb/p/itm125e5a8c1de92?pid=MOBGCRYZJGW3UJWG&amp;lid=LSTMOBGCRYZJGW3UJWGFH7MAV&amp;marketplace=FLIPKART&amp;q=mobiles+under+50000&amp;store=tyy%2F4io&amp;srno=s_1_20&amp;otracker=search&amp;otracker1=search&amp;fm=organic&amp;iid=cadfb0f9-a759-4480-83a6-1ee3f391045e.MOBGCRYZJGW3UJWG.SEARCH&amp;ppt=None&amp;ppn=None&amp;ssid=8vneci3w3k0000001680772066447&amp;qH=8b60bcb863f60970\" rel=\"noopener noreferrer\" target=\"_blank\"><div class=\"MIXNux\"><div class=\"_2QcLo-\"><div><div class=\"CXW8mj\" style=\"height:200px;width:200px\"><img alt=\"realme GT 2 Pro (Paper Green, 128 GB)\" class=\"_396cs4\" loading=\"eager\" src=\"https://rukminim1.flixcart.com/image/312/312/l3rmzrk0/mobile/5/o/q/-original-imagetmenznfey7h.jpeg?q=70\"/></div></div></div><div class=\"_3wLduG\"><div class=\"_3PzNI-\"><span class=\"f3A4_V\"><label class=\"_2iDkf8\"><input class=\"_30VH1S\" readonly=\"\" type=\"checkbox\"/><div class=\"_24_Dny\"></div></label></span><label class=\"_6Up2sF\"><span>Add to Compare</span></label></div></div><div class=\"_2hVSre _3nq8ih\"><div class=\"_36FSn5\"><svg class=\"_1l0elc\" height=\"16\" viewbox=\"0 0 20 16\" width=\"16\" xmlns=\"http://www.w3.org/2000/svg\"><path class=\"eX72wL\" d=\"M8.695 16.682C4.06 12.382 1 9.536 1 6.065 1 3.219 3.178 1 5.95 1c1.566 0 3.069.746 4.05 1.915C10.981 1.745 12.484 1 14.05 1 16.822 1 19 3.22 19 6.065c0 3.471-3.06 6.316-7.695 10.617L10 17.897l-1.305-1.215z\" fill=\"#2874F0\" fill-rule=\"evenodd\" opacity=\".9\" stroke=\"#FFF\"></path></svg></div></div></div><div class=\"_3pLy-c row\"><div class=\"col col-7-12\"><div class=\"_4rR01T\">realme GT 2 Pro (Paper Green, 128 GB)</div><div class=\"gUuXy-\"><span class=\"_1lRcqv\" id=\"productRating_LSTMOBGCRYZJGW3UJWGFH7MAV_MOBGCRYZJGW3UJWG_\"><div class=\"_3LWZlK\">4.2<img class=\"_1wB99o\" src=\"data:image/svg+xml;base64,PHN2ZyB4bWxucz0iaHR0cDovL3d3dy53My5vcmcvMjAwMC9zdmciIHdpZHRoPSIxMyIgaGVpZ2h0PSIxMiI+PHBhdGggZmlsbD0iI0ZGRiIgZD0iTTYuNSA5LjQzOWwtMy42NzQgMi4yMy45NC00LjI2LTMuMjEtMi44ODMgNC4yNTQtLjQwNEw2LjUuMTEybDEuNjkgNC4wMSA0LjI1NC40MDQtMy4yMSAyLjg4Mi45NCA0LjI2eiIvPjwvc3ZnPg==\"/></div></span><span class=\"_2_R_DZ\"><span><span>2,761 Ratings </span><span class=\"_13vcmD\">&amp;</span><span> 426 Reviews</span></span></span></div><div class=\"fMghEO\"><ul class=\"_1xgFaf\"><li class=\"rgWa7D\">8 GB RAM | 128 GB ROM</li><li class=\"rgWa7D\">17.02 cm (6.7 inch) Quad HD Display</li><li class=\"rgWa7D\">50MP + 50MP + 2MP | 32MP Front Camera</li><li class=\"rgWa7D\">5000 mAh Lithium Ion Battery</li><li class=\"rgWa7D\">Qualcomm Snapdragon 8 Gen 1 Mobile Platform Processor</li><li class=\"rgWa7D\">1 Year Manufacturer Warranty for Phone and 6 Months Warranty for In-Box Accessories</li></ul></div></div><div class=\"col col-5-12 nlI3QM\"><div class=\"_3tbKJL\"><div class=\"_25b18c\"><div class=\"_30jeq3 _1_WHN1\">₹49,999</div><div class=\"_3I9_wc _27UcVY\">₹<!-- -->57,999</div><div class=\"_3Ay6Sb\"><span>13% off</span></div></div><div class=\"_3tcB5a p8ucoS\"><div><div class=\"_2Tpdn3\" style=\"color:#000000;font-size:12px;font-weight:400\">Free delivery</div></div></div></div><div class=\"_13J9qT\"><img height=\"21\" src=\"//static-assets-web.flixcart.com/fk-p-linchpin-web/fk-cp-zion/img/fa_62673a.png\"/></div><div class=\"_2ZdXDB\"><div class=\"_3xFhiH\"><div class=\"_2Tpdn3 _18hQoS\" style=\"color:#26A541;font-size:12px;font-weight:700\">Daily Saver</div></div></div><div class=\"_2ZdXDB\"><div class=\"_3xFhiH\"><div class=\"_2Tpdn3 _18hQoS\" style=\"color:#000000;font-size:14px;font-style:normal;font-weight:400\">Upto </div><div class=\"_2Tpdn3 _18hQoS\" style=\"color:#000000;font-size:14px;font-style:normal;font-weight:700\">₹27,000</div><div class=\"_2Tpdn3 _18hQoS\" style=\"color:#000000;font-size:14px;font-style:normal;font-weight:400\"> Off on Exchange</div></div></div></div></div></a></div></div></div></div><div class=\"_1AtVbE col-12-12\"><div class=\"_13oc-S\"><div data-id=\"MOBGDZ78FGZCW2FF\" style=\"width:100%\"><div class=\"_2kHMtA\"><a class=\"_1fQZEK\" href=\"/xiaomi-12-pro-5g-couture-blue-256-gb/p/itm4e017bacc4e75?pid=MOBGDZ78FGZCW2FF&amp;lid=LSTMOBGDZ78FGZCW2FFZEDSCP&amp;marketplace=FLIPKART&amp;q=mobiles+under+50000&amp;store=tyy%2F4io&amp;srno=s_1_21&amp;otracker=search&amp;otracker1=search&amp;fm=organic&amp;iid=cadfb0f9-a759-4480-83a6-1ee3f391045e.MOBGDZ78FGZCW2FF.SEARCH&amp;ppt=None&amp;ppn=None&amp;ssid=8vneci3w3k0000001680772066447&amp;qH=8b60bcb863f60970\" rel=\"noopener noreferrer\" target=\"_blank\"><div class=\"MIXNux\"><div class=\"_2QcLo-\"><div><div class=\"CXW8mj\" style=\"height:200px;width:200px\"><img alt=\"Xiaomi 12 Pro 5G (Couture Blue, 256 GB)\" class=\"_396cs4\" loading=\"eager\" src=\"https://rukminim1.flixcart.com/image/312/312/l2p23rk0/mobile/s/5/w/12-pro-5g-2201122g-mi-original-imagdz78yqnz5fpt.jpeg?q=70\"/></div></div></div><div class=\"_3wLduG\"><div class=\"_3PzNI-\"><span class=\"f3A4_V\"><label class=\"_2iDkf8\"><input class=\"_30VH1S\" readonly=\"\" type=\"checkbox\"/><div class=\"_24_Dny\"></div></label></span><label class=\"_6Up2sF\"><span>Add to Compare</span></label></div></div><div class=\"_2hVSre _3nq8ih\"><div class=\"_36FSn5\"><svg class=\"_1l0elc\" height=\"16\" viewbox=\"0 0 20 16\" width=\"16\" xmlns=\"http://www.w3.org/2000/svg\"><path class=\"eX72wL\" d=\"M8.695 16.682C4.06 12.382 1 9.536 1 6.065 1 3.219 3.178 1 5.95 1c1.566 0 3.069.746 4.05 1.915C10.981 1.745 12.484 1 14.05 1 16.822 1 19 3.22 19 6.065c0 3.471-3.06 6.316-7.695 10.617L10 17.897l-1.305-1.215z\" fill=\"#2874F0\" fill-rule=\"evenodd\" opacity=\".9\" stroke=\"#FFF\"></path></svg></div></div></div><div class=\"_3pLy-c row\"><div class=\"col col-7-12\"><div class=\"_4rR01T\">Xiaomi 12 Pro 5G (Couture Blue, 256 GB)</div><div class=\"gUuXy-\"><span class=\"_1lRcqv\" id=\"productRating_LSTMOBGDZ78FGZCW2FFZEDSCP_MOBGDZ78FGZCW2FF_\"><div class=\"_3LWZlK\">4.1<img class=\"_1wB99o\" src=\"data:image/svg+xml;base64,PHN2ZyB4bWxucz0iaHR0cDovL3d3dy53My5vcmcvMjAwMC9zdmciIHdpZHRoPSIxMyIgaGVpZ2h0PSIxMiI+PHBhdGggZmlsbD0iI0ZGRiIgZD0iTTYuNSA5LjQzOWwtMy42NzQgMi4yMy45NC00LjI2LTMuMjEtMi44ODMgNC4yNTQtLjQwNEw2LjUuMTEybDEuNjkgNC4wMSA0LjI1NC40MDQtMy4yMSAyLjg4Mi45NCA0LjI2eiIvPjwvc3ZnPg==\"/></div></span><span class=\"_2_R_DZ\"><span><span>170 Ratings </span><span class=\"_13vcmD\">&amp;</span><span> 28 Reviews</span></span></span></div><div class=\"fMghEO\"><ul class=\"_1xgFaf\"><li class=\"rgWa7D\">8 GB RAM | 256 GB ROM</li><li class=\"rgWa7D\">17.09 cm (6.73 inch) Full HD+ AMOLED Display</li><li class=\"rgWa7D\">50MP Rear Camera</li><li class=\"rgWa7D\">4600 mAh Battery</li><li class=\"rgWa7D\">Snapdragon@ 8 Gen 1 Processor</li><li class=\"rgWa7D\">12 Months</li></ul></div></div><div class=\"col col-5-12 nlI3QM\"><div class=\"_3tbKJL\"><div class=\"_25b18c\"><div class=\"_30jeq3 _1_WHN1\">₹47,900</div><div class=\"_3I9_wc _27UcVY\">₹<!-- -->79,999</div><div class=\"_3Ay6Sb\"><span>40% off</span></div></div><div class=\"_3tcB5a p8ucoS\"><div><div class=\"_2Tpdn3\" style=\"color:#000000;font-size:12px;font-weight:400\">Free delivery</div></div></div></div><div class=\"_13J9qT\"><img height=\"21\" src=\"//static-assets-web.flixcart.com/fk-p-linchpin-web/fk-cp-zion/img/fa_62673a.png\"/></div><div class=\"_2ZdXDB\"><div class=\"_3xFhiH\"><div class=\"_2Tpdn3 _18hQoS\" style=\"color:#26A541;font-size:14px;font-weight:700\">Bank Offer</div></div></div></div></div></a></div></div></div></div><div class=\"_1AtVbE col-12-12\"><div class=\"_13oc-S\"><div data-id=\"MOBGCRYZFJMG84ZE\" style=\"width:100%\"><div class=\"_2kHMtA\"><a class=\"_1fQZEK\" href=\"/realme-gt-2-pro-steel-black-128-gb/p/itm125e5a8c1de92?pid=MOBGCRYZFJMG84ZE&amp;lid=LSTMOBGCRYZFJMG84ZEGZI1HY&amp;marketplace=FLIPKART&amp;q=mobiles+under+50000&amp;store=tyy%2F4io&amp;srno=s_1_22&amp;otracker=search&amp;otracker1=search&amp;fm=organic&amp;iid=cadfb0f9-a759-4480-83a6-1ee3f391045e.MOBGCRYZFJMG84ZE.SEARCH&amp;ppt=None&amp;ppn=None&amp;ssid=8vneci3w3k0000001680772066447&amp;qH=8b60bcb863f60970\" rel=\"noopener noreferrer\" target=\"_blank\"><div class=\"MIXNux\"><div class=\"_2QcLo-\"><div><div class=\"CXW8mj\" style=\"height:200px;width:200px\"><img alt=\"realme GT 2 Pro (Steel Black, 128 GB)\" class=\"_396cs4\" loading=\"eager\" src=\"https://rukminim1.flixcart.com/image/312/312/l3rmzrk0/mobile/3/o/b/-original-imagetmeqj2tndqx.jpeg?q=70\"/></div></div></div><div class=\"_3wLduG\"><div class=\"_3PzNI-\"><span class=\"f3A4_V\"><label class=\"_2iDkf8\"><input class=\"_30VH1S\" readonly=\"\" type=\"checkbox\"/><div class=\"_24_Dny\"></div></label></span><label class=\"_6Up2sF\"><span>Add to Compare</span></label></div></div><div class=\"_2hVSre _3nq8ih\"><div class=\"_36FSn5\"><svg class=\"_1l0elc\" height=\"16\" viewbox=\"0 0 20 16\" width=\"16\" xmlns=\"http://www.w3.org/2000/svg\"><path class=\"eX72wL\" d=\"M8.695 16.682C4.06 12.382 1 9.536 1 6.065 1 3.219 3.178 1 5.95 1c1.566 0 3.069.746 4.05 1.915C10.981 1.745 12.484 1 14.05 1 16.822 1 19 3.22 19 6.065c0 3.471-3.06 6.316-7.695 10.617L10 17.897l-1.305-1.215z\" fill=\"#2874F0\" fill-rule=\"evenodd\" opacity=\".9\" stroke=\"#FFF\"></path></svg></div></div></div><div class=\"_3pLy-c row\"><div class=\"col col-7-12\"><div class=\"_4rR01T\">realme GT 2 Pro (Steel Black, 128 GB)</div><div class=\"gUuXy-\"><span class=\"_1lRcqv\" id=\"productRating_LSTMOBGCRYZFJMG84ZEGZI1HY_MOBGCRYZFJMG84ZE_\"><div class=\"_3LWZlK\">4.2<img class=\"_1wB99o\" src=\"data:image/svg+xml;base64,PHN2ZyB4bWxucz0iaHR0cDovL3d3dy53My5vcmcvMjAwMC9zdmciIHdpZHRoPSIxMyIgaGVpZ2h0PSIxMiI+PHBhdGggZmlsbD0iI0ZGRiIgZD0iTTYuNSA5LjQzOWwtMy42NzQgMi4yMy45NC00LjI2LTMuMjEtMi44ODMgNC4yNTQtLjQwNEw2LjUuMTEybDEuNjkgNC4wMSA0LjI1NC40MDQtMy4yMSAyLjg4Mi45NCA0LjI2eiIvPjwvc3ZnPg==\"/></div></span><span class=\"_2_R_DZ\"><span><span>2,761 Ratings </span><span class=\"_13vcmD\">&amp;</span><span> 426 Reviews</span></span></span></div><div class=\"fMghEO\"><ul class=\"_1xgFaf\"><li class=\"rgWa7D\">8 GB RAM | 128 GB ROM</li><li class=\"rgWa7D\">17.02 cm (6.7 inch) Quad HD Display</li><li class=\"rgWa7D\">50MP + 50MP + 2MP | 32MP Front Camera</li><li class=\"rgWa7D\">5000 mAh Lithium Ion Battery</li><li class=\"rgWa7D\">Qualcomm Snapdragon 8 Gen 1 Mobile Platform Processor</li><li class=\"rgWa7D\">1 Year Manufacturer Warranty for Phone and 6 Months Warranty for In-Box Accessories</li></ul></div></div><div class=\"col col-5-12 nlI3QM\"><div class=\"_3tbKJL\"><div class=\"_25b18c\"><div class=\"_30jeq3 _1_WHN1\">₹49,999</div><div class=\"_3I9_wc _27UcVY\">₹<!-- -->57,999</div><div class=\"_3Ay6Sb\"><span>13% off</span></div></div><div class=\"_3tcB5a p8ucoS\"><div><div class=\"_2Tpdn3\" style=\"color:#000000;font-size:12px;font-weight:400\">Free delivery</div></div></div></div><div class=\"_13J9qT\"><img height=\"21\" src=\"//static-assets-web.flixcart.com/fk-p-linchpin-web/fk-cp-zion/img/fa_62673a.png\"/></div><div class=\"_2ZdXDB\"><div class=\"_3xFhiH\"><div class=\"_2Tpdn3 _18hQoS\" style=\"color:#26A541;font-size:12px;font-weight:700\">Daily Saver</div></div></div><div class=\"_2ZdXDB\"><div class=\"_3xFhiH\"><div class=\"_2Tpdn3 _18hQoS\" style=\"color:#000000;font-size:14px;font-style:normal;font-weight:400\">Upto </div><div class=\"_2Tpdn3 _18hQoS\" style=\"color:#000000;font-size:14px;font-style:normal;font-weight:700\">₹27,000</div><div class=\"_2Tpdn3 _18hQoS\" style=\"color:#000000;font-size:14px;font-style:normal;font-weight:400\"> Off on Exchange</div></div></div></div></div></a></div></div></div></div><div class=\"_1AtVbE col-12-12\"><div class=\"_13oc-S\"><div data-id=\"MOBGFPE5YNUF6NDV\" style=\"width:100%\"><div class=\"_2kHMtA\"><a class=\"_1fQZEK\" href=\"/oppo-reno8-pro-5g-glazed-black-256-gb/p/itm30b1eb50ca71f?pid=MOBGFPE5YNUF6NDV&amp;lid=LSTMOBGFPE5YNUF6NDVRHBY1J&amp;marketplace=FLIPKART&amp;q=mobiles+under+50000&amp;store=tyy%2F4io&amp;srno=s_1_23&amp;otracker=search&amp;otracker1=search&amp;fm=organic&amp;iid=cadfb0f9-a759-4480-83a6-1ee3f391045e.MOBGFPE5YNUF6NDV.SEARCH&amp;ppt=None&amp;ppn=None&amp;ssid=8vneci3w3k0000001680772066447&amp;qH=8b60bcb863f60970\" rel=\"noopener noreferrer\" target=\"_blank\"><div class=\"MIXNux\"><div class=\"_2QcLo-\"><div><div class=\"CXW8mj\" style=\"height:200px;width:200px\"><img alt=\"OPPO Reno8 Pro 5G (Glazed Black, 256 GB)\" class=\"_396cs4\" loading=\"eager\" src=\"https://rukminim1.flixcart.com/image/312/312/xif0q/mobile/9/a/e/-original-imagge6puyb5czec.jpeg?q=70\"/></div></div></div><div class=\"_3wLduG\"><div class=\"_3PzNI-\"><span class=\"f3A4_V\"><label class=\"_2iDkf8\"><input class=\"_30VH1S\" readonly=\"\" type=\"checkbox\"/><div class=\"_24_Dny\"></div></label></span><label class=\"_6Up2sF\"><span>Add to Compare</span></label></div></div><div class=\"_2hVSre _3nq8ih\"><div class=\"_36FSn5\"><svg class=\"_1l0elc\" height=\"16\" viewbox=\"0 0 20 16\" width=\"16\" xmlns=\"http://www.w3.org/2000/svg\"><path class=\"eX72wL\" d=\"M8.695 16.682C4.06 12.382 1 9.536 1 6.065 1 3.219 3.178 1 5.95 1c1.566 0 3.069.746 4.05 1.915C10.981 1.745 12.484 1 14.05 1 16.822 1 19 3.22 19 6.065c0 3.471-3.06 6.316-7.695 10.617L10 17.897l-1.305-1.215z\" fill=\"#2874F0\" fill-rule=\"evenodd\" opacity=\".9\" stroke=\"#FFF\"></path></svg></div></div></div><div class=\"_3pLy-c row\"><div class=\"col col-7-12\"><div class=\"_4rR01T\">OPPO Reno8 Pro 5G (Glazed Black, 256 GB)</div><div class=\"gUuXy-\"><span class=\"_1lRcqv\" id=\"productRating_LSTMOBGFPE5YNUF6NDVRHBY1J_MOBGFPE5YNUF6NDV_\"><div class=\"_3LWZlK\">4.4<img class=\"_1wB99o\" src=\"data:image/svg+xml;base64,PHN2ZyB4bWxucz0iaHR0cDovL3d3dy53My5vcmcvMjAwMC9zdmciIHdpZHRoPSIxMyIgaGVpZ2h0PSIxMiI+PHBhdGggZmlsbD0iI0ZGRiIgZD0iTTYuNSA5LjQzOWwtMy42NzQgMi4yMy45NC00LjI2LTMuMjEtMi44ODMgNC4yNTQtLjQwNEw2LjUuMTEybDEuNjkgNC4wMSA0LjI1NC40MDQtMy4yMSAyLjg4Mi45NCA0LjI2eiIvPjwvc3ZnPg==\"/></div></span><span class=\"_2_R_DZ\"><span><span>2,366 Ratings </span><span class=\"_13vcmD\">&amp;</span><span> 281 Reviews</span></span></span></div><div class=\"fMghEO\"><ul class=\"_1xgFaf\"><li class=\"rgWa7D\">12 GB RAM | 256 GB ROM</li><li class=\"rgWa7D\">17.02 cm (6.7 inch) Full HD+ AMOLED Display</li><li class=\"rgWa7D\">50MP + 8MP + 2MP | 32MP Front Camera</li><li class=\"rgWa7D\">4500 mAh Lithium-ion Polymer Battery</li><li class=\"rgWa7D\">Mediatek Dimensity 8100 Max Processor</li><li class=\"rgWa7D\">1 Year Warranty for Phone and 6 Months Warranty for In-Box Accessories</li></ul></div></div><div class=\"col col-5-12 nlI3QM\"><div class=\"_3tbKJL\"><div class=\"_25b18c\"><div class=\"_30jeq3 _1_WHN1\">₹45,999</div><div class=\"_3I9_wc _27UcVY\">₹<!-- -->52,999</div><div class=\"_3Ay6Sb\"><span>13% off</span></div></div><div class=\"_3tcB5a p8ucoS\"><div><div class=\"_2Tpdn3\" style=\"color:#000000;font-size:12px;font-weight:400\">Free delivery</div></div></div></div><div class=\"_2ZdXDB\"><div class=\"_3xFhiH\"><div class=\"_2Tpdn3 _18hQoS\" style=\"color:#000000;font-size:14px;font-style:normal;font-weight:400\">Upto </div><div class=\"_2Tpdn3 _18hQoS\" style=\"color:#000000;font-size:14px;font-style:normal;font-weight:700\">₹30,000</div><div class=\"_2Tpdn3 _18hQoS\" style=\"color:#000000;font-size:14px;font-style:normal;font-weight:400\"> Off on Exchange</div></div></div><div class=\"_2ZdXDB\"><div class=\"_3xFhiH\"><div class=\"_2Tpdn3 _18hQoS\" style=\"color:#000000;font-size:12px;font-weight:400\">No Cost EMI from ₹15,333/month</div></div></div></div></div></a></div></div></div></div><div class=\"_1AtVbE col-12-12\"><div class=\"_13oc-S\"><div data-id=\"MOBGHBNGZ7GZFH9J\" style=\"width:100%\"><div class=\"_2kHMtA\"><a class=\"_1fQZEK\" href=\"/iqoo-9t-5g-legend-128-gb/p/itm96c80a5401f2b?pid=MOBGHBNGZ7GZFH9J&amp;lid=LSTMOBGHBNGZ7GZFH9J4LTOD7&amp;marketplace=FLIPKART&amp;q=mobiles+under+50000&amp;store=tyy%2F4io&amp;srno=s_1_24&amp;otracker=search&amp;otracker1=search&amp;fm=organic&amp;iid=cadfb0f9-a759-4480-83a6-1ee3f391045e.MOBGHBNGZ7GZFH9J.SEARCH&amp;ppt=None&amp;ppn=None&amp;ssid=8vneci3w3k0000001680772066447&amp;qH=8b60bcb863f60970\" rel=\"noopener noreferrer\" target=\"_blank\"><div class=\"MIXNux\"><div class=\"_2QcLo-\"><div><div class=\"CXW8mj\" style=\"height:200px;width:200px\"><img alt=\"IQOO 9T 5G (LEGEND, 128 GB)\" class=\"_396cs4\" loading=\"eager\" src=\"https://rukminim1.flixcart.com/image/312/312/xif0q/mobile/f/2/l/-original-imagk9yfjdzkatya.jpeg?q=70\"/></div></div></div><div class=\"_3wLduG\"><div class=\"_3PzNI-\"><span class=\"f3A4_V\"><label class=\"_2iDkf8\"><input class=\"_30VH1S\" readonly=\"\" type=\"checkbox\"/><div class=\"_24_Dny\"></div></label></span><label class=\"_6Up2sF\"><span>Add to Compare</span></label></div></div><div class=\"_2hVSre _3nq8ih\"><div class=\"_36FSn5\"><svg class=\"_1l0elc\" height=\"16\" viewbox=\"0 0 20 16\" width=\"16\" xmlns=\"http://www.w3.org/2000/svg\"><path class=\"eX72wL\" d=\"M8.695 16.682C4.06 12.382 1 9.536 1 6.065 1 3.219 3.178 1 5.95 1c1.566 0 3.069.746 4.05 1.915C10.981 1.745 12.484 1 14.05 1 16.822 1 19 3.22 19 6.065c0 3.471-3.06 6.316-7.695 10.617L10 17.897l-1.305-1.215z\" fill=\"#2874F0\" fill-rule=\"evenodd\" opacity=\".9\" stroke=\"#FFF\"></path></svg></div></div></div><div class=\"_3pLy-c row\"><div class=\"col col-7-12\"><div class=\"_4rR01T\">IQOO 9T 5G (LEGEND, 128 GB)</div><div class=\"gUuXy-\"><span class=\"_1lRcqv\" id=\"productRating_LSTMOBGHBNGZ7GZFH9J4LTOD7_MOBGHBNGZ7GZFH9J_\"><div class=\"_3LWZlK\">4.1<img class=\"_1wB99o\" src=\"data:image/svg+xml;base64,PHN2ZyB4bWxucz0iaHR0cDovL3d3dy53My5vcmcvMjAwMC9zdmciIHdpZHRoPSIxMyIgaGVpZ2h0PSIxMiI+PHBhdGggZmlsbD0iI0ZGRiIgZD0iTTYuNSA5LjQzOWwtMy42NzQgMi4yMy45NC00LjI2LTMuMjEtMi44ODMgNC4yNTQtLjQwNEw2LjUuMTEybDEuNjkgNC4wMSA0LjI1NC40MDQtMy4yMSAyLjg4Mi45NCA0LjI2eiIvPjwvc3ZnPg==\"/></div></span><span class=\"_2_R_DZ\"><span><span>54 Ratings </span><span class=\"_13vcmD\">&amp;</span><span> 7 Reviews</span></span></span></div><div class=\"fMghEO\"><ul class=\"_1xgFaf\"><li class=\"rgWa7D\">8 GB RAM | 128 GB ROM</li><li class=\"rgWa7D\">17.22 cm (6.78 inch) Display</li><li class=\"rgWa7D\">50MP Rear Camera</li><li class=\"rgWa7D\">4700 mAh Battery</li><li class=\"rgWa7D\">1 Year</li></ul></div></div><div class=\"col col-5-12 nlI3QM\"><div class=\"_3tbKJL\"><div class=\"_25b18c\"><div class=\"_30jeq3 _1_WHN1\">₹49,499</div><div class=\"_3I9_wc _27UcVY\">₹<!-- -->54,800</div><div class=\"_3Ay6Sb\"><span>9% off</span></div></div><div class=\"_3tcB5a p8ucoS\"><div><div class=\"_2Tpdn3\" style=\"color:#000000;font-size:12px;font-weight:400\">Free delivery</div></div></div></div><div class=\"_13J9qT\"><img height=\"21\" src=\"//static-assets-web.flixcart.com/fk-p-linchpin-web/fk-cp-zion/img/fa_62673a.png\"/></div><div class=\"_2ZdXDB\"><div class=\"_3xFhiH\"><div class=\"_2Tpdn3 _18hQoS\" style=\"color:#26A541;font-size:14px;font-weight:700\">Bank Offer</div></div></div></div></div></a></div></div></div></div><div class=\"_1AtVbE col-12-12\"><div><div class=\"_2MImiq\"><span>Page 1 of 327</span><nav class=\"yFHi8N\"><a class=\"ge-49M _2Kfbh8\" href=\"/search?q=mobiles+under+50000&amp;otracker=search&amp;otracker1=search&amp;marketplace=FLIPKART&amp;as-show=on&amp;as=off&amp;page=1\">1</a><a class=\"ge-49M\" href=\"/search?q=mobiles+under+50000&amp;otracker=search&amp;otracker1=search&amp;marketplace=FLIPKART&amp;as-show=on&amp;as=off&amp;page=2\">2</a><a class=\"ge-49M\" href=\"/search?q=mobiles+under+50000&amp;otracker=search&amp;otracker1=search&amp;marketplace=FLIPKART&amp;as-show=on&amp;as=off&amp;page=3\">3</a><a class=\"ge-49M\" href=\"/search?q=mobiles+under+50000&amp;otracker=search&amp;otracker1=search&amp;marketplace=FLIPKART&amp;as-show=on&amp;as=off&amp;page=4\">4</a><a class=\"ge-49M\" href=\"/search?q=mobiles+under+50000&amp;otracker=search&amp;otracker1=search&amp;marketplace=FLIPKART&amp;as-show=on&amp;as=off&amp;page=5\">5</a><a class=\"ge-49M\" href=\"/search?q=mobiles+under+50000&amp;otracker=search&amp;otracker1=search&amp;marketplace=FLIPKART&amp;as-show=on&amp;as=off&amp;page=6\">6</a><a class=\"ge-49M\" href=\"/search?q=mobiles+under+50000&amp;otracker=search&amp;otracker1=search&amp;marketplace=FLIPKART&amp;as-show=on&amp;as=off&amp;page=7\">7</a><a class=\"ge-49M\" href=\"/search?q=mobiles+under+50000&amp;otracker=search&amp;otracker1=search&amp;marketplace=FLIPKART&amp;as-show=on&amp;as=off&amp;page=8\">8</a><a class=\"ge-49M\" href=\"/search?q=mobiles+under+50000&amp;otracker=search&amp;otracker1=search&amp;marketplace=FLIPKART&amp;as-show=on&amp;as=off&amp;page=9\">9</a><a class=\"ge-49M\" href=\"/search?q=mobiles+under+50000&amp;otracker=search&amp;otracker1=search&amp;marketplace=FLIPKART&amp;as-show=on&amp;as=off&amp;page=10\">10</a><a class=\"_1LKTO3\" href=\"/search?q=mobiles+under+50000&amp;otracker=search&amp;otracker1=search&amp;marketplace=FLIPKART&amp;as-show=on&amp;as=off&amp;page=2\"><span>Next</span></a></nav><span class=\"_22Tduf\"></span></div></div></div><div class=\"_1AtVbE col-12-12\" style=\"margin:10px 0px 0px 0px\"><div class=\"_1anD2T\"><span class=\"PTpXCl\">Did you find what you were looking for?</span><div class=\"_1ye8x2 _1xLf4B\"><span class=\"_2eFmU2 _3ZMjMT\">Yes</span><span class=\"_2eFmU2 _3ZMjMT\">No</span></div></div></div></div></div><div class=\"_1AtVbE col-12-12\" style=\"padding:16px 0px 0px 0px\"><div class=\"_3E8aIl X3IECw row\"><div class=\"_88-NUv\">Reviews for Popular Mobiles</div><div class=\"_2nRPpA\"><div class=\"_1Ni40J\"><div class=\"_3hVUcF\"><div class=\"CXW8mj\" style=\"height:150px;width:150px\"><img alt=\"realme X50 Pro (Moss Green, 256 GB)\" class=\"_396cs4\" loading=\"lazy\" src=\"https://rukminim1.flixcart.com/image/300/300/k6zda4w0/mobile/h/y/8/realme-x50-pro-rmx2076-original-imafpbbvbwfcpz2r.jpeg?q=90\"/></div></div><div class=\"_1kLt05\"><a href=\"/realme-x50-pro-moss-green-256-gb/p/itm13d1770db35a3?pid=MOBFP6WYFBVHDHY8&amp;marketplace=FLIPKART\" rel=\"noopener noreferrer\" target=\"_blank\"><div class=\"_1W9f5C\"><div>1. realme X50 Pro (Moss Green,...</div></div><div class=\"_3VDxyD\"><div class=\"_3LWZlK\">4.4<img class=\"_1wB99o\" src=\"data:image/svg+xml;base64,PHN2ZyB4bWxucz0iaHR0cDovL3d3dy53My5vcmcvMjAwMC9zdmciIHdpZHRoPSIxMyIgaGVpZ2h0PSIxMiI+PHBhdGggZmlsbD0iI0ZGRiIgZD0iTTYuNSA5LjQzOWwtMy42NzQgMi4yMy45NC00LjI2LTMuMjEtMi44ODMgNC4yNTQtLjQwNEw2LjUuMTEybDEuNjkgNC4wMSA0LjI1NC40MDQtMy4yMSAyLjg4Mi45NCA0LjI2eiIvPjwvc3ZnPg==\"/></div><span class=\"_34hpFu\"><span>1,644 Ratings</span><span><span class=\"_2oY1qB\">&amp;</span><span>188 Reviews</span></span></span></div><div class=\"_2wYYVP\"><div class=\"_25b18c\"><div class=\"_30jeq3 UMT9wN\">₹47,999</div></div></div></a><ul class=\"_1Sq2Fs\"><li class=\"_2OosNL\">12 GB RAM | 256 GB ROM</li><li class=\"_2OosNL\">16.36 cm (6.44 inch) Full HD+ Display</li><li class=\"_2OosNL\">64MP + 12MP + 8MP + 2MP | 32MP + 8MP Dual Front Camera</li></ul></div></div><div class=\"_2tzWk4\"><div class=\"_1A_Aux\">Most Helpful Review</div><div class=\"col\"><div class=\"col _2wzgFH _2cVXgz\"><div class=\"row\"><div class=\"_3LWZlK _1BLPMq\">5<img class=\"_1wB99o\" src=\"data:image/svg+xml;base64,PHN2ZyB4bWxucz0iaHR0cDovL3d3dy53My5vcmcvMjAwMC9zdmciIHdpZHRoPSIxMyIgaGVpZ2h0PSIxMiI+PHBhdGggZmlsbD0iI0ZGRiIgZD0iTTYuNSA5LjQzOWwtMy42NzQgMi4yMy45NC00LjI2LTMuMjEtMi44ODMgNC4yNTQtLjQwNEw2LjUuMTEybDEuNjkgNC4wMSA0LjI1NC40MDQtMy4yMSAyLjg4Mi45NCA0LjI2eiIvPjwvc3ZnPg==\"/></div><p class=\"_2-N8zT\">Awesome</p></div><div class=\"row\"><div class=\"t-ZTKy\"><div><div class=\"\">Am using this phone around 3 weeks.its a fantstic phone compared with all other brands in this price range.am given 5 star for all its specification.super da...</div><span class=\"_1BWGvX\"><span>Read full review</span></span></div></div></div><div class=\"row _3n8db9\"><div class=\"row\"><p class=\"_2sc7ZR _2V5EHH\">Johns  George</p><svg class=\"_2a1p_T\" height=\"14\" viewbox=\"0 0 12 12\" width=\"14\" xmlns=\"http://www.w3.org/2000/svg\"><g><circle cx=\"6\" cy=\"6\" fill=\"#878787\" r=\"6\"></circle><path d=\"M3 6l2 2 4-4\" fill=\"#878787\" stroke=\"#FFF\" stroke-width=\"1.5\"></path></g></svg><p class=\"_2mcZGG\" id=\"review-0b61402e-232d-45e2-ab71-18fd39ad0bf2\"><span>Certified Buyer</span></p><p class=\"_2sc7ZR\">Jun, 2021</p></div></div></div></div></div><div class=\"_2tzWk4\"><div class=\"_1A_Aux\">Recent Review</div><div class=\"col\"><div class=\"col _2wzgFH _2cVXgz\"><div class=\"row\"><div class=\"_3LWZlK _1rdVr6 _1BLPMq\">1<img class=\"_1wB99o\" src=\"data:image/svg+xml;base64,PHN2ZyB4bWxucz0iaHR0cDovL3d3dy53My5vcmcvMjAwMC9zdmciIHdpZHRoPSIxMyIgaGVpZ2h0PSIxMiI+PHBhdGggZmlsbD0iI0ZGRiIgZD0iTTYuNSA5LjQzOWwtMy42NzQgMi4yMy45NC00LjI2LTMuMjEtMi44ODMgNC4yNTQtLjQwNEw2LjUuMTEybDEuNjkgNC4wMSA0LjI1NC40MDQtMy4yMSAyLjg4Mi45NCA0LjI2eiIvPjwvc3ZnPg==\"/></div><p class=\"_2-N8zT\">Unsatisfactory</p></div><div class=\"row\"><div class=\"t-ZTKy\"><div><div class=\"\">Worst phone, do not buy.<br/>Not worth the price.<br/>Gyration is improper,<br/>Unnecessary apps you cannot uninstall<br/>Calling is worse</div><span class=\"_1H-bmy\"><span>Read full review</span></span></div></div></div><div class=\"row _3n8db9\"><div class=\"row\"><p class=\"_2sc7ZR _2V5EHH\"></p><svg class=\"_2a1p_T\" height=\"14\" viewbox=\"0 0 12 12\" width=\"14\" xmlns=\"http://www.w3.org/2000/svg\"><g><circle cx=\"6\" cy=\"6\" fill=\"#878787\" r=\"6\"></circle><path d=\"M3 6l2 2 4-4\" fill=\"#878787\" stroke=\"#FFF\" stroke-width=\"1.5\"></path></g></svg><p class=\"_2mcZGG\" id=\"review-0986429e-b0d2-4f0c-8d28-9516c65dab29\"><span>Certified Buyer</span></p><p class=\"_2sc7ZR\">13 days ago</p></div></div></div></div></div></div><div class=\"_2nRPpA\"><div class=\"_1Ni40J\"><div class=\"_3hVUcF\"><div class=\"CXW8mj\" style=\"height:150px;width:150px\"><img alt=\"SAMSUNG Galaxy A73 5G (Awesome Gray, 128 GB)\" class=\"_396cs4\" loading=\"lazy\" src=\"https://rukminim1.flixcart.com/image/300/300/l3xcr680/mobile/c/j/o/-original-imagexf78mkqcgzr.jpeg?q=90\"/></div></div><div class=\"_1kLt05\"><a href=\"/samsung-galaxy-a73-5g-awesome-gray-128-gb/p/itme09eaea734554?pid=MOBGCS4JSYRGZPZR&amp;marketplace=FLIPKART\" rel=\"noopener noreferrer\" target=\"_blank\"><div class=\"_1W9f5C\"><div>2. SAMSUNG Galaxy A73 5G (Awes...</div></div><div class=\"_3VDxyD\"><div class=\"_3LWZlK\">4.2<img class=\"_1wB99o\" src=\"data:image/svg+xml;base64,PHN2ZyB4bWxucz0iaHR0cDovL3d3dy53My5vcmcvMjAwMC9zdmciIHdpZHRoPSIxMyIgaGVpZ2h0PSIxMiI+PHBhdGggZmlsbD0iI0ZGRiIgZD0iTTYuNSA5LjQzOWwtMy42NzQgMi4yMy45NC00LjI2LTMuMjEtMi44ODMgNC4yNTQtLjQwNEw2LjUuMTEybDEuNjkgNC4wMSA0LjI1NC40MDQtMy4yMSAyLjg4Mi45NCA0LjI2eiIvPjwvc3ZnPg==\"/></div><span class=\"_34hpFu\"><span>1,494 Ratings</span><span><span class=\"_2oY1qB\">&amp;</span><span>195 Reviews</span></span></span></div><div class=\"_2wYYVP\"><div class=\"_25b18c\"><div class=\"_30jeq3 UMT9wN\">₹41,999</div><div class=\"_3Ay6Sb _2FuKQX\"><span>11% off</span></div></div></div></a><ul class=\"_1Sq2Fs\"><li class=\"_2OosNL\">8 GB RAM | 128 GB ROM | Expandable Upto 1 TB</li><li class=\"_2OosNL\">17.02 cm (6.7 inch) Full HD+ Display</li><li class=\"_2OosNL\">108MP + 12MP + 5MP + 5MP | 32MP Front Camera</li></ul></div></div><div class=\"_2tzWk4\"><div class=\"_1A_Aux\">Most Helpful Review</div><div class=\"col\"><div class=\"col _2wzgFH _2cVXgz\"><div class=\"row\"><div class=\"_3LWZlK _1BLPMq\">5<img class=\"_1wB99o\" src=\"data:image/svg+xml;base64,PHN2ZyB4bWxucz0iaHR0cDovL3d3dy53My5vcmcvMjAwMC9zdmciIHdpZHRoPSIxMyIgaGVpZ2h0PSIxMiI+PHBhdGggZmlsbD0iI0ZGRiIgZD0iTTYuNSA5LjQzOWwtMy42NzQgMi4yMy45NC00LjI2LTMuMjEtMi44ODMgNC4yNTQtLjQwNEw2LjUuMTEybDEuNjkgNC4wMSA0LjI1NC40MDQtMy4yMSAyLjg4Mi45NCA0LjI2eiIvPjwvc3ZnPg==\"/></div><p class=\"_2-N8zT\">Terrific</p></div><div class=\"row\"><div class=\"t-ZTKy\"><div><div class=\"\">I'm reviewing this after 1 week of used, overall good its 9 point out of 10.<br/>1- Design is absolutely gorgeous its slim in thickness and feel smoth and handy ...</div><span class=\"_1BWGvX\"><span>Read full review</span></span></div></div></div><div class=\"row _3n8db9\"><div class=\"row\"><p class=\"_2sc7ZR _2V5EHH\">Khakesh  Debbarma </p><svg class=\"_2a1p_T\" height=\"14\" viewbox=\"0 0 12 12\" width=\"14\" xmlns=\"http://www.w3.org/2000/svg\"><g><circle cx=\"6\" cy=\"6\" fill=\"#878787\" r=\"6\"></circle><path d=\"M3 6l2 2 4-4\" fill=\"#878787\" stroke=\"#FFF\" stroke-width=\"1.5\"></path></g></svg><p class=\"_2mcZGG\" id=\"review-13d2be37-80c4-4a6d-99d0-784627ac056f\"><span>Certified Buyer</span></p><p class=\"_2sc7ZR\">11 months ago</p></div></div></div></div></div><div class=\"_2tzWk4\"><div class=\"_1A_Aux\">Recent Review</div><div class=\"col\"><div class=\"col _2wzgFH _2cVXgz\"><div class=\"row\"><div class=\"_3LWZlK _1BLPMq\">4<img class=\"_1wB99o\" src=\"data:image/svg+xml;base64,PHN2ZyB4bWxucz0iaHR0cDovL3d3dy53My5vcmcvMjAwMC9zdmciIHdpZHRoPSIxMyIgaGVpZ2h0PSIxMiI+PHBhdGggZmlsbD0iI0ZGRiIgZD0iTTYuNSA5LjQzOWwtMy42NzQgMi4yMy45NC00LjI2LTMuMjEtMi44ODMgNC4yNTQtLjQwNEw2LjUuMTEybDEuNjkgNC4wMSA0LjI1NC40MDQtMy4yMSAyLjg4Mi45NCA0LjI2eiIvPjwvc3ZnPg==\"/></div><p class=\"_2-N8zT\">Nice product</p></div><div class=\"row\"><div class=\"t-ZTKy\"><div><div class=\"\">Over heating charging is super slow other wise screen and camera is good</div><span class=\"_1H-bmy\"><span>Read full review</span></span></div></div></div><div class=\"row _3n8db9\"><div class=\"row\"><p class=\"_2sc7ZR _2V5EHH\"></p><svg class=\"_2a1p_T\" height=\"14\" viewbox=\"0 0 12 12\" width=\"14\" xmlns=\"http://www.w3.org/2000/svg\"><g><circle cx=\"6\" cy=\"6\" fill=\"#878787\" r=\"6\"></circle><path d=\"M3 6l2 2 4-4\" fill=\"#878787\" stroke=\"#FFF\" stroke-width=\"1.5\"></path></g></svg><p class=\"_2mcZGG\" id=\"review-b2e92bc1-17f7-4a66-92eb-7dcf97da398b\"><span>Certified Buyer</span></p><p class=\"_2sc7ZR\">2 days ago</p></div></div></div></div></div></div><div class=\"_2nRPpA\"><div class=\"_1Ni40J\"><div class=\"_3hVUcF\"><div class=\"CXW8mj\" style=\"height:150px;width:150px\"><img alt=\"ASUS ROG 5s (Black, 128 GB)\" class=\"_396cs4\" loading=\"lazy\" src=\"https://rukminim1.flixcart.com/image/300/300/ky7lci80/mobile/t/x/j/-original-imagahvge92r5fmm.jpeg?q=90\"/></div></div><div class=\"_1kLt05\"><a href=\"/asus-rog-5s-black-128-gb/p/itm0aa8f13814a44?pid=MOBG6Y6HJ5TVQDP6&amp;marketplace=FLIPKART\" rel=\"noopener noreferrer\" target=\"_blank\"><div class=\"_1W9f5C\"><div>3. ASUS ROG 5s (Black, 128 GB)</div></div><div class=\"_3VDxyD\"><div class=\"_3LWZlK\">4.1<img class=\"_1wB99o\" src=\"data:image/svg+xml;base64,PHN2ZyB4bWxucz0iaHR0cDovL3d3dy53My5vcmcvMjAwMC9zdmciIHdpZHRoPSIxMyIgaGVpZ2h0PSIxMiI+PHBhdGggZmlsbD0iI0ZGRiIgZD0iTTYuNSA5LjQzOWwtMy42NzQgMi4yMy45NC00LjI2LTMuMjEtMi44ODMgNC4yNTQtLjQwNEw2LjUuMTEybDEuNjkgNC4wMSA0LjI1NC40MDQtMy4yMSAyLjg4Mi45NCA0LjI2eiIvPjwvc3ZnPg==\"/></div><span class=\"_34hpFu\"><span>1,066 Ratings</span><span><span class=\"_2oY1qB\">&amp;</span><span>153 Reviews</span></span></span></div><div class=\"_2wYYVP\"><div class=\"_25b18c\"><div class=\"_30jeq3 UMT9wN\">₹49,999</div><div class=\"_3Ay6Sb _2FuKQX\"><span>10% off</span></div></div></div></a><ul class=\"_1Sq2Fs\"><li class=\"_2OosNL\">8 GB RAM | 128 GB ROM</li><li class=\"_2OosNL\">17.22 cm (6.78 inch) Full HD+ Display</li><li class=\"_2OosNL\">64MP + 13MP + 5MP | 24MP Front Camera</li></ul></div></div><div class=\"_2tzWk4\"><div class=\"_1A_Aux\">Most Helpful Review</div><div class=\"col\"><div class=\"col _2wzgFH _2cVXgz\"><div class=\"row\"><div class=\"_3LWZlK _1BLPMq\">5<img class=\"_1wB99o\" src=\"data:image/svg+xml;base64,PHN2ZyB4bWxucz0iaHR0cDovL3d3dy53My5vcmcvMjAwMC9zdmciIHdpZHRoPSIxMyIgaGVpZ2h0PSIxMiI+PHBhdGggZmlsbD0iI0ZGRiIgZD0iTTYuNSA5LjQzOWwtMy42NzQgMi4yMy45NC00LjI2LTMuMjEtMi44ODMgNC4yNTQtLjQwNEw2LjUuMTEybDEuNjkgNC4wMSA0LjI1NC40MDQtMy4yMSAyLjg4Mi45NCA0LjI2eiIvPjwvc3ZnPg==\"/></div><p class=\"_2-N8zT\">Classy product</p></div><div class=\"row\"><div class=\"t-ZTKy\"><div><div class=\"\">There's no doubt that the ROG Phone 5S is among the best out there as a media consumption device. It has everything you need for a great experience, regardle...</div><span class=\"_1BWGvX\"><span>Read full review</span></span></div></div></div><div class=\"row _3n8db9\"><div class=\"row\"><p class=\"_2sc7ZR _2V5EHH\">Ravinder singh</p><svg class=\"_2a1p_T\" height=\"14\" viewbox=\"0 0 12 12\" width=\"14\" xmlns=\"http://www.w3.org/2000/svg\"><g><circle cx=\"6\" cy=\"6\" fill=\"#878787\" r=\"6\"></circle><path d=\"M3 6l2 2 4-4\" fill=\"#878787\" stroke=\"#FFF\" stroke-width=\"1.5\"></path></g></svg><p class=\"_2mcZGG\" id=\"review-bc6f2727-b684-4991-aaec-80f3dd04485b\"><span>Certified Buyer</span></p><p class=\"_2sc7ZR\">Feb, 2022</p></div></div></div></div></div><div class=\"_2tzWk4\"><div class=\"_1A_Aux\">Recent Review</div><div class=\"col\"><div class=\"col _2wzgFH _2cVXgz\"><div class=\"row\"><div class=\"_3LWZlK _1BLPMq\">5<img class=\"_1wB99o\" src=\"data:image/svg+xml;base64,PHN2ZyB4bWxucz0iaHR0cDovL3d3dy53My5vcmcvMjAwMC9zdmciIHdpZHRoPSIxMyIgaGVpZ2h0PSIxMiI+PHBhdGggZmlsbD0iI0ZGRiIgZD0iTTYuNSA5LjQzOWwtMy42NzQgMi4yMy45NC00LjI2LTMuMjEtMi44ODMgNC4yNTQtLjQwNEw2LjUuMTEybDEuNjkgNC4wMSA0LjI1NC40MDQtMy4yMSAyLjg4Mi45NCA0LjI2eiIvPjwvc3ZnPg==\"/></div><p class=\"_2-N8zT\">Terrific purchase</p></div><div class=\"row\"><div class=\"t-ZTKy\"><div><div class=\"\">Nice phone gud performance</div><span class=\"_1H-bmy\"><span>Read full review</span></span></div></div></div><div class=\"row _3n8db9\"><div class=\"row\"><p class=\"_2sc7ZR _2V5EHH\"></p><svg class=\"_2a1p_T\" height=\"14\" viewbox=\"0 0 12 12\" width=\"14\" xmlns=\"http://www.w3.org/2000/svg\"><g><circle cx=\"6\" cy=\"6\" fill=\"#878787\" r=\"6\"></circle><path d=\"M3 6l2 2 4-4\" fill=\"#878787\" stroke=\"#FFF\" stroke-width=\"1.5\"></path></g></svg><p class=\"_2mcZGG\" id=\"review-3b6c1615-5def-4c9c-8bd8-fb2f62383a7a\"><span>Certified Buyer</span></p><p class=\"_2sc7ZR\">5 days ago</p></div></div></div></div></div></div><div class=\"_2nRPpA\"><div class=\"_1Ni40J\"><div class=\"_3hVUcF\"><div class=\"CXW8mj\" style=\"height:150px;width:150px\"><img alt=\"Xiaomi 12 Pro 5G (Opera Mauve, 256 GB)\" class=\"_396cs4\" loading=\"lazy\" src=\"https://rukminim1.flixcart.com/image/300/300/l2p23rk0/mobile/b/n/9/12-pro-5g-2201122g-mi-original-imagdz7rs8qfakcb.jpeg?q=90\"/></div></div><div class=\"_1kLt05\"><a href=\"/xiaomi-12-pro-5g-opera-mauve-256-gb/p/itm4e017bacc4e75?pid=MOBGDZ7SUTSMUMSZ&amp;marketplace=FLIPKART\" rel=\"noopener noreferrer\" target=\"_blank\"><div class=\"_1W9f5C\"><div>4. Xiaomi 12 Pro 5G (Opera Mau...</div></div><div class=\"_3VDxyD\"><div class=\"_3LWZlK\">4.1<img class=\"_1wB99o\" src=\"data:image/svg+xml;base64,PHN2ZyB4bWxucz0iaHR0cDovL3d3dy53My5vcmcvMjAwMC9zdmciIHdpZHRoPSIxMyIgaGVpZ2h0PSIxMiI+PHBhdGggZmlsbD0iI0ZGRiIgZD0iTTYuNSA5LjQzOWwtMy42NzQgMi4yMy45NC00LjI2LTMuMjEtMi44ODMgNC4yNTQtLjQwNEw2LjUuMTEybDEuNjkgNC4wMSA0LjI1NC40MDQtMy4yMSAyLjg4Mi45NCA0LjI2eiIvPjwvc3ZnPg==\"/></div><span class=\"_34hpFu\"><span>170 Ratings</span><span><span class=\"_2oY1qB\">&amp;</span><span>28 Reviews</span></span></span></div><div class=\"_2wYYVP\"><div class=\"_25b18c\"><div class=\"_30jeq3 UMT9wN\">₹46,480</div><div class=\"_3Ay6Sb _2FuKQX\"><span>41% off</span></div></div></div></a><ul class=\"_1Sq2Fs\"><li class=\"_2OosNL\">8 GB RAM | 256 GB ROM</li><li class=\"_2OosNL\">17.09 cm (6.73 inch) Full HD+ AMOLED Display</li><li class=\"_2OosNL\">50MP Rear Camera</li></ul></div></div><div class=\"_2tzWk4\"><div class=\"_1A_Aux\">Most Helpful Review</div><div class=\"col\"><div class=\"col _2wzgFH _2cVXgz\"><div class=\"row\"><div class=\"_3LWZlK _1BLPMq\">5<img class=\"_1wB99o\" src=\"data:image/svg+xml;base64,PHN2ZyB4bWxucz0iaHR0cDovL3d3dy53My5vcmcvMjAwMC9zdmciIHdpZHRoPSIxMyIgaGVpZ2h0PSIxMiI+PHBhdGggZmlsbD0iI0ZGRiIgZD0iTTYuNSA5LjQzOWwtMy42NzQgMi4yMy45NC00LjI2LTMuMjEtMi44ODMgNC4yNTQtLjQwNEw2LjUuMTEybDEuNjkgNC4wMSA0LjI1NC40MDQtMy4yMSAyLjg4Mi45NCA0LjI2eiIvPjwvc3ZnPg==\"/></div><p class=\"_2-N8zT\">Mind-blowing purchase</p></div><div class=\"row\"><div class=\"t-ZTKy\"><div><div class=\"\">Excellent phone. 5 star rating. recommended. fast shipping. superb phone. best all rounder phone in this budget.here no complaint agaist this phone,superfast...</div><span class=\"_1BWGvX\"><span>Read full review</span></span></div></div></div><div class=\"row _3n8db9\"><div class=\"row\"><p class=\"_2sc7ZR _2V5EHH\">Manish Tiwari</p><svg class=\"_2a1p_T\" height=\"14\" viewbox=\"0 0 12 12\" width=\"14\" xmlns=\"http://www.w3.org/2000/svg\"><g><circle cx=\"6\" cy=\"6\" fill=\"#878787\" r=\"6\"></circle><path d=\"M3 6l2 2 4-4\" fill=\"#878787\" stroke=\"#FFF\" stroke-width=\"1.5\"></path></g></svg><p class=\"_2mcZGG\" id=\"review-67f42655-b033-421b-9629-f7427a0007ab\"><span>Certified Buyer</span></p><p class=\"_2sc7ZR\">4 months ago</p></div></div></div></div></div><div class=\"_2tzWk4\"><div class=\"_1A_Aux\">Recent Review</div><div class=\"col\"><div class=\"col _2wzgFH _2cVXgz\"><div class=\"row\"><div class=\"_3LWZlK _1rdVr6 _1BLPMq\">1<img class=\"_1wB99o\" src=\"data:image/svg+xml;base64,PHN2ZyB4bWxucz0iaHR0cDovL3d3dy53My5vcmcvMjAwMC9zdmciIHdpZHRoPSIxMyIgaGVpZ2h0PSIxMiI+PHBhdGggZmlsbD0iI0ZGRiIgZD0iTTYuNSA5LjQzOWwtMy42NzQgMi4yMy45NC00LjI2LTMuMjEtMi44ODMgNC4yNTQtLjQwNEw2LjUuMTEybDEuNjkgNC4wMSA0LjI1NC40MDQtMy4yMSAyLjg4Mi45NCA0LjI2eiIvPjwvc3ZnPg==\"/></div><p class=\"_2-N8zT\">Don't waste your money</p></div><div class=\"row\"><div class=\"t-ZTKy\"><div><div class=\"\">Don't waste your money on buying this phone, main thing is 5 hours battery life</div><span class=\"_1H-bmy\"><span>Read full review</span></span></div></div></div><div class=\"row _3n8db9\"><div class=\"row\"><p class=\"_2sc7ZR _2V5EHH\">Suresha N</p><svg class=\"_2a1p_T\" height=\"14\" viewbox=\"0 0 12 12\" width=\"14\" xmlns=\"http://www.w3.org/2000/svg\"><g><circle cx=\"6\" cy=\"6\" fill=\"#878787\" r=\"6\"></circle><path d=\"M3 6l2 2 4-4\" fill=\"#878787\" stroke=\"#FFF\" stroke-width=\"1.5\"></path></g></svg><p class=\"_2mcZGG\" id=\"review-6d5b217e-d23d-4fa0-b8d1-027fc8642d6d\"><span>Certified Buyer</span></p><p class=\"_2sc7ZR\">20 days ago</p></div></div></div></div></div></div><div class=\"_2nRPpA\"><div class=\"_1Ni40J\"><div class=\"_3hVUcF\"><div class=\"CXW8mj\" style=\"height:150px;width:150px\"><img alt=\"Mi 10T Pro (Cosmic Black, 128 GB)\" class=\"_396cs4\" loading=\"lazy\" src=\"https://rukminim1.flixcart.com/image/300/300/kg6vfrk0/mobile/e/s/6/mi-10t-pro-mzb07zdin-original-imafwhbrythgcddt.jpeg?q=90\"/></div></div><div class=\"_1kLt05\"><a href=\"/mi-10t-pro-cosmic-black-128-gb/p/itm5ff5455fec520?pid=MOBFWAFZASEEEES6&amp;marketplace=FLIPKART\" rel=\"noopener noreferrer\" target=\"_blank\"><div class=\"_1W9f5C\"><div>5. Mi 10T Pro (Cosmic Black, 1...</div></div><div class=\"_3VDxyD\"><div class=\"_3LWZlK\">4.2<img class=\"_1wB99o\" src=\"data:image/svg+xml;base64,PHN2ZyB4bWxucz0iaHR0cDovL3d3dy53My5vcmcvMjAwMC9zdmciIHdpZHRoPSIxMyIgaGVpZ2h0PSIxMiI+PHBhdGggZmlsbD0iI0ZGRiIgZD0iTTYuNSA5LjQzOWwtMy42NzQgMi4yMy45NC00LjI2LTMuMjEtMi44ODMgNC4yNTQtLjQwNEw2LjUuMTEybDEuNjkgNC4wMSA0LjI1NC40MDQtMy4yMSAyLjg4Mi45NCA0LjI2eiIvPjwvc3ZnPg==\"/></div><span class=\"_34hpFu\"><span>3,684 Ratings</span><span><span class=\"_2oY1qB\">&amp;</span><span>553 Reviews</span></span></span></div><div class=\"_2wYYVP\"><div class=\"_25b18c\"><div class=\"_30jeq3 UMT9wN\">₹47,999</div></div></div></a><ul class=\"_1Sq2Fs\"><li class=\"_2OosNL\">8 GB RAM | 128 GB ROM</li><li class=\"_2OosNL\">16.94 cm (6.67 inch) Full HD+ Display</li><li class=\"_2OosNL\">108MP + 13MP + 5MP | 20MP Front Camera</li></ul></div></div><div class=\"_2tzWk4\"><div class=\"_1A_Aux\">Most Helpful Review</div><div class=\"col\"><div class=\"col _2wzgFH _2cVXgz\"><div class=\"row\"><div class=\"_3LWZlK _1BLPMq\">5<img class=\"_1wB99o\" src=\"data:image/svg+xml;base64,PHN2ZyB4bWxucz0iaHR0cDovL3d3dy53My5vcmcvMjAwMC9zdmciIHdpZHRoPSIxMyIgaGVpZ2h0PSIxMiI+PHBhdGggZmlsbD0iI0ZGRiIgZD0iTTYuNSA5LjQzOWwtMy42NzQgMi4yMy45NC00LjI2LTMuMjEtMi44ODMgNC4yNTQtLjQwNEw2LjUuMTEybDEuNjkgNC4wMSA0LjI1NC40MDQtMy4yMSAyLjg4Mi45NCA0LjI2eiIvPjwvc3ZnPg==\"/></div><p class=\"_2-N8zT\">Awesome</p></div><div class=\"row\"><div class=\"t-ZTKy\"><div><div class=\"\">Phone is really superb all the specifications are really amazing all features works very well and camera is stunning and phone works very well</div><span class=\"_1H-bmy\"><span>Read full review</span></span></div></div></div><div class=\"row _3n8db9\"><div class=\"row\"><p class=\"_2sc7ZR _2V5EHH\">Chetan Verma</p><svg class=\"_2a1p_T\" height=\"14\" viewbox=\"0 0 12 12\" width=\"14\" xmlns=\"http://www.w3.org/2000/svg\"><g><circle cx=\"6\" cy=\"6\" fill=\"#878787\" r=\"6\"></circle><path d=\"M3 6l2 2 4-4\" fill=\"#878787\" stroke=\"#FFF\" stroke-width=\"1.5\"></path></g></svg><p class=\"_2mcZGG\" id=\"review-ee0e3cf9-e06a-47ed-bbf9-3a4b66d8e719\"><span>Certified Buyer</span></p><p class=\"_2sc7ZR\">Jan, 2021</p></div></div></div></div></div><div class=\"_2tzWk4\"><div class=\"_1A_Aux\">Recent Review</div><div class=\"col\"><div class=\"col _2wzgFH _2cVXgz\"><div class=\"row\"><div class=\"_3LWZlK _32lA32 _1BLPMq\">2<img class=\"_1wB99o\" src=\"data:image/svg+xml;base64,PHN2ZyB4bWxucz0iaHR0cDovL3d3dy53My5vcmcvMjAwMC9zdmciIHdpZHRoPSIxMyIgaGVpZ2h0PSIxMiI+PHBhdGggZmlsbD0iI0ZGRiIgZD0iTTYuNSA5LjQzOWwtMy42NzQgMi4yMy45NC00LjI2LTMuMjEtMi44ODMgNC4yNTQtLjQwNEw2LjUuMTEybDEuNjkgNC4wMSA0LjI1NC40MDQtMy4yMSAyLjg4Mi45NCA0LjI2eiIvPjwvc3ZnPg==\"/></div><p class=\"_2-N8zT\">Moderate</p></div><div class=\"row\"><div class=\"t-ZTKy\"><div><div class=\"\">Very disappointed with xiomi and Flipkart for sending me 3 month old activated phone , not received a single update after Android 10 . Very bad not goona a b...</div><span class=\"_1BWGvX\"><span>Read full review</span></span></div></div></div><div class=\"row _3n8db9\"><div class=\"row\"><p class=\"_2sc7ZR _2V5EHH\">Akshay Patil</p><svg class=\"_2a1p_T\" height=\"14\" viewbox=\"0 0 12 12\" width=\"14\" xmlns=\"http://www.w3.org/2000/svg\"><g><circle cx=\"6\" cy=\"6\" fill=\"#878787\" r=\"6\"></circle><path d=\"M3 6l2 2 4-4\" fill=\"#878787\" stroke=\"#FFF\" stroke-width=\"1.5\"></path></g></svg><p class=\"_2mcZGG\" id=\"review-8f8d7525-2438-4c22-b78b-74b6bc9c0315\"><span>Certified Buyer</span></p><p class=\"_2sc7ZR\">25 days ago</p></div></div></div></div></div></div></div></div><div class=\"_1AtVbE col-12-12\"></div></div><footer class=\"_3voSl0\"><div class=\"_3rc_xQ\"><div class=\"row\"><div class=\"col gu12 _8Qljeg\"></div></div><div><div class=\"_2WErco row\"><div class=\"_2Brcj4\"><div class=\"_3-dnWo\">ABOUT</div><a class=\"_1arVWX\" href=\"/helpcentre?otracker=undefined_footer_navlinks\">Contact Us</a><a class=\"_1arVWX\" href=\"/about-us?otracker=undefined_footer_navlinks\">About Us</a><a class=\"_1arVWX\" href=\"https://www.flipkartcareers.com/?otracker=undefined_footer_navlinks\">Careers</a><a class=\"_1arVWX\" href=\"http://stories.flipkart.com/?otracker=undefined_footer_navlinks\">Flipkart Stories</a><a class=\"_1arVWX\" href=\"/s/press?otracker=undefined_footer_navlinks\">Press</a><a class=\"_1arVWX\" href=\"https://www.flipkartwholesale.com/?otracker=undefined_footer_navlinks\" rel=\"noopener noreferrer\" target=\"_blank\">Flipkart Wholesale</a><a class=\"_1arVWX\" href=\"/corporate-information\">Corporate Information</a></div><div class=\"_2Brcj4\"><div class=\"_3-dnWo\">HELP</div><a class=\"_1arVWX\" href=\"/pages/payments\">Payments</a><a class=\"_1arVWX\" href=\"/pages/shipping\">Shipping</a><a class=\"_1arVWX\" href=\"/helpcentre?catalog=55c9c6edb000002e002c1701&amp;view=CATALOG\">Cancellation &amp; Returns</a><a class=\"_1arVWX\" href=\"/helpcentre?catalog=55c9c8e2b0000023002c1702&amp;view=CATALOG\">FAQ</a><a class=\"_1arVWX\" href=\"https://seller.flipkart.com/fiv?otracker=undefined_footer_navlinks\">Report Infringement</a></div><div class=\"_2Brcj4\"><div class=\"_3-dnWo\">CONSUMER POLICY</div><a class=\"_1arVWX\" href=\"/pages/returnpolicy?otracker=undefined_footer_navlinks\">Return Policy</a><a class=\"_1arVWX\" href=\"/pages/terms?otracker=undefined_footer_navlinks\">Terms Of Use</a><a class=\"_1arVWX\" href=\"/pages/paymentsecurity?otracker=undefined_footer_navlinks\">Security</a><a class=\"_1arVWX\" href=\"/pages/privacypolicy?otracker=undefined_footer_navlinks\">Privacy</a><a class=\"_1arVWX\" href=\"/sitemap?otracker=undefined_footer_navlinks\">Sitemap</a><a class=\"_1arVWX\" href=\"/pages/grievance-redressal-mechanism?otracker=undefined_footer_navlinks\">Grievance Redressal</a><a class=\"_1arVWX\" href=\"/pages/ewaste-compliance-tnc?otracker=undefined_footer_navlinks\">EPR Compliance</a></div><div class=\"_2Brcj4\"><div class=\"_3-dnWo\">SOCIAL</div><a class=\"_1arVWX\" href=\"https://www.facebook.com/flipkart\">Facebook</a><a class=\"_1arVWX\" href=\"https://www.twitter.com/flipkart\">Twitter</a><a class=\"_1arVWX\" href=\"https://www.youtube.com/flipkart\">YouTube</a></div><div class=\"_2Brcj4 address\"><div class=\"_3JHi0r\"><div class=\"_3-dnWo\"><span>Mail Us:</span></div><div class=\"_1U1qnR\"><div class=\"_1LJS6T\"><div class=\"_2NKhZn _1U1qnR\"><p>Flipkart Internet Private Limited, </p>\n",
      "<p> Buildings Alyssa, Begonia &amp; </p>\n",
      "<p> Clove Embassy Tech Village, </p>\n",
      "<p> Outer Ring Road, Devarabeesanahalli Village, </p>\n",
      "<p> Bengaluru, 560103, </p>\n",
      "<p> Karnataka, India</p>\n",
      "</div></div></div></div></div><div class=\"_2Brcj4 address\"><div class=\"_3IT4e6\"><div class=\"_3-dnWo\"><span>Registered Office Address:</span></div><div class=\"_1U1qnR\"><div class=\"_1LJS6T\"><div class=\"_2NKhZn _1U1qnR\"><p>Flipkart Internet Private Limited, </p>\n",
      "<p> Buildings Alyssa, Begonia &amp; </p>\n",
      "<p> Clove Embassy Tech Village, </p>\n",
      "<p> Outer Ring Road, Devarabeesanahalli Village, </p>\n",
      "<p> Bengaluru, 560103, </p>\n",
      "<p> Karnataka, India </p>\n",
      "<p> CIN : U51109KA2012PTC066107 </p>\n",
      "<p> Telephone: <a href=\"tel:044-45614700\">044-45614700</a></p>\n",
      "</div></div></div></div></div></div><div><div class=\"_2uz0vJ\"><div><img src=\"data:image/svg+xml;base64,PHN2ZyB4bWxucz0iaHR0cDovL3d3dy53My5vcmcvMjAwMC9zdmciIHdpZHRoPSIxNiIgaGVpZ2h0PSIxNSIgdmlld0JveD0iMCAwIDE2IDE1Ij4KICAgIDxkZWZzPgogICAgICAgIDxsaW5lYXJHcmFkaWVudCBpZD0iYSIgeDE9IjAlIiB4Mj0iODYuODc2JSIgeTE9IjAlIiB5Mj0iODAuMjAyJSI+CiAgICAgICAgICAgIDxzdG9wIG9mZnNldD0iMCUiIHN0b3AtY29sb3I9IiNGRkQ4MDAiLz4KICAgICAgICAgICAgPHN0b3Agb2Zmc2V0PSIxMDAlIiBzdG9wLWNvbG9yPSIjRkZBRjAwIi8+CiAgICAgICAgPC9saW5lYXJHcmFkaWVudD4KICAgIDwvZGVmcz4KICAgIDxnIGZpbGw9Im5vbmUiIGZpbGwtcnVsZT0iZXZlbm9kZCI+CiAgICAgICAgPHBhdGggZD0iTS0yLTJoMjB2MjBILTJ6Ii8+CiAgICAgICAgPHBhdGggZmlsbD0idXJsKCNhKSIgZmlsbC1ydWxlPSJub256ZXJvIiBkPSJNMTUuOTMgNS42MTRoLTIuOTQ4VjQuMTRjMC0uODE4LS42NTUtMS40NzMtMS40NzMtMS40NzNIOC41NmMtLjgxNyAwLTEuNDczLjY1NS0xLjQ3MyAxLjQ3M3YxLjQ3NEg0LjE0Yy0uODE4IDAtMS40NjYuNjU2LTEuNDY2IDEuNDc0bC0uMDA3IDguMTA1YzAgLjgxOC42NTUgMS40NzQgMS40NzMgMS40NzRoMTEuNzljLjgxOCAwIDEuNDc0LS42NTYgMS40NzQtMS40NzRWNy4wODhjMC0uODE4LS42NTYtMS40NzQtMS40NzQtMS40NzR6bS00LjQyMSAwSDguNTZWNC4xNGgyLjk0OHYxLjQ3NHoiIHRyYW5zZm9ybT0idHJhbnNsYXRlKC0yIC0yKSIvPgogICAgPC9nPgo8L3N2Zz4K\"/><a href=\"https://seller.flipkart.com/?utm_source=fkwebsite&amp;utm_medium=websitedirect\"><span class=\"hDTmm5\">Become a Seller</span></a></div><div><img src=\"data:image/svg+xml;base64,PHN2ZyB4bWxucz0iaHR0cDovL3d3dy53My5vcmcvMjAwMC9zdmciIHdpZHRoPSIxNSIgaGVpZ2h0PSIxNSIgdmlld0JveD0iMCAwIDE1IDE1Ij4KICAgIDxkZWZzPgogICAgICAgIDxsaW5lYXJHcmFkaWVudCBpZD0iYSIgeDE9IjAlIiB4Mj0iODYuODc2JSIgeTE9IjAlIiB5Mj0iODAuMjAyJSI+CiAgICAgICAgICAgIDxzdG9wIG9mZnNldD0iMCUiIHN0b3AtY29sb3I9IiNGRkQ4MDAiLz4KICAgICAgICAgICAgPHN0b3Agb2Zmc2V0PSIxMDAlIiBzdG9wLWNvbG9yPSIjRkZBRjAwIi8+CiAgICAgICAgPC9saW5lYXJHcmFkaWVudD4KICAgIDwvZGVmcz4KICAgIDxnIGZpbGw9Im5vbmUiIGZpbGwtcnVsZT0iZXZlbm9kZCI+CiAgICAgICAgPHBhdGggZD0iTS0zLTNoMjB2MjBILTN6Ii8+CiAgICAgICAgPHBhdGggZmlsbD0idXJsKCNhKSIgZmlsbC1ydWxlPSJub256ZXJvIiBkPSJNMTAuNDkyIDNDNi4zNTMgMyAzIDYuMzYgMyAxMC41YzAgNC4xNCAzLjM1MyA3LjUgNy40OTIgNy41QzE0LjY0IDE4IDE4IDE0LjY0IDE4IDEwLjUgMTggNi4zNiAxNC42NCAzIDEwLjQ5MiAzem0zLjE4IDEyTDEwLjUgMTMuMDg4IDcuMzI3IDE1bC44NC0zLjYwN0w1LjM3IDguOTdsMy42OS0uMzE1TDEwLjUgNS4yNWwxLjQ0IDMuMzk4IDMuNjkuMzE1LTIuNzk4IDIuNDIyLjg0IDMuNjE1eiIgdHJhbnNmb3JtPSJ0cmFuc2xhdGUoLTMgLTMpIi8+CiAgICA8L2c+Cjwvc3ZnPgo=\"/><a href=\"https://brands.flipkart.com\"><span class=\"hDTmm5\">Advertise</span></a></div><div><img src=\"data:image/svg+xml;base64,PHN2ZyB4bWxucz0iaHR0cDovL3d3dy53My5vcmcvMjAwMC9zdmciIHdpZHRoPSIxOCIgaGVpZ2h0PSIxNyIgdmlld0JveD0iMCAwIDE4IDE3Ij4KICAgIDxkZWZzPgogICAgICAgIDxsaW5lYXJHcmFkaWVudCBpZD0iYSIgeDE9IjAlIiB4Mj0iODYuODc2JSIgeTE9IjAlIiB5Mj0iODAuMjAyJSI+CiAgICAgICAgICAgIDxzdG9wIG9mZnNldD0iMCUiIHN0b3AtY29sb3I9IiNGRkQ4MDAiLz4KICAgICAgICAgICAgPHN0b3Agb2Zmc2V0PSIxMDAlIiBzdG9wLWNvbG9yPSIjRkZBRjAwIi8+CiAgICAgICAgPC9saW5lYXJHcmFkaWVudD4KICAgIDwvZGVmcz4KICAgIDxnIGZpbGw9Im5vbmUiIGZpbGwtcnVsZT0iZXZlbm9kZCI+CiAgICAgICAgPHBhdGggZD0iTS0xLTFoMjB2MjBILTF6Ii8+CiAgICAgICAgPHBhdGggZmlsbD0idXJsKCNhKSIgZmlsbC1ydWxlPSJub256ZXJvIiBkPSJNMTYuNjY3IDVIMTQuODVjLjA5Mi0uMjU4LjE1LS41NDIuMTUtLjgzM2EyLjQ5NyAyLjQ5NyAwIDAgMC00LjU4My0xLjM3NUwxMCAzLjM1bC0uNDE3LS41NjdBMi41MSAyLjUxIDAgMCAwIDcuNSAxLjY2N2EyLjQ5NyAyLjQ5NyAwIDAgMC0yLjUgMi41YzAgLjI5MS4wNTguNTc1LjE1LjgzM0gzLjMzM2MtLjkyNSAwLTEuNjU4Ljc0Mi0xLjY1OCAxLjY2N2wtLjAwOCA5LjE2NkExLjY2IDEuNjYgMCAwIDAgMy4zMzMgMTcuNWgxMy4zMzRhMS42NiAxLjY2IDAgMCAwIDEuNjY2LTEuNjY3VjYuNjY3QTEuNjYgMS42NiAwIDAgMCAxNi42NjcgNXptMCA2LjY2N0gzLjMzM3YtNWg0LjIzNEw1LjgzMyA5LjAyNWwxLjM1Ljk3NSAxLjk4NC0yLjdMMTAgNi4xNjdsLjgzMyAxLjEzMyAxLjk4NCAyLjcgMS4zNS0uOTc1LTEuNzM0LTIuMzU4aDQuMjM0djV6IiB0cmFuc2Zvcm09InRyYW5zbGF0ZSgtMSAtMSkiLz4KICAgIDwvZz4KPC9zdmc+Cg==\"/><a href=\"/the-gift-card-store?otracker=undefined_footer_footer_navlinks\"><span class=\"hDTmm5\">Gift Cards</span></a></div><div><img src=\"data:image/svg+xml;base64,PHN2ZyB4bWxucz0iaHR0cDovL3d3dy53My5vcmcvMjAwMC9zdmciIHdpZHRoPSIxNSIgaGVpZ2h0PSIxNSIgdmlld0JveD0iMCAwIDE1IDE1Ij4KICAgIDxkZWZzPgogICAgICAgIDxsaW5lYXJHcmFkaWVudCBpZD0iYSIgeDE9IjAlIiB4Mj0iODYuODc2JSIgeTE9IjAlIiB5Mj0iODAuMjAyJSI+CiAgICAgICAgICAgIDxzdG9wIG9mZnNldD0iMCUiIHN0b3AtY29sb3I9IiNGRkQ4MDAiLz4KICAgICAgICAgICAgPHN0b3Agb2Zmc2V0PSIxMDAlIiBzdG9wLWNvbG9yPSIjRkZBRjAwIi8+CiAgICAgICAgPC9saW5lYXJHcmFkaWVudD4KICAgIDwvZGVmcz4KICAgIDxnIGZpbGw9Im5vbmUiIGZpbGwtcnVsZT0iZXZlbm9kZCI+CiAgICAgICAgPHBhdGggZD0iTS0yLTNoMjB2MjBILTJ6Ii8+CiAgICAgICAgPHBhdGggZmlsbD0idXJsKCNhKSIgZmlsbC1ydWxlPSJub256ZXJvIiBkPSJNOS41IDNDNS4zNiAzIDIgNi4zNiAyIDEwLjUgMiAxNC42NCA1LjM2IDE4IDkuNSAxOGM0LjE0IDAgNy41LTMuMzYgNy41LTcuNUMxNyA2LjM2IDEzLjY0IDMgOS41IDN6bS43NSAxMi43NWgtMS41di0xLjVoMS41djEuNXptMS41NTMtNS44MTNsLS42NzYuNjljLS41NC41NDgtLjg3Ny45OTgtLjg3NyAyLjEyM2gtMS41di0uMzc1YzAtLjgyNS4zMzgtMS41NzUuODc3LTIuMTIzbC45My0uOTQ1Yy4yNzgtLjI3LjQ0My0uNjQ1LjQ0My0xLjA1NyAwLS44MjUtLjY3NS0xLjUtMS41LTEuNVM4IDcuNDI1IDggOC4yNUg2LjVhMyAzIDAgMSAxIDYgMGMwIC42Ni0uMjcgMS4yNi0uNjk3IDEuNjg4eiIgdHJhbnNmb3JtPSJ0cmFuc2xhdGUoLTIgLTMpIi8+CiAgICA8L2c+Cjwvc3ZnPgo=\"/><a href=\"/helpcentre?otracker=undefined_footer_footer_navlinks\"><span class=\"hDTmm5\">Help Center</span></a></div><span class=\"z3ht-w\">© 2007-<!-- -->2023<!-- --> <span>Flipkart.com</span></span><img src=\"//static-assets-web.flixcart.com/fk-p-linchpin-web/fk-cp-zion/img/payment-method_69e7ec.svg\"/></div></div></div></div></footer><div class=\"_1EcK2J _38JCdA\"><div class=\"bra6U8\"><svg class=\"_2TdLiZ\" height=\"27\" viewbox=\"0 0 16 27\" width=\"16\" xmlns=\"http://www.w3.org/2000/svg\"><path class=\"_3ZKfA2\" d=\"M16 23.207L6.11 13.161 16 3.093 12.955 0 0 13.161l12.955 13.161z\" fill=\"#fff\"></path></svg><span>Back to top</span></div></div></div></div> <script id=\"jsonLD\" nonce=\"1080078668394454052\" type=\"application/ld+json\">{}</script> <script id=\"jsonLD\" nonce=\"1080078668394454052\" type=\"application/ld+json\">{}</script><script nonce=\"1080078668394454052\" type=\"application/ld+json\">{\n",
      "    \"@context\": \"http://schema.org\",\n",
      "    \"@type\": \"WebSite\",\n",
      "    \"url\": \"http://www.flipkart.com/\",\n",
      "    \"potentialAction\": [{\n",
      "        \"@type\": \"SearchAction\",\n",
      "        \"target\": \"http://www.flipkart.com/search?q={search_term_string}\",\n",
      "        \"query-input\": \"required name=search_term_string\"\n",
      "        },{\n",
      "        \"@type\": \"SearchAction\",\n",
      "        \"target\": \"android-app://com.flipkart.android/flipkart/de_sq_seg_-search.flipkart.com-_{search_term_string}\",\n",
      "        \"query-input\": \"required name=search_term_string\"\n",
      "    }]\n",
      "}</script><script id=\"is_script\" nonce=\"1080078668394454052\">window.__INITIAL_STATE__ = {};</script> <link data-chunk=\"NavMenu\" href=\"//static-assets-web.flixcart.com/fk-p-linchpin-web/fk-cp-zion/css/NavMenu.chunk.10ffe7.css\" rel=\"stylesheet\"/>\n",
      "<link data-chunk=\"SearchFeedback\" href=\"//static-assets-web.flixcart.com/fk-p-linchpin-web/fk-cp-zion/css/SearchFeedback.chunk.822f57.css\" rel=\"stylesheet\"/> <script id=\"__LOADABLE_REQUIRED_CHUNKS__\" type=\"application/json\">[121,195]</script><script id=\"__LOADABLE_REQUIRED_CHUNKS___ext\" type=\"application/json\">{\"namedChunks\":[\"NavMenu\",\"SearchFeedback\"]}</script>\n",
      "<script async=\"\" data-chunk=\"NavMenu\" src=\"//static-assets-web.flixcart.com/fk-p-linchpin-web/fk-cp-zion/js/NavMenu.chunk.4c18ab60.js\"></script>\n",
      "<script async=\"\" data-chunk=\"SearchFeedback\" src=\"//static-assets-web.flixcart.com/fk-p-linchpin-web/fk-cp-zion/js/SearchFeedback.chunk.d1f4e177.js\"></script><script nonce=\"1080078668394454052\">window.omniture={tpv:[],tl:[]};window.omniture.trackPageView=function(){window.omniture.tpv.push(arguments)};window.omniture.trackLink=function(){window.omniture.tl.push(arguments)}\n",
      "\n",
      "    if(window.location.host === 'www.flipkart.com' || /\\.store\\.flipkart\\.com/i.test(window.location.host)){\n",
      "        window.s_account = \"flipkart-prd\"; //omniture account id\n",
      "    }else{\n",
      "        window.s_account = \"flipkart-prd-test\";\n",
      "    }\n",
      "    window.s_isDesktop = true;</script><script nonce=\"1080078668394454052\">function isMobile(){\n",
      "\t\tif (!!(navigator.userAgentData && navigator.userAgentData.mobile) || navigator.userAgent.indexOf(\"Mobile\") !== -1){\n",
      "\t\t\treturn true;\n",
      "\t\t}\n",
      "\t\telse {\n",
      "\t\t\treturn false;\n",
      "\t\t}\n",
      "\t}\n",
      "\n",
      "\tif ('serviceWorker' in navigator && !isMobile()) {\n",
      "\t\tnavigator.serviceWorker.register('/sw.js').then(function(registration) {\n",
      "\t\t\tconsole.log('ServiceWorker registration successful with scope: ', registration.scope);\n",
      "\t\t\tnavigator.onLine && navigator.serviceWorker.controller && navigator.serviceWorker.controller.postMessage('BANDWIDTH_COMPUTE');\n",
      "\t\t\tnavigator.serviceWorker.addEventListener('message', function (event) {\n",
      "\t\t\t\ttry {\n",
      "\t\t\t\t\tconst bandwidthData = JSON.parse(event.data);\n",
      "\t\t\t\t\tif (bandwidthData && bandwidthData.data) {\n",
      "\t\t\t\t\t\twindow.bandwidth = bandwidthData.data.downlink + '_' + bandwidthData.data.computeMethod + '_' + bandwidthData.data.effectiveType + '_' + bandwidthData.data.type;\n",
      "\t\t\t\t\t}\n",
      "\t\t\t\t}catch(err) {\n",
      "\t\t\t\t\tconsole.error('JSON.parse failed:', err);\n",
      "\t\t\t\t}\n",
      "\t\t\t});\n",
      "\t\t})\n",
      "\t\t.catch(function(err) {\n",
      "\t\t\tconsole.error('ServiceWorker registration failed: ', err);\n",
      "\t\t});\n",
      "\t} else if('serviceWorker' in navigator && isMobile()){\n",
      "        navigator.serviceWorker.getRegistration().then(function(registration) {\n",
      "            var serviceWorkerUnregistered=false;\n",
      "            if(registration) {\n",
      "                registration.unregister();\n",
      "                serviceWorkerUnregistered=true;\n",
      "            }\n",
      "            serviceWorkerUnregistered && window.location.reload();\n",
      "        });\n",
      "    }</script> <script async=\"\" defer=\"defer\" id=\"omni_script\" nonce=\"1080078668394454052\" src=\"///www/linchpin/batman-returns/omni/omni16.js\"></script> <script nonce=\"1080078668394454052\">window._pxAppId = 'PXgNtTli3A';</script><script async=\"\" nonce=\"1080078668394454052\" src=\"///px/gNtTli3A/init.js\"></script></body></html>\n"
     ]
    }
   ],
   "source": [
    "url = \"https://www.flipkart.com/search?q=mobiles+under+50000&otracker=search&otracker1=search&marketplace=FLIPKART&as-show=on&as=off&page=1\"\n",
    "\n",
    "r = requests.get(url)\n",
    "print(r)\n",
    "\n",
    "soup = BeautifulSoup(r.text, \"lxml\")\n",
    "print(soup)"
   ]
  },
  {
   "cell_type": "code",
   "execution_count": 8,
   "id": "d30ce0b4",
   "metadata": {},
   "outputs": [
    {
     "name": "stdout",
     "output_type": "stream",
     "text": [
      "/search?q=mobiles+under+50000&otracker=search&otracker1=search&marketplace=FLIPKART&as-show=on&as=off&page=2\n"
     ]
    }
   ],
   "source": [
    "next_page = soup.find(\"a\",class_ = \"_1LKTO3\").get(\"href\")\n",
    "print(next_page)"
   ]
  },
  {
   "cell_type": "code",
   "execution_count": 9,
   "id": "1cc72183",
   "metadata": {},
   "outputs": [
    {
     "name": "stdout",
     "output_type": "stream",
     "text": [
      "https://www.flipkart.com/search?q=mobiles+under+50000&otracker=search&otracker1=search&marketplace=FLIPKART&as-show=on&as=off&page=2\n"
     ]
    }
   ],
   "source": [
    "Cnext_page = \"https://www.flipkart.com\"+next_page\n",
    "print(Cnext_page)"
   ]
  },
  {
   "cell_type": "code",
   "execution_count": 10,
   "id": "6c681cde",
   "metadata": {},
   "outputs": [
    {
     "name": "stdout",
     "output_type": "stream",
     "text": [
      "https://www.flipkart.com/search?q=mobiles+under+50000&otracker=search&otracker1=search&marketplace=FLIPKART&as-show=on&as=off&page=1\n",
      "https://www.flipkart.com/search?q=mobiles+under+50000&otracker=search&otracker1=search&marketplace=FLIPKART&as-show=on&as=off&page=2\n",
      "https://www.flipkart.com/search?q=mobiles+under+50000&otracker=search&otracker1=search&marketplace=FLIPKART&as-show=on&as=off&page=3\n",
      "https://www.flipkart.com/search?q=mobiles+under+50000&otracker=search&otracker1=search&marketplace=FLIPKART&as-show=on&as=off&page=4\n",
      "https://www.flipkart.com/search?q=mobiles+under+50000&otracker=search&otracker1=search&marketplace=FLIPKART&as-show=on&as=off&page=5\n",
      "https://www.flipkart.com/search?q=mobiles+under+50000&otracker=search&otracker1=search&marketplace=FLIPKART&as-show=on&as=off&page=6\n",
      "https://www.flipkart.com/search?q=mobiles+under+50000&otracker=search&otracker1=search&marketplace=FLIPKART&as-show=on&as=off&page=7\n",
      "https://www.flipkart.com/search?q=mobiles+under+50000&otracker=search&otracker1=search&marketplace=FLIPKART&as-show=on&as=off&page=8\n"
     ]
    }
   ],
   "source": [
    "for i in range(2,10):\n",
    "    url = \"https://www.flipkart.com/search?q=mobiles+under+50000&otracker=search&otracker1=search&marketplace=FLIPKART&as-show=on&as=off&page=\"+str(i)\n",
    "    r = requests.get(url)\n",
    "    soup = BeautifulSoup(r.text, \"lxml\")\n",
    "    next_page = soup.find(\"a\",class_ = \"_1LKTO3\").get(\"href\")\n",
    "    Cnext_page = \"https://www.flipkart.com\"+next_page\n",
    "    print(Cnext_page)\n",
    "    "
   ]
  },
  {
   "cell_type": "code",
   "execution_count": 18,
   "id": "acf1f565",
   "metadata": {},
   "outputs": [
    {
     "name": "stdout",
     "output_type": "stream",
     "text": [
      "[<div class=\"_4rR01T\">APPLE iPhone 11 (Black, 128 GB)</div>, <div class=\"_4rR01T\">SAMSUNG Galaxy A54 5G (Awesome Graphite, 256 GB)</div>, <div class=\"_4rR01T\">SAMSUNG Galaxy A54 5G (Awesome Violet, 256 GB)</div>, <div class=\"_4rR01T\">I Kall K88 PRO 4G Keypad</div>, <div class=\"_4rR01T\">APPLE iPhone 11 (Red, 128 GB)</div>, <div class=\"_4rR01T\">APPLE iPhone 11 (White, 128 GB)</div>, <div class=\"_4rR01T\">SAMSUNG Galaxy A73 5G (Awesome Gray, 128 GB)</div>, <div class=\"_4rR01T\">Xiaomi 12 Pro 5G (Opera Mauve, 256 GB)</div>, <div class=\"_4rR01T\">Xiaomi 11T Pro 5G Hyperphone (Celestial Magic, 128 GB)</div>, <div class=\"_4rR01T\">ASUS ROG 5s (Black, 128 GB)</div>, <div class=\"_4rR01T\">IQOO 9T 5G (ALPHA, 128 GB)</div>, <div class=\"_4rR01T\">Xiaomi 12 Pro 5G (Noir Black, 256 GB)</div>, <div class=\"_4rR01T\">OnePlus 10T 5G (Moonstone Black, 128 GB)</div>, <div class=\"_4rR01T\">Mi 10T Pro (Cosmic Black, 128 GB)</div>, <div class=\"_4rR01T\">OnePlus 10 Pro 5G (Emerald Forest, 128 GB)</div>, <div class=\"_4rR01T\">realme GT 2 Pro (Paper White, 128 GB)</div>, <div class=\"_4rR01T\">realme GT 2 Pro (Paper Green, 128 GB)</div>, <div class=\"_4rR01T\">realme GT 2 Pro (Steel Black, 128 GB)</div>, <div class=\"_4rR01T\">realme X50 Pro (Moss Green, 256 GB)</div>, <div class=\"_4rR01T\">Xiaomi 12 Pro 5G (Couture Blue, 256 GB)</div>, <div class=\"_4rR01T\">OPPO Reno8 Pro 5G (Glazed Black, 256 GB)</div>, <div class=\"_4rR01T\">OnePlus 10T 5G (Jade Green, 128 GB)</div>, <div class=\"_4rR01T\">OnePlus 10T 5G (Moonstone Black, 256 GB)</div>, <div class=\"_4rR01T\">APPLE iPhone 8 Plus (Space Grey, 64 GB)</div>]\n"
     ]
    }
   ],
   "source": [
    "Product_name = []\n",
    "Prices = []\n",
    "Reviews = []\n",
    "Description = []\n",
    "\n",
    "url = \"https://www.flipkart.com/search?q=mobiles+under+50000&otracker=search&otracker1=search&marketplace=FLIPKART&as-show=on&as=off&page=\"+str(1)\n",
    "r = requests.get(url)\n",
    "soup = BeautifulSoup(r.text, \"lxml\")\n",
    "box = soup.find(\"div\", class_ = \"_1YokD2 _3Mn1Gg\")\n",
    "name = box.find_all(\"div\", class_ = \"_4rR01T\")\n",
    "print(name)"
   ]
  },
  {
   "cell_type": "code",
   "execution_count": 19,
   "id": "b6acde71",
   "metadata": {},
   "outputs": [
    {
     "name": "stdout",
     "output_type": "stream",
     "text": [
      "['APPLE iPhone 11 (Black, 128 GB)', 'SAMSUNG Galaxy A54 5G (Awesome Graphite, 256 GB)', 'SAMSUNG Galaxy A54 5G (Awesome Violet, 256 GB)', 'I Kall K88 PRO 4G Keypad', 'APPLE iPhone 11 (Red, 128 GB)', 'APPLE iPhone 11 (White, 128 GB)', 'SAMSUNG Galaxy A73 5G (Awesome Gray, 128 GB)', 'Xiaomi 12 Pro 5G (Opera Mauve, 256 GB)', 'Xiaomi 11T Pro 5G Hyperphone (Celestial Magic, 128 GB)', 'ASUS ROG 5s (Black, 128 GB)', 'IQOO 9T 5G (ALPHA, 128 GB)', 'Xiaomi 12 Pro 5G (Noir Black, 256 GB)', 'OnePlus 10T 5G (Moonstone Black, 128 GB)', 'Mi 10T Pro (Cosmic Black, 128 GB)', 'OnePlus 10 Pro 5G (Emerald Forest, 128 GB)', 'realme GT 2 Pro (Paper White, 128 GB)', 'realme GT 2 Pro (Paper Green, 128 GB)', 'realme GT 2 Pro (Steel Black, 128 GB)', 'realme X50 Pro (Moss Green, 256 GB)', 'Xiaomi 12 Pro 5G (Couture Blue, 256 GB)', 'OPPO Reno8 Pro 5G (Glazed Black, 256 GB)', 'OnePlus 10T 5G (Jade Green, 128 GB)', 'OnePlus 10T 5G (Moonstone Black, 256 GB)', 'APPLE iPhone 8 Plus (Space Grey, 64 GB)']\n"
     ]
    }
   ],
   "source": [
    "for i in name:\n",
    "    n = i.text\n",
    "    Product_name.append(n)\n",
    "    \n",
    "print(Product_name)"
   ]
  },
  {
   "cell_type": "code",
   "execution_count": 20,
   "id": "633ab759",
   "metadata": {},
   "outputs": [
    {
     "data": {
      "text/plain": [
       "24"
      ]
     },
     "execution_count": 20,
     "metadata": {},
     "output_type": "execute_result"
    }
   ],
   "source": [
    "len(Product_name)"
   ]
  },
  {
   "cell_type": "code",
   "execution_count": 21,
   "id": "2daf16e0",
   "metadata": {},
   "outputs": [
    {
     "name": "stdout",
     "output_type": "stream",
     "text": [
      "['₹45,999', '₹40,999', '₹40,999', '₹1,899', '₹45,999', '₹45,999', '₹41,999', '₹46,480', '₹30,880', '₹49,999', '₹45,799', '₹48,999', '₹47,700', '₹47,999', '₹49,990', '₹49,999', '₹49,999', '₹49,999', '₹47,999', '₹47,900', '₹45,999', '₹47,999', '₹50,999', '₹49,900']\n"
     ]
    }
   ],
   "source": [
    "prices = box.find_all(\"div\", class_ = \"_30jeq3 _1_WHN1\")\n",
    "\n",
    "for i in prices:\n",
    "    p = i.text\n",
    "    Prices.append(p)\n",
    "    \n",
    "print(Prices)"
   ]
  },
  {
   "cell_type": "code",
   "execution_count": 15,
   "id": "d6293f9f",
   "metadata": {},
   "outputs": [
    {
     "data": {
      "text/plain": [
       "24"
      ]
     },
     "execution_count": 15,
     "metadata": {},
     "output_type": "execute_result"
    }
   ],
   "source": [
    "len(Prices)"
   ]
  },
  {
   "cell_type": "code",
   "execution_count": 22,
   "id": "b3c09c66",
   "metadata": {},
   "outputs": [
    {
     "name": "stdout",
     "output_type": "stream",
     "text": [
      "['128 GB ROM15.49 cm (6.1 inch) Liquid Retina HD Display12MP + 12MP | 12MP Front CameraA13 Bionic Chip ProcessorBrand Warranty of 1 Year', '8 GB RAM | 256 GB ROM | Expandable Upto 1 TB16.26 cm (6.4 inch) Full HD+ Display50MP + 12MP + 5MP | 32MP Front Camera5000 mAh BatteryExynos 1380, Octa Core Processor1 Year Manufacturer Warranty for Device and 6 Months Manufacturer Warranty for In-Box Accessories', '8 GB RAM | 256 GB ROM | Expandable Upto 1 TB16.26 cm (6.4 inch) Full HD+ Display50MP + 12MP + 5MP | 32MP Front Camera5000 mAh BatteryExynos 1380, Octa Core Processor1 Year Manufacturer Warranty for Device and 6 Months Manufacturer Warranty for In-Box Accessories', '48 MB RAM | 128 MB ROM | Expandable Upto 128 GB6.1 cm (2.4 inch) Display0.8MP Rear Camera1800 mAh Battery1 Year Domestic Warrantyages', '128 GB ROM15.49 cm (6.1 inch) Liquid Retina HD Display12MP + 12MP | 12MP Front CameraA13 Bionic Chip ProcessorBrand Warranty of 1 Year', '128 GB ROM15.49 cm (6.1 inch) Liquid Retina HD Display12MP + 12MP | 12MP Front CameraA13 Bionic Chip ProcessorBrand Warranty of 1 Year', '8 GB RAM | 128 GB ROM | Expandable Upto 1 TB17.02 cm (6.7 inch) Full HD+ Display108MP + 12MP + 5MP + 5MP | 32MP Front Camera5000 mAh Li-ion BatteryQualcomm Snapdragon 778G Processor1 Year Manufacturer Warranty for Device and 6 Months Manufacturer Warranty for In-Box', '8 GB RAM | 256 GB ROM17.09 cm (6.73 inch) Full HD+ AMOLED Display50MP Rear Camera4600 mAh BatterySnapdragon@ 8 Gen 1 Processor12 Months', '8 GB RAM | 128 GB ROM16.94 cm (6.67 inch) Display108MP Rear Camera5000 mAh Battery1 Year', '8 GB RAM | 128 GB ROM17.22 cm (6.78 inch) Full HD+ Display64MP + 13MP + 5MP | 24MP Front Camera6000 mAh Lithium Polymer BatteryQualcomm Snapdragon 888 Plus (SM8350) Processor1 Year Brand Warranty', '8 GB RAM | 128 GB ROM17.22 cm (6.78 inch) Display50MP Rear Camera4700 mAh Battery1 Year', '8 GB RAM | 256 GB ROM17.09 cm (6.73 inch) Full HD+ AMOLED Display50MP Rear Camera4600 mAh BatterySnapdragon@ 8 Gen 1 Processor12 Months', '8 GB RAM | 128 GB ROM17.02 cm (6.7 inch) Display50MP Rear Camera4800 mAh Battery1 Year Manufacturer Warranty for Handset and 6 Months Warranty for In the Box Accessories', '8 GB RAM | 128 GB ROM16.94 cm (6.67 inch) Full HD+ Display108MP + 13MP + 5MP | 20MP Front Camera5000 mAh Li-ion Polymer BatteryQualcomm Snapdragon 865 Processor144Hz Intelligent AdaptiveSync Display33W Dual Split Flash Charge1 Year Manufacturer Warranty for Device and 6 Months Manufacturer Warranty for In-box Accessories', '8 GB RAM | 128 GB ROM17.02 cm (6.7 inch) Display48MP Rear Camera5000 mAh Battery1 year manufacturer warranty for device and 6 months manufacturer warranty for in-box accessories including batteries from the date of purchase', '8 GB RAM | 128 GB ROM17.02 cm (6.7 inch) Quad HD Display50MP + 50MP + 2MP | 32MP Front Camera5000 mAh Lithium Ion BatteryQualcomm Snapdragon 8 Gen 1 Mobile Platform Processor1 Year Manufacturer Warranty for Phone and 6 Months Warranty for In-Box Accessories', '8 GB RAM | 128 GB ROM17.02 cm (6.7 inch) Quad HD Display50MP + 50MP + 2MP | 32MP Front Camera5000 mAh Lithium Ion BatteryQualcomm Snapdragon 8 Gen 1 Mobile Platform Processor1 Year Manufacturer Warranty for Phone and 6 Months Warranty for In-Box Accessories', '8 GB RAM | 128 GB ROM17.02 cm (6.7 inch) Quad HD Display50MP + 50MP + 2MP | 32MP Front Camera5000 mAh Lithium Ion BatteryQualcomm Snapdragon 8 Gen 1 Mobile Platform Processor1 Year Manufacturer Warranty for Phone and 6 Months Warranty for In-Box Accessories', '12 GB RAM | 256 GB ROM16.36 cm (6.44 inch) Full HD+ Display64MP + 12MP + 8MP + 2MP | 32MP + 8MP Dual Front Camera4200 mAh Battery5G PhoneQualcomm Snapdragon 865 Processor65W Superdart ChargeBrand Warranty of 1 Year Available for Mobile and 6 Months for Accessories', '8 GB RAM | 256 GB ROM17.09 cm (6.73 inch) Full HD+ AMOLED Display50MP Rear Camera4600 mAh BatterySnapdragon@ 8 Gen 1 Processor12 Months', '12 GB RAM | 256 GB ROM17.02 cm (6.7 inch) Full HD+ AMOLED Display50MP + 8MP + 2MP | 32MP Front Camera4500 mAh Lithium-ion Polymer BatteryMediatek Dimensity 8100 Max Processor1 Year Warranty for Phone and 6 Months Warranty for In-Box Accessories', '8 GB RAM | 128 GB ROM17.02 cm (6.7 inch) Display50MP Rear Camera4800 mAh Battery1 year on phone, 6 months on accessories', '12 GB RAM | 256 GB ROM17.02 cm (6.7 inch) Display50MP Rear Camera4800 mAh Battery1 year on phone & 6 months on accessories', '64 GB ROM13.97 cm (5.5 inch) Retina HD Display12MP + 12MP | 7MP Front CameraA11 Bionic Chip with 64-bit Architecture, Neural Engine, Embedded M11 Motion Coprocessor ProcessorBrand Warranty of 1 Year']\n"
     ]
    }
   ],
   "source": [
    "desc = box.find_all(\"ul\", class_ = \"_1xgFaf\")\n",
    "\n",
    "for i in desc:\n",
    "    de = i.text\n",
    "    Description.append(de)\n",
    "    \n",
    "print(Description)"
   ]
  },
  {
   "cell_type": "code",
   "execution_count": 23,
   "id": "1a9521a3",
   "metadata": {},
   "outputs": [
    {
     "name": "stdout",
     "output_type": "stream",
     "text": [
      "['4.6', '4.4', '4.4', '3.7', '4.6', '4.6', '4.2', '4.1', '4.1', '4.1', '4.1', '4.1', '4.3', '4.2', '4.2', '4.2', '4.2', '4.2', '4.4', '4.1', '4.4', '4.3', '4.1', '4.6']\n",
      "24\n"
     ]
    }
   ],
   "source": [
    "Rev = box.find_all(\"div\", class_ = \"_3LWZlK\")\n",
    "\n",
    "for i in Rev:\n",
    "    re=i.text\n",
    "    Reviews.append(re)\n",
    "    \n",
    "print(Reviews)\n",
    "print(len(Reviews))"
   ]
  },
  {
   "cell_type": "code",
   "execution_count": 26,
   "id": "7b44255d",
   "metadata": {},
   "outputs": [],
   "source": [
    "Products2 = []\n",
    "Description2 = []\n",
    "Prices2 = []\n",
    "Reviews2 = []\n",
    "\n",
    "for i in range(2,10):\n",
    "    url = \"https://www.flipkart.com/search?q=mobiles+under+50000&otracker=search&otracker1=search&marketplace=FLIPKART&as-show=on&as=off&page=\"+str(i)\n",
    "    r = requests.get(url)\n",
    "    soup = BeautifulSoup(r.text, \"lxml\")\n",
    "    box = soup.find(\"div\", class_ = \"_1YokD2 _3Mn1Gg\")\n",
    "    \n",
    "    #Adding name into data\n",
    "    name = box.find_all(\"div\", class_ = \"_4rR01T\")\n",
    "    for i in name:\n",
    "        n = i.text\n",
    "        Products2.append(n)\n",
    "        \n",
    "    # Adding description\n",
    "    desc = box.find_all(\"ul\", class_ = \"_1xgFaf\")\n",
    "\n",
    "    for i in desc:\n",
    "        de = i.text\n",
    "        Description2.append(de)\n",
    "\n",
    "    #Adding Prices\n",
    "    prices = box.find_all(\"div\", class_ = \"_30jeq3 _1_WHN1\")\n",
    "\n",
    "    for i in prices:\n",
    "        p = i.text\n",
    "        Prices2.append(p)\n",
    "        \n",
    "    # Adding Reviews\n",
    "    Rev = box.find_all(\"div\", class_ = \"_3LWZlK\")\n",
    "\n",
    "    for i in Rev:\n",
    "        re=i.text\n",
    "        Reviews2.append(re)\n",
    "        \n",
    "\n",
    "#df = pd.DataFrame({\"Product Name\": Products2, \"Prices\": Prices2, \"Description\": Description2, \"Reviews\": Reviews2})"
   ]
  },
  {
   "cell_type": "code",
   "execution_count": 35,
   "id": "69b7fdb9",
   "metadata": {},
   "outputs": [
    {
     "name": "stdout",
     "output_type": "stream",
     "text": [
      "['IQOO 9T 5G (LEGEND, 128 GB)', 'SAMSUNG Galaxy S7 (Gold Platinum, 32 GB)', 'IQOO 9 Pro 5G (Dark Cruise, 256 GB)', 'I Kall Z20 Pro (Black, 64 GB)', 'IQOO 9 Pro 5G (Legend, 256 GB)', 'APPLE iPhone 8 Plus (Gold, 64 GB)', 'OnePlus 9 5G (Winter Mist, 256 GB)', 'IQOO 9T 5G (LEGEND, 128 GB)', 'APPLE iPhone 8 Plus (Silver, 64 GB)', 'Xiaomi 12 Pro 5G (Couture Blue, 256 GB)', 'APPLE iPhone 11 (Black, 64 GB)', 'APPLE iPhone 11 (White, 64 GB)', 'vivo V27 Pro 5G (Noble Black, 256 GB)', 'OnePlus 11R 5G (Galactic Silver, 256 GB)', 'vivo V27 Pro 5G (Magic Blue, 256 GB)', 'SAMSUNG Galaxy A54 5G (Awesome Graphite, 256 GB)', 'SAMSUNG Galaxy A54 5G (Awesome Violet, 256 GB)', 'MOTOROLA Edge 30 Fusion (Cosmic grey, 128 GB)', 'SAMSUNG Galaxy A73 5G (Awesome Mint, 256 GB)', 'MOTOROLA Edge 30 Fusion (Viva Magenta, 128 GB)', 'SAMSUNG Galaxy A54 5G (Awesome Lime, 256 GB)', 'MOTOROLA Edge 30 Fusion (Solar Gold, 128 GB)', 'SAMSUNG Galaxy A73 5G (Awesome Gray, 128 GB)', 'OnePlus 10R 5G (Sierra Black, 256 GB)', 'Xiaomi 11T Pro 5G Hyperphone (Celestial Magic, 128 GB)', 'SAMSUNG Galaxy A73 5G (Awesome Gray, 256 GB)', 'SAMSUNG Galaxy A73 5G (Awesome Mint, 128 GB)', 'I Kall Z20 Pro (Black, 64 GB)', 'realme GT NEO 3 (150W) (Sprint White, 256 GB)', 'APPLE iPhone 11 (Red, 64 GB)', 'realme GT NEO 3 (150W) (Asphalt Black, 256 GB)', 'APPLE iPhone SE (Red, 256 GB)', 'OnePlus 10R 5G (Forest Green, 256 GB)', 'realme GT Neo 3 (150W - Thor Limited Edition) (Nitro Blue, 256 GB)', 'realme X50 Pro (Moss Green, 128 GB)', 'realme X50 Pro (Rust Red, 128 GB)', 'realme GT 5G (Racing Yellow, 256 GB)', 'realme GT NEO 3 (150W) (Nitro Blue, 256 GB)', 'OnePlus 9 5G (Arctic Sky, 256 GB)', 'vivo V25 Pro 5G (Sailing Blue, 256 GB)', 'Vivo V25 Pro 5G (Pure Black, 256 GB)', 'OnePlus 9 5G (Astral Black, 128 GB)', 'OnePlus 9 5G (Arctic Sky, 128 GB)', 'IQOO 9 5G (Phoenix, 128 GB)', 'ASUS ROG Phone II (Black, 128 GB)', 'OnePlus 10R (Sierra Black, 128 GB)', 'vivo V27 5G (Magic Blue, 256 GB)', 'Nothing Phone (1) (Black, 256 GB)', 'OnePlus 10R (Forest Green, 128 GB)', 'vivo V27 Pro 5G (Magic Blue, 128 GB)', 'vivo V27 Pro 5G (Noble Black, 256 GB)', 'I Kall Z20 Pro (Black, 64 GB)', 'SAMSUNG Galaxy S21 FE 5G (Graphite, 128 GB)', 'SAMSUNG Galaxy S21 FE 5G (Olive, 128 GB)', 'SAMSUNG Galaxy S21 FE 5G (White, 128 GB)', 'vivo V27 Pro 5G (Noble Black, 128 GB)', 'realme GT 2 (Steel Black, 256 GB)', 'realme GT 2 (Paper White, 256 GB)', 'OnePlus 10R (Forest Green, 256 GB)', 'Xiaomi 11T Pro 5G Hyperphone (Moonlight White, 256 GB)', 'Mi 10T (Cosmic Black, 128 GB)', 'vivo V23 Pro 5G (Sunshine Gold, 128 GB)', 'Mi 10T (Cosmic Black, 128 GB)', 'realme GT Neo 3 (Asphalt Black, 256 GB)', 'realme GT Neo 3 (Sprint White, 256 GB)', 'vivo V25 Pro 5G (Pure Black, 128 GB)', 'vivo V25 Pro 5G (Sailing Blue, 128 GB)', 'vivo V23 Pro 5G (Stardust Black, 128 GB)', 'realme GT Neo 3 (Asphalt Black, 128 GB)', 'realme GT Neo 3 (Nitro Blue, 128 GB)', 'Mi 10T (Lunar Silver, 128 GB)', 'realme GT NEO 2 (NEO Black, 256 GB)', 'realme GT Neo 3 (Sprint White, 128 GB)', 'OnePlus 10R 5G (Sierra Black, 256 GB)', 'realme GT NEO 2 (NEO Blue, 256 GB)', 'I Kall Z20 Pro (Black, 64 GB)', 'POCO F3 GT 5G (Predator Black, 256 GB)', 'OPPO Reno3 Pro (Midnight Black, 256 GB)', 'Xiaomi 11T Pro 5G Hyperphone (Celestial Magic, 256 GB)', 'IQOO 9 5G (Legend, 128 GB)', 'OnePlus 10R 5G (Prime Blue, 128 GB)', 'APPLE iPhone 6 (Silver, 16 GB)', 'Mi Mix 2 (Black, 128 GB)', 'SAMSUNG Galaxy A54 5G (Awesome Graphite, 128 GB)', 'IQOO 9 5G (Alpha, 128 GB)', 'vivo X21 (Black, 128 GB)', 'realme GT 5G (Dashing Silver, 128 GB)', 'realme GT Neo 3 (Nitro Blue, 256 GB)', 'Mi 10T (Lunar Silver, 128 GB)', 'realme X2 Pro (Neptune Blue, 256 GB)', 'Xiaomi 11T Pro 5G Hyperphone (Meteorite Black, 256 GB)', 'APPLE iPhone SE 3rd Gen (Starlight, 256 GB)', 'OnePlus 9 Pro 5G (Morning Mist, 256 GB)', 'OnePlus 7T Pro (Haze Blue, 256 GB)', 'LG G Pro 2 (Titan, 16 GB)', 'Apple iPhone XR ((PRODUCT)RED, 64 GB) (Includes EarPods, Power Adapter)', 'APPLE iPhone 8 (Gold, 64 GB)', 'ASUS ZenFone 5Z (Midnight Blue, 128 GB)', 'Lenovo Z6 Pro (Black, 128 GB)', 'I Kall Z20 Pro (Black, 64 GB)', 'realme GT 5G (Dashing Blue, 128 GB)', 'SAMSUNG Galaxy A54 5G (Awesome Lime, 128 GB)', 'APPLE iPhone 8 (Silver, 64 GB)', 'POCO C31 (Royal Blue, 64 GB)', 'POCO C31 (Shadow Gray, 64 GB)', 'POCO C50 (Royal Blue, 32 GB)', 'realme C33 (Sandy Gold, 64 GB)', 'realme C33 (Night Sea, 64 GB)', 'realme C33 (Sandy Gold, 32 GB)', 'realme C33 (Aqua Blue, 32 GB)', 'realme C33 (Aqua Blue, 64 GB)', 'POCO C31 (Royal Blue, 32 GB)', 'MOTOROLA e13 (Aurora Green, 64 GB)', 'POCO M4 Pro (Cool Blue, 128 GB)', 'POCO C50 (Country Green, 32 GB)', 'POCO C55 (Cool Blue, 64 GB)', 'realme C33 (Night Sea, 32 GB)', 'POCO C55 (Power Black, 64 GB)', 'Nokia 105 SS', 'MOTOROLA e40 (Carbon Gray, 64 GB)', 'Infinix SMART 7 (Azure Blue, 64 GB)', 'Infinix SMART 7 (Emerald Green, 64 GB)', 'realme C30 (Denim Black, 32 GB)', 'I Kall Z20 Pro (Black, 64 GB)', 'realme C30 (Bamboo Green, 32 GB)', 'realme C30 (Lake Blue, 32 GB)', 'MOTOROLA G32 (Mineral Gray, 128 GB)', 'MOTOROLA G32 (Satin Silver, 128 GB)', 'MOTOROLA g52 (Charcoal Grey, 64 GB)', 'realme C30 (Denim Black, 32 GB)', 'POCO C55 (Cool Blue, 128 GB)', 'realme C55 (Sunshower, 128 GB)', 'realme C55 (Rainy Night, 64 GB)', 'Nokia 105 SS', 'POCO C55 (Forest Green, 128 GB)', 'realme C30 (Lake Blue, 32 GB)', 'realme C55 (Rainy Night, 128 GB)', 'realme C55 (Sunshower, 64 GB)', 'realme C55 (Rainy Night, 64 GB)', 'MOTOROLA G62 5G (Frosted Blue, 128 GB)', 'APPLE iPhone 14 (Purple, 128 GB)', 'POCO C55 (Forest Green, 64 GB)', 'POCO C55 (Power Black, 128 GB)', 'POCO C50 (Royal Blue, 32 GB)', 'POCO C55 (Forest Green, 64 GB)', 'POCO C50 (Royal Blue, 32 GB)', 'MOTOROLA e13 (Cosmic Black, 64 GB)', 'I Kall Z20 Pro (Black, 64 GB)', 'realme C55 (Sunshower, 64 GB)', 'MOTOROLA g31 (Meteorite Grey, 64 GB)', 'MOTOROLA G62 5G (Midnight Gray, 128 GB)', 'Realme C30 - Locked with Airtel Prepaid (Denim Black, 32 GB)', 'POCO C55 (Power Black, 128 GB)', 'MOTOROLA g72 (Meteorite Grey, 128 GB)', 'SAMSUNG Galaxy F14 5G (B.A.E. Purple, 128 GB)', 'MOTOROLA g52 (Metallic White, 128 GB)', 'POCO M4 5G (Power Black, 64 GB)', 'MOTOROLA e13 (Creamy White, 64 GB)', 'REDMI 10 (Pacific Blue, 64 GB)', 'realme 10 Pro 5G (Nebula Blue, 128 GB)', 'realme 10 Pro 5G (Dark Matter, 128 GB)', 'realme 10 Pro 5G (Nebula Blue, 128 GB)', 'POCO M4 5G (Power Black, 128 GB)', 'POCO C50 (Country Green, 32 GB)', 'Infinix Hot 12 (Exploratory Blue, 64 GB)', 'Infinix Hot 12 (Polar Black, 64 GB)', 'Infinix Hot 12 (Turquoise Cyan, 64 GB)', 'Infinix Hot 12 (7° Purple, 64 GB)', 'POCO M4 5G (Cool Blue, 64 GB)', 'REDMI 10 (Pacific Blue, 64 GB)', 'SAMSUNG Galaxy F14 5G (GOAT Green, 128 GB)', 'I Kall Z20 Pro (Black, 64 GB)', 'SAMSUNG Galaxy M04 (Dark Blue, 64 GB)', 'POCO M4 Pro (Cool Blue, 64 GB)', 'realme 10 Pro 5G (Hyperspace, 128 GB)', 'MOTOROLA G32 (Mineral Gray, 64 GB)', 'realme 10 Pro 5G (Hyperspace, 128 GB)', 'MOTOROLA g22 (Cosmic Black, 64 GB)', 'POCO C31 (Shadow Gray, 32 GB)', 'SAMSUNG Galaxy F14 5G (OMG Black, 128 GB)', 'SAMSUNG Galaxy F13 (Nightsky Green, 64 GB)', 'Infinix Smart 6 HD (Origin Blue, 32 GB)', 'Infinix Smart 6 HD (Force Black, 32 GB)', 'Infinix Smart 6 HD (Aqua Sky, 32 GB)', 'REDMI A1 (Light Blue, 32 GB)', 'MOTOROLA g52 (Charcoal Grey, 128 GB)', 'SAMSUNG Galaxy F23 5G (Forest Green, 128 GB)', 'REDMI 10 (Midnight Black, 128 GB)', 'REDMI A1 (Black, 32 GB)', 'REDMI 10 (Shadow Black, 64 GB)', 'MOTOROLA G62 5G (Midnight Gray, 128 GB)', 'SAMSUNG Galaxy F14 5G (OMG Black, 128 GB)']\n",
      "['4.1', '4.4', '3', '4.6', '4', '4.1', '4.6', '4.2', '4.6', '4.6', '4.4', '4.7', '4.4', '4.4', '4.4', '4.3', '4.2', '4.3', '4.4', '4.3', '4.2', '4.2', '4.1', '4.2', '4.2', '3', '4.4', '4.6', '4.4', '4.5', '4.2', '4.3', '4.4', '4.4', '4.4', '4.4', '4', '4.4', '4.4', '3.9', '3.9', '4', '4.6', '4.3', '4.4', '4.3', '4.3', '4.4', '4.4', '3', '4.4', '4.4', '4.4', '4.4', '4.4', '4.4', '3.8', '4.1', '4.2', '4.3', '4.1', '4.1', '4.1', '4.3', '4.3', '4.3', '4.1', '4.1', '4.1', '4.4', '4.1', '4.2', '4.4', '3', '4.3', '4.4', '4.2', '4', '4.3', '4.4', '4.3', '4.4', '4', '4.3', '4.3', '4.1', '4.2', '4.6', '4.2', '4.3', '3.9', '4.5', '4.5', '4.6', '4.5', '4.5', '3.8', '3', '4.3', '4.4', '4.5', '4.3', '4.3', '4.3', '4.4', '4.4', '4.4', '4.4', '4.4', '4.3', '4', '4.3', '4.3', '4.3', '4.4', '4.3', '4.2', '4.2', '4.2', '4.2', '4.2', '3', '4.2', '4.2', '4.1', '4.1', '4.2', '4.1', '4.3', '4.5', '4.4', '4.2', '4.3', '4.1', '4.5', '4.4', '4.4', '4.2', '4.6', '4.3', '4.3', '4.1', '4.3', '4.1', '4', '3', '4.2', '4.1', '4.2', '4.3', '4.1', '4.4', '4.2', '4.2', '4', '4.3', '4.4', '4.4', '4.4', '4.2', '4.1', '4.3', '4.3', '4.3', '4.3', '4.2', '4.3', '4.2', '3', '4.1', '4.3', '4.4', '4.2', '4.4', '3.8', '4.3', '4.2', '4.4', '4.3', '4.3', '4.3', '4.2', '4.2', '4.3', '4.2', '4.2', '4.3', '4.2']\n"
     ]
    }
   ],
   "source": [
    "print(Products2)\n",
    "print(Reviews2)"
   ]
  },
  {
   "cell_type": "code",
   "execution_count": 28,
   "id": "55e3fc0d",
   "metadata": {},
   "outputs": [
    {
     "data": {
      "text/plain": [
       "188"
      ]
     },
     "execution_count": 28,
     "metadata": {},
     "output_type": "execute_result"
    }
   ],
   "source": [
    "len(Reviews2)"
   ]
  },
  {
   "cell_type": "code",
   "execution_count": 43,
   "id": "2132e03c",
   "metadata": {},
   "outputs": [],
   "source": [
    "Reviews2.insert(2,0)\n",
    "Reviews2.insert(4,0)"
   ]
  },
  {
   "cell_type": "code",
   "execution_count": 45,
   "id": "6f6fac6b",
   "metadata": {},
   "outputs": [],
   "source": [
    "Reviews2.append(4.2)\n",
    "Reviews2.append(4.3)"
   ]
  },
  {
   "cell_type": "code",
   "execution_count": 46,
   "id": "f430c5a2",
   "metadata": {},
   "outputs": [
    {
     "data": {
      "text/plain": [
       "192"
      ]
     },
     "execution_count": 46,
     "metadata": {},
     "output_type": "execute_result"
    }
   ],
   "source": [
    "len(Reviews2)"
   ]
  },
  {
   "cell_type": "code",
   "execution_count": 30,
   "id": "06ffe3c4",
   "metadata": {},
   "outputs": [
    {
     "data": {
      "text/plain": [
       "192"
      ]
     },
     "execution_count": 30,
     "metadata": {},
     "output_type": "execute_result"
    }
   ],
   "source": [
    "len(Description2)"
   ]
  },
  {
   "cell_type": "code",
   "execution_count": 47,
   "id": "5b785edd",
   "metadata": {},
   "outputs": [
    {
     "data": {
      "text/html": [
       "<div>\n",
       "<style scoped>\n",
       "    .dataframe tbody tr th:only-of-type {\n",
       "        vertical-align: middle;\n",
       "    }\n",
       "\n",
       "    .dataframe tbody tr th {\n",
       "        vertical-align: top;\n",
       "    }\n",
       "\n",
       "    .dataframe thead th {\n",
       "        text-align: right;\n",
       "    }\n",
       "</style>\n",
       "<table border=\"1\" class=\"dataframe\">\n",
       "  <thead>\n",
       "    <tr style=\"text-align: right;\">\n",
       "      <th></th>\n",
       "      <th>Products</th>\n",
       "      <th>Prices</th>\n",
       "      <th>Description</th>\n",
       "      <th>Reviews</th>\n",
       "    </tr>\n",
       "  </thead>\n",
       "  <tbody>\n",
       "    <tr>\n",
       "      <th>0</th>\n",
       "      <td>IQOO 9T 5G (LEGEND, 128 GB)</td>\n",
       "      <td>₹49,499</td>\n",
       "      <td>8 GB RAM | 128 GB ROM17.22 cm (6.78 inch) Disp...</td>\n",
       "      <td>4.1</td>\n",
       "    </tr>\n",
       "    <tr>\n",
       "      <th>1</th>\n",
       "      <td>SAMSUNG Galaxy S7 (Gold Platinum, 32 GB)</td>\n",
       "      <td>₹46,000</td>\n",
       "      <td>4 GB RAM | 32 GB ROM | Expandable Upto 200 GB1...</td>\n",
       "      <td>4.4</td>\n",
       "    </tr>\n",
       "    <tr>\n",
       "      <th>2</th>\n",
       "      <td>IQOO 9 Pro 5G (Dark Cruise, 256 GB)</td>\n",
       "      <td>₹47,990</td>\n",
       "      <td>8 GB RAM | 256 GB ROM17.22 cm (6.78 inch) Full...</td>\n",
       "      <td>0</td>\n",
       "    </tr>\n",
       "    <tr>\n",
       "      <th>3</th>\n",
       "      <td>I Kall Z20 Pro (Black, 64 GB)</td>\n",
       "      <td>₹7,799</td>\n",
       "      <td>4 GB RAM | 64 GB ROM16.51 cm (6.5 inch) HD+ Di...</td>\n",
       "      <td>3</td>\n",
       "    </tr>\n",
       "    <tr>\n",
       "      <th>4</th>\n",
       "      <td>IQOO 9 Pro 5G (Legend, 256 GB)</td>\n",
       "      <td>₹47,467</td>\n",
       "      <td>8 GB RAM | 256 GB ROM17.22 cm (6.78 inch) Full...</td>\n",
       "      <td>0</td>\n",
       "    </tr>\n",
       "    <tr>\n",
       "      <th>...</th>\n",
       "      <td>...</td>\n",
       "      <td>...</td>\n",
       "      <td>...</td>\n",
       "      <td>...</td>\n",
       "    </tr>\n",
       "    <tr>\n",
       "      <th>187</th>\n",
       "      <td>REDMI 10 (Midnight Black, 128 GB)</td>\n",
       "      <td>₹11,999</td>\n",
       "      <td>6 GB RAM | 128 GB ROM | Expandable Upto 1 TB17...</td>\n",
       "      <td>4.2</td>\n",
       "    </tr>\n",
       "    <tr>\n",
       "      <th>188</th>\n",
       "      <td>REDMI A1 (Black, 32 GB)</td>\n",
       "      <td>₹6,400</td>\n",
       "      <td>2 GB RAM | 32 GB ROM16.56 cm (6.52 inch) Displ...</td>\n",
       "      <td>4.3</td>\n",
       "    </tr>\n",
       "    <tr>\n",
       "      <th>189</th>\n",
       "      <td>REDMI 10 (Shadow Black, 64 GB)</td>\n",
       "      <td>₹9,999</td>\n",
       "      <td>4 GB RAM | 64 GB ROM | Expandable Upto 1 TB17....</td>\n",
       "      <td>4.2</td>\n",
       "    </tr>\n",
       "    <tr>\n",
       "      <th>190</th>\n",
       "      <td>MOTOROLA G62 5G (Midnight Gray, 128 GB)</td>\n",
       "      <td>₹16,149</td>\n",
       "      <td>6 GB RAM | 128 GB ROM16.64 cm (6.55 inch) Full...</td>\n",
       "      <td>4.2</td>\n",
       "    </tr>\n",
       "    <tr>\n",
       "      <th>191</th>\n",
       "      <td>SAMSUNG Galaxy F14 5G (OMG Black, 128 GB)</td>\n",
       "      <td>₹15,990</td>\n",
       "      <td>6 GB RAM | 128 GB ROM | Expandable Upto 1 TB16...</td>\n",
       "      <td>4.3</td>\n",
       "    </tr>\n",
       "  </tbody>\n",
       "</table>\n",
       "<p>192 rows × 4 columns</p>\n",
       "</div>"
      ],
      "text/plain": [
       "                                      Products   Prices  \\\n",
       "0                  IQOO 9T 5G (LEGEND, 128 GB)  ₹49,499   \n",
       "1     SAMSUNG Galaxy S7 (Gold Platinum, 32 GB)  ₹46,000   \n",
       "2          IQOO 9 Pro 5G (Dark Cruise, 256 GB)  ₹47,990   \n",
       "3                I Kall Z20 Pro (Black, 64 GB)   ₹7,799   \n",
       "4               IQOO 9 Pro 5G (Legend, 256 GB)  ₹47,467   \n",
       "..                                         ...      ...   \n",
       "187          REDMI 10 (Midnight Black, 128 GB)  ₹11,999   \n",
       "188                    REDMI A1 (Black, 32 GB)   ₹6,400   \n",
       "189             REDMI 10 (Shadow Black, 64 GB)   ₹9,999   \n",
       "190    MOTOROLA G62 5G (Midnight Gray, 128 GB)  ₹16,149   \n",
       "191  SAMSUNG Galaxy F14 5G (OMG Black, 128 GB)  ₹15,990   \n",
       "\n",
       "                                           Description Reviews  \n",
       "0    8 GB RAM | 128 GB ROM17.22 cm (6.78 inch) Disp...     4.1  \n",
       "1    4 GB RAM | 32 GB ROM | Expandable Upto 200 GB1...     4.4  \n",
       "2    8 GB RAM | 256 GB ROM17.22 cm (6.78 inch) Full...       0  \n",
       "3    4 GB RAM | 64 GB ROM16.51 cm (6.5 inch) HD+ Di...       3  \n",
       "4    8 GB RAM | 256 GB ROM17.22 cm (6.78 inch) Full...       0  \n",
       "..                                                 ...     ...  \n",
       "187  6 GB RAM | 128 GB ROM | Expandable Upto 1 TB17...     4.2  \n",
       "188  2 GB RAM | 32 GB ROM16.56 cm (6.52 inch) Displ...     4.3  \n",
       "189  4 GB RAM | 64 GB ROM | Expandable Upto 1 TB17....     4.2  \n",
       "190  6 GB RAM | 128 GB ROM16.64 cm (6.55 inch) Full...     4.2  \n",
       "191  6 GB RAM | 128 GB ROM | Expandable Upto 1 TB16...     4.3  \n",
       "\n",
       "[192 rows x 4 columns]"
      ]
     },
     "execution_count": 47,
     "metadata": {},
     "output_type": "execute_result"
    }
   ],
   "source": [
    "df = pd.DataFrame({\"Products\": Products2,\"Prices\":Prices2,\"Description\":Description2,\"Reviews\":Reviews2})\n",
    "df"
   ]
  },
  {
   "cell_type": "code",
   "execution_count": 48,
   "id": "b5fb00c2",
   "metadata": {},
   "outputs": [
    {
     "data": {
      "text/plain": [
       "0"
      ]
     },
     "execution_count": 48,
     "metadata": {},
     "output_type": "execute_result"
    }
   ],
   "source": [
    "df['Reviews'].isna().sum()"
   ]
  },
  {
   "cell_type": "code",
   "execution_count": 49,
   "id": "197628bf",
   "metadata": {},
   "outputs": [
    {
     "data": {
      "text/plain": [
       "192"
      ]
     },
     "execution_count": 49,
     "metadata": {},
     "output_type": "execute_result"
    }
   ],
   "source": [
    "len(df)"
   ]
  },
  {
   "cell_type": "code",
   "execution_count": 57,
   "id": "0abf6659",
   "metadata": {},
   "outputs": [
    {
     "data": {
      "text/plain": [
       "0                    [IQOO 9T 5G (LEGEND,  128 GB)]\n",
       "1       [SAMSUNG Galaxy S7 (Gold Platinum,  32 GB)]\n",
       "2            [IQOO 9 Pro 5G (Dark Cruise,  256 GB)]\n",
       "3                  [I Kall Z20 Pro (Black,  64 GB)]\n",
       "4                 [IQOO 9 Pro 5G (Legend,  256 GB)]\n",
       "                           ...                     \n",
       "187            [REDMI 10 (Midnight Black,  128 GB)]\n",
       "188                      [REDMI A1 (Black,  32 GB)]\n",
       "189               [REDMI 10 (Shadow Black,  64 GB)]\n",
       "190      [MOTOROLA G62 5G (Midnight Gray,  128 GB)]\n",
       "191    [SAMSUNG Galaxy F14 5G (OMG Black,  128 GB)]\n",
       "Name: Products, Length: 192, dtype: object"
      ]
     },
     "execution_count": 57,
     "metadata": {},
     "output_type": "execute_result"
    }
   ],
   "source": [
    "rom_list = df[\"Products\"].str.split(',')\n",
    "rom_list"
   ]
  },
  {
   "cell_type": "code",
   "execution_count": 61,
   "id": "f306c348",
   "metadata": {},
   "outputs": [],
   "source": [
    "st = \"IQOO 9T 5G (LEGEND, 128 GB)\"\n",
    "list1 = st.split(\",\")[1]"
   ]
  },
  {
   "cell_type": "code",
   "execution_count": 62,
   "id": "462a3041",
   "metadata": {},
   "outputs": [
    {
     "data": {
      "text/plain": [
       "' 128 GB)'"
      ]
     },
     "execution_count": 62,
     "metadata": {},
     "output_type": "execute_result"
    }
   ],
   "source": [
    "list1"
   ]
  },
  {
   "cell_type": "code",
   "execution_count": 69,
   "id": "f62d6d16",
   "metadata": {},
   "outputs": [
    {
     "data": {
      "text/html": [
       "<div>\n",
       "<style scoped>\n",
       "    .dataframe tbody tr th:only-of-type {\n",
       "        vertical-align: middle;\n",
       "    }\n",
       "\n",
       "    .dataframe tbody tr th {\n",
       "        vertical-align: top;\n",
       "    }\n",
       "\n",
       "    .dataframe thead th {\n",
       "        text-align: right;\n",
       "    }\n",
       "</style>\n",
       "<table border=\"1\" class=\"dataframe\">\n",
       "  <thead>\n",
       "    <tr style=\"text-align: right;\">\n",
       "      <th></th>\n",
       "      <th>Products</th>\n",
       "      <th>Prices</th>\n",
       "      <th>Description</th>\n",
       "      <th>Reviews</th>\n",
       "    </tr>\n",
       "  </thead>\n",
       "  <tbody>\n",
       "    <tr>\n",
       "      <th>0</th>\n",
       "      <td>IQOO 9T 5G (LEGEND, 128 GB)</td>\n",
       "      <td>₹49,499</td>\n",
       "      <td>8 GB RAM | 128 GB ROM17.22 cm (6.78 inch) Disp...</td>\n",
       "      <td>4.1</td>\n",
       "    </tr>\n",
       "    <tr>\n",
       "      <th>1</th>\n",
       "      <td>SAMSUNG Galaxy S7 (Gold Platinum, 32 GB)</td>\n",
       "      <td>₹46,000</td>\n",
       "      <td>4 GB RAM | 32 GB ROM | Expandable Upto 200 GB1...</td>\n",
       "      <td>4.4</td>\n",
       "    </tr>\n",
       "    <tr>\n",
       "      <th>2</th>\n",
       "      <td>IQOO 9 Pro 5G (Dark Cruise, 256 GB)</td>\n",
       "      <td>₹47,990</td>\n",
       "      <td>8 GB RAM | 256 GB ROM17.22 cm (6.78 inch) Full...</td>\n",
       "      <td>0</td>\n",
       "    </tr>\n",
       "    <tr>\n",
       "      <th>3</th>\n",
       "      <td>I Kall Z20 Pro (Black, 64 GB)</td>\n",
       "      <td>₹7,799</td>\n",
       "      <td>4 GB RAM | 64 GB ROM16.51 cm (6.5 inch) HD+ Di...</td>\n",
       "      <td>3</td>\n",
       "    </tr>\n",
       "    <tr>\n",
       "      <th>4</th>\n",
       "      <td>IQOO 9 Pro 5G (Legend, 256 GB)</td>\n",
       "      <td>₹47,467</td>\n",
       "      <td>8 GB RAM | 256 GB ROM17.22 cm (6.78 inch) Full...</td>\n",
       "      <td>0</td>\n",
       "    </tr>\n",
       "  </tbody>\n",
       "</table>\n",
       "</div>"
      ],
      "text/plain": [
       "                                   Products   Prices  \\\n",
       "0               IQOO 9T 5G (LEGEND, 128 GB)  ₹49,499   \n",
       "1  SAMSUNG Galaxy S7 (Gold Platinum, 32 GB)  ₹46,000   \n",
       "2       IQOO 9 Pro 5G (Dark Cruise, 256 GB)  ₹47,990   \n",
       "3             I Kall Z20 Pro (Black, 64 GB)   ₹7,799   \n",
       "4            IQOO 9 Pro 5G (Legend, 256 GB)  ₹47,467   \n",
       "\n",
       "                                         Description Reviews  \n",
       "0  8 GB RAM | 128 GB ROM17.22 cm (6.78 inch) Disp...     4.1  \n",
       "1  4 GB RAM | 32 GB ROM | Expandable Upto 200 GB1...     4.4  \n",
       "2  8 GB RAM | 256 GB ROM17.22 cm (6.78 inch) Full...       0  \n",
       "3  4 GB RAM | 64 GB ROM16.51 cm (6.5 inch) HD+ Di...       3  \n",
       "4  8 GB RAM | 256 GB ROM17.22 cm (6.78 inch) Full...       0  "
      ]
     },
     "execution_count": 69,
     "metadata": {},
     "output_type": "execute_result"
    }
   ],
   "source": [
    "\n",
    "df.drop([\"ROM\"], axis = 1, inplace = True)\n",
    "df.head()"
   ]
  },
  {
   "cell_type": "code",
   "execution_count": 71,
   "id": "86078af2",
   "metadata": {},
   "outputs": [
    {
     "data": {
      "text/plain": [
       "0"
      ]
     },
     "execution_count": 71,
     "metadata": {},
     "output_type": "execute_result"
    }
   ],
   "source": [
    "df[\"Products\"].isnull().sum()"
   ]
  },
  {
   "cell_type": "code",
   "execution_count": 72,
   "id": "af94ef27",
   "metadata": {},
   "outputs": [
    {
     "data": {
      "text/plain": [
       "0"
      ]
     },
     "execution_count": 72,
     "metadata": {},
     "output_type": "execute_result"
    }
   ],
   "source": [
    "df[\"Products\"].isna().sum()"
   ]
  },
  {
   "cell_type": "code",
   "execution_count": 76,
   "id": "10e976a7",
   "metadata": {
    "scrolled": true
   },
   "outputs": [
    {
     "data": {
      "text/html": [
       "<div>\n",
       "<style scoped>\n",
       "    .dataframe tbody tr th:only-of-type {\n",
       "        vertical-align: middle;\n",
       "    }\n",
       "\n",
       "    .dataframe tbody tr th {\n",
       "        vertical-align: top;\n",
       "    }\n",
       "\n",
       "    .dataframe thead th {\n",
       "        text-align: right;\n",
       "    }\n",
       "</style>\n",
       "<table border=\"1\" class=\"dataframe\">\n",
       "  <thead>\n",
       "    <tr style=\"text-align: right;\">\n",
       "      <th></th>\n",
       "      <th>Products</th>\n",
       "      <th>Prices</th>\n",
       "      <th>Description</th>\n",
       "      <th>Reviews</th>\n",
       "    </tr>\n",
       "  </thead>\n",
       "  <tbody>\n",
       "    <tr>\n",
       "      <th>0</th>\n",
       "      <td>IQOO 9T 5G (LEGEND, 128 GB)</td>\n",
       "      <td>₹49,499</td>\n",
       "      <td>8 GB RAM | 128 GB ROM17.22 cm (6.78 inch) Disp...</td>\n",
       "      <td>4.1</td>\n",
       "    </tr>\n",
       "    <tr>\n",
       "      <th>1</th>\n",
       "      <td>SAMSUNG Galaxy S7 (Gold Platinum, 32 GB)</td>\n",
       "      <td>₹46,000</td>\n",
       "      <td>4 GB RAM | 32 GB ROM | Expandable Upto 200 GB1...</td>\n",
       "      <td>4.4</td>\n",
       "    </tr>\n",
       "    <tr>\n",
       "      <th>2</th>\n",
       "      <td>IQOO 9 Pro 5G (Dark Cruise, 256 GB)</td>\n",
       "      <td>₹47,990</td>\n",
       "      <td>8 GB RAM | 256 GB ROM17.22 cm (6.78 inch) Full...</td>\n",
       "      <td>0</td>\n",
       "    </tr>\n",
       "    <tr>\n",
       "      <th>3</th>\n",
       "      <td>I Kall Z20 Pro (Black, 64 GB)</td>\n",
       "      <td>₹7,799</td>\n",
       "      <td>4 GB RAM | 64 GB ROM16.51 cm (6.5 inch) HD+ Di...</td>\n",
       "      <td>3</td>\n",
       "    </tr>\n",
       "    <tr>\n",
       "      <th>4</th>\n",
       "      <td>IQOO 9 Pro 5G (Legend, 256 GB)</td>\n",
       "      <td>₹47,467</td>\n",
       "      <td>8 GB RAM | 256 GB ROM17.22 cm (6.78 inch) Full...</td>\n",
       "      <td>0</td>\n",
       "    </tr>\n",
       "    <tr>\n",
       "      <th>...</th>\n",
       "      <td>...</td>\n",
       "      <td>...</td>\n",
       "      <td>...</td>\n",
       "      <td>...</td>\n",
       "    </tr>\n",
       "    <tr>\n",
       "      <th>187</th>\n",
       "      <td>REDMI 10 (Midnight Black, 128 GB)</td>\n",
       "      <td>₹11,999</td>\n",
       "      <td>6 GB RAM | 128 GB ROM | Expandable Upto 1 TB17...</td>\n",
       "      <td>4.2</td>\n",
       "    </tr>\n",
       "    <tr>\n",
       "      <th>188</th>\n",
       "      <td>REDMI A1 (Black, 32 GB)</td>\n",
       "      <td>₹6,400</td>\n",
       "      <td>2 GB RAM | 32 GB ROM16.56 cm (6.52 inch) Displ...</td>\n",
       "      <td>4.3</td>\n",
       "    </tr>\n",
       "    <tr>\n",
       "      <th>189</th>\n",
       "      <td>REDMI 10 (Shadow Black, 64 GB)</td>\n",
       "      <td>₹9,999</td>\n",
       "      <td>4 GB RAM | 64 GB ROM | Expandable Upto 1 TB17....</td>\n",
       "      <td>4.2</td>\n",
       "    </tr>\n",
       "    <tr>\n",
       "      <th>190</th>\n",
       "      <td>MOTOROLA G62 5G (Midnight Gray, 128 GB)</td>\n",
       "      <td>₹16,149</td>\n",
       "      <td>6 GB RAM | 128 GB ROM16.64 cm (6.55 inch) Full...</td>\n",
       "      <td>4.2</td>\n",
       "    </tr>\n",
       "    <tr>\n",
       "      <th>191</th>\n",
       "      <td>SAMSUNG Galaxy F14 5G (OMG Black, 128 GB)</td>\n",
       "      <td>₹15,990</td>\n",
       "      <td>6 GB RAM | 128 GB ROM | Expandable Upto 1 TB16...</td>\n",
       "      <td>4.3</td>\n",
       "    </tr>\n",
       "  </tbody>\n",
       "</table>\n",
       "<p>192 rows × 4 columns</p>\n",
       "</div>"
      ],
      "text/plain": [
       "                                      Products   Prices  \\\n",
       "0                  IQOO 9T 5G (LEGEND, 128 GB)  ₹49,499   \n",
       "1     SAMSUNG Galaxy S7 (Gold Platinum, 32 GB)  ₹46,000   \n",
       "2          IQOO 9 Pro 5G (Dark Cruise, 256 GB)  ₹47,990   \n",
       "3                I Kall Z20 Pro (Black, 64 GB)   ₹7,799   \n",
       "4               IQOO 9 Pro 5G (Legend, 256 GB)  ₹47,467   \n",
       "..                                         ...      ...   \n",
       "187          REDMI 10 (Midnight Black, 128 GB)  ₹11,999   \n",
       "188                    REDMI A1 (Black, 32 GB)   ₹6,400   \n",
       "189             REDMI 10 (Shadow Black, 64 GB)   ₹9,999   \n",
       "190    MOTOROLA G62 5G (Midnight Gray, 128 GB)  ₹16,149   \n",
       "191  SAMSUNG Galaxy F14 5G (OMG Black, 128 GB)  ₹15,990   \n",
       "\n",
       "                                           Description Reviews  \n",
       "0    8 GB RAM | 128 GB ROM17.22 cm (6.78 inch) Disp...     4.1  \n",
       "1    4 GB RAM | 32 GB ROM | Expandable Upto 200 GB1...     4.4  \n",
       "2    8 GB RAM | 256 GB ROM17.22 cm (6.78 inch) Full...       0  \n",
       "3    4 GB RAM | 64 GB ROM16.51 cm (6.5 inch) HD+ Di...       3  \n",
       "4    8 GB RAM | 256 GB ROM17.22 cm (6.78 inch) Full...       0  \n",
       "..                                                 ...     ...  \n",
       "187  6 GB RAM | 128 GB ROM | Expandable Upto 1 TB17...     4.2  \n",
       "188  2 GB RAM | 32 GB ROM16.56 cm (6.52 inch) Displ...     4.3  \n",
       "189  4 GB RAM | 64 GB ROM | Expandable Upto 1 TB17....     4.2  \n",
       "190  6 GB RAM | 128 GB ROM16.64 cm (6.55 inch) Full...     4.2  \n",
       "191  6 GB RAM | 128 GB ROM | Expandable Upto 1 TB16...     4.3  \n",
       "\n",
       "[192 rows x 4 columns]"
      ]
     },
     "execution_count": 76,
     "metadata": {},
     "output_type": "execute_result"
    }
   ],
   "source": [
    "df"
   ]
  },
  {
   "cell_type": "code",
   "execution_count": 131,
   "id": "25c05ee8",
   "metadata": {},
   "outputs": [
    {
     "name": "stdout",
     "output_type": "stream",
     "text": [
      "Products                                            Nokia 105 SS\n",
      "Prices                                                    ₹1,299\n",
      "Description    32 MB RAM | 32 MB ROM4.5 cm (1.77 inch) QVGA D...\n",
      "Reviews                                                      4.2\n",
      "Name: 118, dtype: object\n",
      "Products                                            Nokia 105 SS\n",
      "Prices                                                    ₹1,299\n",
      "Description    32 MB RAM | 32 MB ROM4.5 cm (1.77 inch) QVGA D...\n",
      "Reviews                                                      4.2\n",
      "Name: 133, dtype: object\n"
     ]
    }
   ],
   "source": [
    "print(df.iloc[118])\n",
    "print(df.iloc[133])"
   ]
  },
  {
   "cell_type": "code",
   "execution_count": 132,
   "id": "3e23c7d2",
   "metadata": {},
   "outputs": [
    {
     "name": "stdout",
     "output_type": "stream",
     "text": [
      "                                      Products   Prices  \\\n",
      "0                  IQOO 9T 5G (LEGEND, 128 GB)  ₹49,499   \n",
      "1     SAMSUNG Galaxy S7 (Gold Platinum, 32 GB)  ₹46,000   \n",
      "2          IQOO 9 Pro 5G (Dark Cruise, 256 GB)  ₹47,990   \n",
      "3                I Kall Z20 Pro (Black, 64 GB)   ₹7,799   \n",
      "4               IQOO 9 Pro 5G (Legend, 256 GB)  ₹47,467   \n",
      "..                                         ...      ...   \n",
      "187          REDMI 10 (Midnight Black, 128 GB)  ₹11,999   \n",
      "188                    REDMI A1 (Black, 32 GB)   ₹6,400   \n",
      "189             REDMI 10 (Shadow Black, 64 GB)   ₹9,999   \n",
      "190    MOTOROLA G62 5G (Midnight Gray, 128 GB)  ₹16,149   \n",
      "191  SAMSUNG Galaxy F14 5G (OMG Black, 128 GB)  ₹15,990   \n",
      "\n",
      "                                           Description Reviews  \n",
      "0    8 GB RAM | 128 GB ROM17.22 cm (6.78 inch) Disp...     4.1  \n",
      "1    4 GB RAM | 32 GB ROM | Expandable Upto 200 GB1...     4.4  \n",
      "2    8 GB RAM | 256 GB ROM17.22 cm (6.78 inch) Full...       0  \n",
      "3    4 GB RAM | 64 GB ROM16.51 cm (6.5 inch) HD+ Di...       3  \n",
      "4    8 GB RAM | 256 GB ROM17.22 cm (6.78 inch) Full...       0  \n",
      "..                                                 ...     ...  \n",
      "187  6 GB RAM | 128 GB ROM | Expandable Upto 1 TB17...     4.2  \n",
      "188  2 GB RAM | 32 GB ROM16.56 cm (6.52 inch) Displ...     4.3  \n",
      "189  4 GB RAM | 64 GB ROM | Expandable Upto 1 TB17....     4.2  \n",
      "190  6 GB RAM | 128 GB ROM16.64 cm (6.55 inch) Full...     4.2  \n",
      "191  6 GB RAM | 128 GB ROM | Expandable Upto 1 TB16...     4.3  \n",
      "\n",
      "[190 rows x 4 columns]\n"
     ]
    }
   ],
   "source": [
    "df.drop([118,133], axis = 0, inplace = True)\n",
    "print(df)\n",
    "\n"
   ]
  },
  {
   "cell_type": "code",
   "execution_count": 88,
   "id": "28bf7b50",
   "metadata": {},
   "outputs": [
    {
     "name": "stdout",
     "output_type": "stream",
     "text": [
      "[['IQOO 9T 5G (LEGEND', ' 128 GB)'], ['SAMSUNG Galaxy S7 (Gold Platinum', ' 32 GB)'], ['IQOO 9 Pro 5G (Dark Cruise', ' 256 GB)'], ['I Kall Z20 Pro (Black', ' 64 GB)'], ['IQOO 9 Pro 5G (Legend', ' 256 GB)'], ['APPLE iPhone 8 Plus (Gold', ' 64 GB)'], ['OnePlus 9 5G (Winter Mist', ' 256 GB)'], ['IQOO 9T 5G (LEGEND', ' 128 GB)'], ['APPLE iPhone 8 Plus (Silver', ' 64 GB)'], ['Xiaomi 12 Pro 5G (Couture Blue', ' 256 GB)'], ['APPLE iPhone 11 (Black', ' 64 GB)'], ['APPLE iPhone 11 (White', ' 64 GB)'], ['vivo V27 Pro 5G (Noble Black', ' 256 GB)'], ['OnePlus 11R 5G (Galactic Silver', ' 256 GB)'], ['vivo V27 Pro 5G (Magic Blue', ' 256 GB)'], ['SAMSUNG Galaxy A54 5G (Awesome Graphite', ' 256 GB)'], ['SAMSUNG Galaxy A54 5G (Awesome Violet', ' 256 GB)'], ['MOTOROLA Edge 30 Fusion (Cosmic grey', ' 128 GB)'], ['SAMSUNG Galaxy A73 5G (Awesome Mint', ' 256 GB)'], ['MOTOROLA Edge 30 Fusion (Viva Magenta', ' 128 GB)'], ['SAMSUNG Galaxy A54 5G (Awesome Lime', ' 256 GB)'], ['MOTOROLA Edge 30 Fusion (Solar Gold', ' 128 GB)'], ['SAMSUNG Galaxy A73 5G (Awesome Gray', ' 128 GB)'], ['OnePlus 10R 5G (Sierra Black', ' 256 GB)'], ['Xiaomi 11T Pro 5G Hyperphone (Celestial Magic', ' 128 GB)'], ['SAMSUNG Galaxy A73 5G (Awesome Gray', ' 256 GB)'], ['SAMSUNG Galaxy A73 5G (Awesome Mint', ' 128 GB)'], ['I Kall Z20 Pro (Black', ' 64 GB)'], ['realme GT NEO 3 (150W) (Sprint White', ' 256 GB)'], ['APPLE iPhone 11 (Red', ' 64 GB)'], ['realme GT NEO 3 (150W) (Asphalt Black', ' 256 GB)'], ['APPLE iPhone SE (Red', ' 256 GB)'], ['OnePlus 10R 5G (Forest Green', ' 256 GB)'], ['realme GT Neo 3 (150W - Thor Limited Edition) (Nitro Blue', ' 256 GB)'], ['realme X50 Pro (Moss Green', ' 128 GB)'], ['realme X50 Pro (Rust Red', ' 128 GB)'], ['realme GT 5G (Racing Yellow', ' 256 GB)'], ['realme GT NEO 3 (150W) (Nitro Blue', ' 256 GB)'], ['OnePlus 9 5G (Arctic Sky', ' 256 GB)'], ['vivo V25 Pro 5G (Sailing Blue', ' 256 GB)'], ['Vivo V25 Pro 5G (Pure Black', ' 256 GB)'], ['OnePlus 9 5G (Astral Black', ' 128 GB)'], ['OnePlus 9 5G (Arctic Sky', ' 128 GB)'], ['IQOO 9 5G (Phoenix', ' 128 GB)'], ['ASUS ROG Phone II (Black', ' 128 GB)'], ['OnePlus 10R (Sierra Black', ' 128 GB)'], ['vivo V27 5G (Magic Blue', ' 256 GB)'], ['Nothing Phone (1) (Black', ' 256 GB)'], ['OnePlus 10R (Forest Green', ' 128 GB)'], ['vivo V27 Pro 5G (Magic Blue', ' 128 GB)'], ['vivo V27 Pro 5G (Noble Black', ' 256 GB)'], ['I Kall Z20 Pro (Black', ' 64 GB)'], ['SAMSUNG Galaxy S21 FE 5G (Graphite', ' 128 GB)'], ['SAMSUNG Galaxy S21 FE 5G (Olive', ' 128 GB)'], ['SAMSUNG Galaxy S21 FE 5G (White', ' 128 GB)'], ['vivo V27 Pro 5G (Noble Black', ' 128 GB)'], ['realme GT 2 (Steel Black', ' 256 GB)'], ['realme GT 2 (Paper White', ' 256 GB)'], ['OnePlus 10R (Forest Green', ' 256 GB)'], ['Xiaomi 11T Pro 5G Hyperphone (Moonlight White', ' 256 GB)'], ['Mi 10T (Cosmic Black', ' 128 GB)'], ['vivo V23 Pro 5G (Sunshine Gold', ' 128 GB)'], ['Mi 10T (Cosmic Black', ' 128 GB)'], ['realme GT Neo 3 (Asphalt Black', ' 256 GB)'], ['realme GT Neo 3 (Sprint White', ' 256 GB)'], ['vivo V25 Pro 5G (Pure Black', ' 128 GB)'], ['vivo V25 Pro 5G (Sailing Blue', ' 128 GB)'], ['vivo V23 Pro 5G (Stardust Black', ' 128 GB)'], ['realme GT Neo 3 (Asphalt Black', ' 128 GB)'], ['realme GT Neo 3 (Nitro Blue', ' 128 GB)'], ['Mi 10T (Lunar Silver', ' 128 GB)'], ['realme GT NEO 2 (NEO Black', ' 256 GB)'], ['realme GT Neo 3 (Sprint White', ' 128 GB)'], ['OnePlus 10R 5G (Sierra Black', ' 256 GB)'], ['realme GT NEO 2 (NEO Blue', ' 256 GB)'], ['I Kall Z20 Pro (Black', ' 64 GB)'], ['POCO F3 GT 5G (Predator Black', ' 256 GB)'], ['OPPO Reno3 Pro (Midnight Black', ' 256 GB)'], ['Xiaomi 11T Pro 5G Hyperphone (Celestial Magic', ' 256 GB)'], ['IQOO 9 5G (Legend', ' 128 GB)'], ['OnePlus 10R 5G (Prime Blue', ' 128 GB)'], ['APPLE iPhone 6 (Silver', ' 16 GB)'], ['Mi Mix 2 (Black', ' 128 GB)'], ['SAMSUNG Galaxy A54 5G (Awesome Graphite', ' 128 GB)'], ['IQOO 9 5G (Alpha', ' 128 GB)'], ['vivo X21 (Black', ' 128 GB)'], ['realme GT 5G (Dashing Silver', ' 128 GB)'], ['realme GT Neo 3 (Nitro Blue', ' 256 GB)'], ['Mi 10T (Lunar Silver', ' 128 GB)'], ['realme X2 Pro (Neptune Blue', ' 256 GB)'], ['Xiaomi 11T Pro 5G Hyperphone (Meteorite Black', ' 256 GB)'], ['APPLE iPhone SE 3rd Gen (Starlight', ' 256 GB)'], ['OnePlus 9 Pro 5G (Morning Mist', ' 256 GB)'], ['OnePlus 7T Pro (Haze Blue', ' 256 GB)'], ['LG G Pro 2 (Titan', ' 16 GB)'], ['Apple iPhone XR ((PRODUCT)RED', ' 64 GB) (Includes EarPods', ' Power Adapter)'], ['APPLE iPhone 8 (Gold', ' 64 GB)'], ['ASUS ZenFone 5Z (Midnight Blue', ' 128 GB)'], ['Lenovo Z6 Pro (Black', ' 128 GB)'], ['I Kall Z20 Pro (Black', ' 64 GB)'], ['realme GT 5G (Dashing Blue', ' 128 GB)'], ['SAMSUNG Galaxy A54 5G (Awesome Lime', ' 128 GB)'], ['APPLE iPhone 8 (Silver', ' 64 GB)'], ['POCO C31 (Royal Blue', ' 64 GB)'], ['POCO C31 (Shadow Gray', ' 64 GB)'], ['POCO C50 (Royal Blue', ' 32 GB)'], ['realme C33 (Sandy Gold', ' 64 GB)'], ['realme C33 (Night Sea', ' 64 GB)'], ['realme C33 (Sandy Gold', ' 32 GB)'], ['realme C33 (Aqua Blue', ' 32 GB)'], ['realme C33 (Aqua Blue', ' 64 GB)'], ['POCO C31 (Royal Blue', ' 32 GB)'], ['MOTOROLA e13 (Aurora Green', ' 64 GB)'], ['POCO M4 Pro (Cool Blue', ' 128 GB)'], ['POCO C50 (Country Green', ' 32 GB)'], ['POCO C55 (Cool Blue', ' 64 GB)'], ['realme C33 (Night Sea', ' 32 GB)'], ['POCO C55 (Power Black', ' 64 GB)'], ['Nokia 105 SS'], ['MOTOROLA e40 (Carbon Gray', ' 64 GB)'], ['Infinix SMART 7 (Azure Blue', ' 64 GB)'], ['Infinix SMART 7 (Emerald Green', ' 64 GB)'], ['realme C30 (Denim Black', ' 32 GB)'], ['I Kall Z20 Pro (Black', ' 64 GB)'], ['realme C30 (Bamboo Green', ' 32 GB)'], ['realme C30 (Lake Blue', ' 32 GB)'], ['MOTOROLA G32 (Mineral Gray', ' 128 GB)'], ['MOTOROLA G32 (Satin Silver', ' 128 GB)'], ['MOTOROLA g52 (Charcoal Grey', ' 64 GB)'], ['realme C30 (Denim Black', ' 32 GB)'], ['POCO C55 (Cool Blue', ' 128 GB)'], ['realme C55 (Sunshower', ' 128 GB)'], ['realme C55 (Rainy Night', ' 64 GB)'], ['Nokia 105 SS'], ['POCO C55 (Forest Green', ' 128 GB)'], ['realme C30 (Lake Blue', ' 32 GB)'], ['realme C55 (Rainy Night', ' 128 GB)'], ['realme C55 (Sunshower', ' 64 GB)'], ['realme C55 (Rainy Night', ' 64 GB)'], ['MOTOROLA G62 5G (Frosted Blue', ' 128 GB)'], ['APPLE iPhone 14 (Purple', ' 128 GB)'], ['POCO C55 (Forest Green', ' 64 GB)'], ['POCO C55 (Power Black', ' 128 GB)'], ['POCO C50 (Royal Blue', ' 32 GB)'], ['POCO C55 (Forest Green', ' 64 GB)'], ['POCO C50 (Royal Blue', ' 32 GB)'], ['MOTOROLA e13 (Cosmic Black', ' 64 GB)'], ['I Kall Z20 Pro (Black', ' 64 GB)'], ['realme C55 (Sunshower', ' 64 GB)'], ['MOTOROLA g31 (Meteorite Grey', ' 64 GB)'], ['MOTOROLA G62 5G (Midnight Gray', ' 128 GB)'], ['Realme C30 - Locked with Airtel Prepaid (Denim Black', ' 32 GB)'], ['POCO C55 (Power Black', ' 128 GB)'], ['MOTOROLA g72 (Meteorite Grey', ' 128 GB)'], ['SAMSUNG Galaxy F14 5G (B.A.E. Purple', ' 128 GB)'], ['MOTOROLA g52 (Metallic White', ' 128 GB)'], ['POCO M4 5G (Power Black', ' 64 GB)'], ['MOTOROLA e13 (Creamy White', ' 64 GB)'], ['REDMI 10 (Pacific Blue', ' 64 GB)'], ['realme 10 Pro 5G (Nebula Blue', ' 128 GB)'], ['realme 10 Pro 5G (Dark Matter', ' 128 GB)'], ['realme 10 Pro 5G (Nebula Blue', ' 128 GB)'], ['POCO M4 5G (Power Black', ' 128 GB)'], ['POCO C50 (Country Green', ' 32 GB)'], ['Infinix Hot 12 (Exploratory Blue', ' 64 GB)'], ['Infinix Hot 12 (Polar Black', ' 64 GB)'], ['Infinix Hot 12 (Turquoise Cyan', ' 64 GB)'], ['Infinix Hot 12 (7° Purple', ' 64 GB)'], ['POCO M4 5G (Cool Blue', ' 64 GB)'], ['REDMI 10 (Pacific Blue', ' 64 GB)'], ['SAMSUNG Galaxy F14 5G (GOAT Green', ' 128 GB)'], ['I Kall Z20 Pro (Black', ' 64 GB)'], ['SAMSUNG Galaxy M04 (Dark Blue', ' 64 GB)'], ['POCO M4 Pro (Cool Blue', ' 64 GB)'], ['realme 10 Pro 5G (Hyperspace', ' 128 GB)'], ['MOTOROLA G32 (Mineral Gray', ' 64 GB)'], ['realme 10 Pro 5G (Hyperspace', ' 128 GB)'], ['MOTOROLA g22 (Cosmic Black', ' 64 GB)'], ['POCO C31 (Shadow Gray', ' 32 GB)'], ['SAMSUNG Galaxy F14 5G (OMG Black', ' 128 GB)'], ['SAMSUNG Galaxy F13 (Nightsky Green', ' 64 GB)'], ['Infinix Smart 6 HD (Origin Blue', ' 32 GB)'], ['Infinix Smart 6 HD (Force Black', ' 32 GB)'], ['Infinix Smart 6 HD (Aqua Sky', ' 32 GB)'], ['REDMI A1 (Light Blue', ' 32 GB)'], ['MOTOROLA g52 (Charcoal Grey', ' 128 GB)'], ['SAMSUNG Galaxy F23 5G (Forest Green', ' 128 GB)'], ['REDMI 10 (Midnight Black', ' 128 GB)'], ['REDMI A1 (Black', ' 32 GB)'], ['REDMI 10 (Shadow Black', ' 64 GB)'], ['MOTOROLA G62 5G (Midnight Gray', ' 128 GB)'], ['SAMSUNG Galaxy F14 5G (OMG Black', ' 128 GB)']]\n"
     ]
    }
   ],
   "source": [
    "rom = []\n",
    "for i in Products2:\n",
    "    v = i.split(',')\n",
    "    rom.append(v)\n",
    "print(rom)"
   ]
  },
  {
   "cell_type": "code",
   "execution_count": 102,
   "id": "8aa87b0c",
   "metadata": {},
   "outputs": [
    {
     "data": {
      "text/plain": [
       "' 128 GB)'"
      ]
     },
     "execution_count": 102,
     "metadata": {},
     "output_type": "execute_result"
    }
   ],
   "source": [
    "rom[0][1]"
   ]
  },
  {
   "cell_type": "code",
   "execution_count": null,
   "id": "c57664f4",
   "metadata": {},
   "outputs": [],
   "source": []
  },
  {
   "cell_type": "code",
   "execution_count": 126,
   "id": "361f15d2",
   "metadata": {
    "scrolled": false
   },
   "outputs": [
    {
     "name": "stdout",
     "output_type": "stream",
     "text": [
      "118\n",
      "133\n",
      "[' 128 GB)', ' 32 GB)', ' 256 GB)', ' 64 GB)', ' 256 GB)', ' 64 GB)', ' 256 GB)', ' 128 GB)', ' 64 GB)', ' 256 GB)', ' 64 GB)', ' 64 GB)', ' 256 GB)', ' 256 GB)', ' 256 GB)', ' 256 GB)', ' 256 GB)', ' 128 GB)', ' 256 GB)', ' 128 GB)', ' 256 GB)', ' 128 GB)', ' 128 GB)', ' 256 GB)', ' 128 GB)', ' 256 GB)', ' 128 GB)', ' 64 GB)', ' 256 GB)', ' 64 GB)', ' 256 GB)', ' 256 GB)', ' 256 GB)', ' 256 GB)', ' 128 GB)', ' 128 GB)', ' 256 GB)', ' 256 GB)', ' 256 GB)', ' 256 GB)', ' 256 GB)', ' 128 GB)', ' 128 GB)', ' 128 GB)', ' 128 GB)', ' 128 GB)', ' 256 GB)', ' 256 GB)', ' 128 GB)', ' 128 GB)', ' 256 GB)', ' 64 GB)', ' 128 GB)', ' 128 GB)', ' 128 GB)', ' 128 GB)', ' 256 GB)', ' 256 GB)', ' 256 GB)', ' 256 GB)', ' 128 GB)', ' 128 GB)', ' 128 GB)', ' 256 GB)', ' 256 GB)', ' 128 GB)', ' 128 GB)', ' 128 GB)', ' 128 GB)', ' 128 GB)', ' 128 GB)', ' 256 GB)', ' 128 GB)', ' 256 GB)', ' 256 GB)', ' 64 GB)', ' 256 GB)', ' 256 GB)', ' 256 GB)', ' 128 GB)', ' 128 GB)', ' 16 GB)', ' 128 GB)', ' 128 GB)', ' 128 GB)', ' 128 GB)', ' 128 GB)', ' 256 GB)', ' 128 GB)', ' 256 GB)', ' 256 GB)', ' 256 GB)', ' 256 GB)', ' 256 GB)', ' 16 GB)', ' 64 GB) (Includes EarPods', ' 64 GB)', ' 128 GB)', ' 128 GB)', ' 64 GB)', ' 128 GB)', ' 128 GB)', ' 64 GB)', ' 64 GB)', ' 64 GB)', ' 32 GB)', ' 64 GB)', ' 64 GB)', ' 32 GB)', ' 32 GB)', ' 64 GB)', ' 32 GB)', ' 64 GB)', ' 128 GB)', ' 32 GB)', ' 64 GB)', ' 32 GB)', ' 64 GB)', ' 64 GB)', ' 64 GB)', ' 64 GB)', ' 32 GB)', ' 64 GB)', ' 32 GB)', ' 32 GB)', ' 128 GB)', ' 128 GB)', ' 64 GB)', ' 32 GB)', ' 128 GB)', ' 128 GB)', ' 64 GB)', ' 128 GB)', ' 32 GB)', ' 128 GB)', ' 64 GB)', ' 64 GB)', ' 128 GB)', ' 128 GB)', ' 64 GB)', ' 128 GB)', ' 32 GB)', ' 64 GB)', ' 32 GB)', ' 64 GB)', ' 64 GB)', ' 64 GB)', ' 64 GB)', ' 128 GB)', ' 32 GB)', ' 128 GB)', ' 128 GB)', ' 128 GB)', ' 128 GB)', ' 64 GB)', ' 64 GB)', ' 64 GB)', ' 128 GB)', ' 128 GB)', ' 128 GB)', ' 128 GB)', ' 32 GB)', ' 64 GB)', ' 64 GB)', ' 64 GB)', ' 64 GB)', ' 64 GB)', ' 64 GB)', ' 128 GB)', ' 64 GB)', ' 64 GB)', ' 64 GB)', ' 128 GB)', ' 64 GB)', ' 128 GB)', ' 64 GB)', ' 32 GB)', ' 128 GB)', ' 64 GB)', ' 32 GB)', ' 32 GB)', ' 32 GB)', ' 32 GB)', ' 128 GB)', ' 128 GB)', ' 128 GB)', ' 32 GB)', ' 64 GB)', ' 128 GB)', ' 128 GB)']\n"
     ]
    }
   ],
   "source": [
    "rom1 = []\n",
    "for i in range(len(rom)):\n",
    "    if(len(rom[i])>=2):\n",
    "        m = rom[i][1]\n",
    "        rom1.append(m)\n",
    "    else:\n",
    "        print(i)\n",
    "        \n",
    "print(rom1)"
   ]
  },
  {
   "cell_type": "code",
   "execution_count": 139,
   "id": "ed84695d",
   "metadata": {
    "scrolled": true
   },
   "outputs": [
    {
     "name": "stdout",
     "output_type": "stream",
     "text": [
      "['128', '32', '256', '64', '256', '64', '256', '128', '64', '256', '64', '64', '256', '256', '256', '256', '256', '128', '256', '128', '256', '128', '128', '256', '128', '256', '128', '64', '256', '64', '256', '256', '256', '256', '128', '128', '256', '256', '256', '256', '256', '128', '128', '128', '128', '128', '256', '256', '128', '128', '256', '64', '128', '128', '128', '128', '256', '256', '256', '256', '128', '128', '128', '256', '256', '128', '128', '128', '128', '128', '128', '256', '128', '256', '256', '64', '256', '256', '256', '128', '128', '16', '128', '128', '128', '128', '128', '256', '128', '256', '256', '256', '256', '256', '16', '64', '64', '128', '128', '64', '128', '128', '64', '64', '64', '32', '64', '64', '32', '32', '64', '32', '64', '128', '32', '64', '32', '64', '64', '64', '64', '32', '64', '32', '32', '128', '128', '64', '32', '128', '128', '64', '128', '32', '128', '64', '64', '128', '128', '64', '128', '32', '64', '32', '64', '64', '64', '64', '128', '32', '128', '128', '128', '128', '64', '64', '64', '128', '128', '128', '128', '32', '64', '64', '64', '64', '64', '64', '128', '64', '64', '64', '128', '64', '128', '64', '32', '128', '64', '32', '32', '32', '32', '128', '128', '128', '32', '64', '128', '128']\n"
     ]
    }
   ],
   "source": [
    "rom_c = []\n",
    "for i in rom1:\n",
    "    gb = i.split(\" \")[1]\n",
    "    rom_c.append(gb)\n",
    "print(rom_c)"
   ]
  },
  {
   "cell_type": "code",
   "execution_count": 141,
   "id": "5e7d3679",
   "metadata": {},
   "outputs": [
    {
     "data": {
      "text/plain": [
       "190"
      ]
     },
     "execution_count": 141,
     "metadata": {},
     "output_type": "execute_result"
    }
   ],
   "source": [
    "len(rom_c)"
   ]
  },
  {
   "cell_type": "code",
   "execution_count": 125,
   "id": "00b418ad",
   "metadata": {},
   "outputs": [
    {
     "data": {
      "text/plain": [
       "190"
      ]
     },
     "execution_count": 125,
     "metadata": {},
     "output_type": "execute_result"
    }
   ],
   "source": [
    "len(rom1)"
   ]
  },
  {
   "cell_type": "code",
   "execution_count": 127,
   "id": "71d2286b",
   "metadata": {},
   "outputs": [
    {
     "data": {
      "text/plain": [
       "['Nokia 105 SS']"
      ]
     },
     "execution_count": 127,
     "metadata": {},
     "output_type": "execute_result"
    }
   ],
   "source": [
    "rom[118]"
   ]
  },
  {
   "cell_type": "code",
   "execution_count": 128,
   "id": "aeb2bbc2",
   "metadata": {},
   "outputs": [
    {
     "data": {
      "text/plain": [
       "['Nokia 105 SS']"
      ]
     },
     "execution_count": 128,
     "metadata": {},
     "output_type": "execute_result"
    }
   ],
   "source": [
    "rom[133]"
   ]
  },
  {
   "cell_type": "code",
   "execution_count": 133,
   "id": "d87c3347",
   "metadata": {},
   "outputs": [
    {
     "data": {
      "text/html": [
       "<div>\n",
       "<style scoped>\n",
       "    .dataframe tbody tr th:only-of-type {\n",
       "        vertical-align: middle;\n",
       "    }\n",
       "\n",
       "    .dataframe tbody tr th {\n",
       "        vertical-align: top;\n",
       "    }\n",
       "\n",
       "    .dataframe thead th {\n",
       "        text-align: right;\n",
       "    }\n",
       "</style>\n",
       "<table border=\"1\" class=\"dataframe\">\n",
       "  <thead>\n",
       "    <tr style=\"text-align: right;\">\n",
       "      <th></th>\n",
       "      <th>Products</th>\n",
       "      <th>Prices</th>\n",
       "      <th>Description</th>\n",
       "      <th>Reviews</th>\n",
       "    </tr>\n",
       "  </thead>\n",
       "  <tbody>\n",
       "    <tr>\n",
       "      <th>0</th>\n",
       "      <td>IQOO 9T 5G (LEGEND, 128 GB)</td>\n",
       "      <td>₹49,499</td>\n",
       "      <td>8 GB RAM | 128 GB ROM17.22 cm (6.78 inch) Disp...</td>\n",
       "      <td>4.1</td>\n",
       "    </tr>\n",
       "    <tr>\n",
       "      <th>1</th>\n",
       "      <td>SAMSUNG Galaxy S7 (Gold Platinum, 32 GB)</td>\n",
       "      <td>₹46,000</td>\n",
       "      <td>4 GB RAM | 32 GB ROM | Expandable Upto 200 GB1...</td>\n",
       "      <td>4.4</td>\n",
       "    </tr>\n",
       "    <tr>\n",
       "      <th>2</th>\n",
       "      <td>IQOO 9 Pro 5G (Dark Cruise, 256 GB)</td>\n",
       "      <td>₹47,990</td>\n",
       "      <td>8 GB RAM | 256 GB ROM17.22 cm (6.78 inch) Full...</td>\n",
       "      <td>0</td>\n",
       "    </tr>\n",
       "    <tr>\n",
       "      <th>3</th>\n",
       "      <td>I Kall Z20 Pro (Black, 64 GB)</td>\n",
       "      <td>₹7,799</td>\n",
       "      <td>4 GB RAM | 64 GB ROM16.51 cm (6.5 inch) HD+ Di...</td>\n",
       "      <td>3</td>\n",
       "    </tr>\n",
       "    <tr>\n",
       "      <th>4</th>\n",
       "      <td>IQOO 9 Pro 5G (Legend, 256 GB)</td>\n",
       "      <td>₹47,467</td>\n",
       "      <td>8 GB RAM | 256 GB ROM17.22 cm (6.78 inch) Full...</td>\n",
       "      <td>0</td>\n",
       "    </tr>\n",
       "    <tr>\n",
       "      <th>...</th>\n",
       "      <td>...</td>\n",
       "      <td>...</td>\n",
       "      <td>...</td>\n",
       "      <td>...</td>\n",
       "    </tr>\n",
       "    <tr>\n",
       "      <th>187</th>\n",
       "      <td>REDMI 10 (Midnight Black, 128 GB)</td>\n",
       "      <td>₹11,999</td>\n",
       "      <td>6 GB RAM | 128 GB ROM | Expandable Upto 1 TB17...</td>\n",
       "      <td>4.2</td>\n",
       "    </tr>\n",
       "    <tr>\n",
       "      <th>188</th>\n",
       "      <td>REDMI A1 (Black, 32 GB)</td>\n",
       "      <td>₹6,400</td>\n",
       "      <td>2 GB RAM | 32 GB ROM16.56 cm (6.52 inch) Displ...</td>\n",
       "      <td>4.3</td>\n",
       "    </tr>\n",
       "    <tr>\n",
       "      <th>189</th>\n",
       "      <td>REDMI 10 (Shadow Black, 64 GB)</td>\n",
       "      <td>₹9,999</td>\n",
       "      <td>4 GB RAM | 64 GB ROM | Expandable Upto 1 TB17....</td>\n",
       "      <td>4.2</td>\n",
       "    </tr>\n",
       "    <tr>\n",
       "      <th>190</th>\n",
       "      <td>MOTOROLA G62 5G (Midnight Gray, 128 GB)</td>\n",
       "      <td>₹16,149</td>\n",
       "      <td>6 GB RAM | 128 GB ROM16.64 cm (6.55 inch) Full...</td>\n",
       "      <td>4.2</td>\n",
       "    </tr>\n",
       "    <tr>\n",
       "      <th>191</th>\n",
       "      <td>SAMSUNG Galaxy F14 5G (OMG Black, 128 GB)</td>\n",
       "      <td>₹15,990</td>\n",
       "      <td>6 GB RAM | 128 GB ROM | Expandable Upto 1 TB16...</td>\n",
       "      <td>4.3</td>\n",
       "    </tr>\n",
       "  </tbody>\n",
       "</table>\n",
       "<p>190 rows × 4 columns</p>\n",
       "</div>"
      ],
      "text/plain": [
       "                                      Products   Prices  \\\n",
       "0                  IQOO 9T 5G (LEGEND, 128 GB)  ₹49,499   \n",
       "1     SAMSUNG Galaxy S7 (Gold Platinum, 32 GB)  ₹46,000   \n",
       "2          IQOO 9 Pro 5G (Dark Cruise, 256 GB)  ₹47,990   \n",
       "3                I Kall Z20 Pro (Black, 64 GB)   ₹7,799   \n",
       "4               IQOO 9 Pro 5G (Legend, 256 GB)  ₹47,467   \n",
       "..                                         ...      ...   \n",
       "187          REDMI 10 (Midnight Black, 128 GB)  ₹11,999   \n",
       "188                    REDMI A1 (Black, 32 GB)   ₹6,400   \n",
       "189             REDMI 10 (Shadow Black, 64 GB)   ₹9,999   \n",
       "190    MOTOROLA G62 5G (Midnight Gray, 128 GB)  ₹16,149   \n",
       "191  SAMSUNG Galaxy F14 5G (OMG Black, 128 GB)  ₹15,990   \n",
       "\n",
       "                                           Description Reviews  \n",
       "0    8 GB RAM | 128 GB ROM17.22 cm (6.78 inch) Disp...     4.1  \n",
       "1    4 GB RAM | 32 GB ROM | Expandable Upto 200 GB1...     4.4  \n",
       "2    8 GB RAM | 256 GB ROM17.22 cm (6.78 inch) Full...       0  \n",
       "3    4 GB RAM | 64 GB ROM16.51 cm (6.5 inch) HD+ Di...       3  \n",
       "4    8 GB RAM | 256 GB ROM17.22 cm (6.78 inch) Full...       0  \n",
       "..                                                 ...     ...  \n",
       "187  6 GB RAM | 128 GB ROM | Expandable Upto 1 TB17...     4.2  \n",
       "188  2 GB RAM | 32 GB ROM16.56 cm (6.52 inch) Displ...     4.3  \n",
       "189  4 GB RAM | 64 GB ROM | Expandable Upto 1 TB17....     4.2  \n",
       "190  6 GB RAM | 128 GB ROM16.64 cm (6.55 inch) Full...     4.2  \n",
       "191  6 GB RAM | 128 GB ROM | Expandable Upto 1 TB16...     4.3  \n",
       "\n",
       "[190 rows x 4 columns]"
      ]
     },
     "execution_count": 133,
     "metadata": {},
     "output_type": "execute_result"
    }
   ],
   "source": [
    "df"
   ]
  },
  {
   "cell_type": "code",
   "execution_count": 146,
   "id": "9cee54eb",
   "metadata": {},
   "outputs": [],
   "source": [
    "df1 = pd.DataFrame({\"ROM\":rom_c})"
   ]
  },
  {
   "cell_type": "code",
   "execution_count": 147,
   "id": "eb1a83e9",
   "metadata": {},
   "outputs": [
    {
     "data": {
      "text/html": [
       "<div>\n",
       "<style scoped>\n",
       "    .dataframe tbody tr th:only-of-type {\n",
       "        vertical-align: middle;\n",
       "    }\n",
       "\n",
       "    .dataframe tbody tr th {\n",
       "        vertical-align: top;\n",
       "    }\n",
       "\n",
       "    .dataframe thead th {\n",
       "        text-align: right;\n",
       "    }\n",
       "</style>\n",
       "<table border=\"1\" class=\"dataframe\">\n",
       "  <thead>\n",
       "    <tr style=\"text-align: right;\">\n",
       "      <th></th>\n",
       "      <th>ROM</th>\n",
       "    </tr>\n",
       "  </thead>\n",
       "  <tbody>\n",
       "    <tr>\n",
       "      <th>0</th>\n",
       "      <td>128</td>\n",
       "    </tr>\n",
       "    <tr>\n",
       "      <th>1</th>\n",
       "      <td>32</td>\n",
       "    </tr>\n",
       "    <tr>\n",
       "      <th>2</th>\n",
       "      <td>256</td>\n",
       "    </tr>\n",
       "    <tr>\n",
       "      <th>3</th>\n",
       "      <td>64</td>\n",
       "    </tr>\n",
       "    <tr>\n",
       "      <th>4</th>\n",
       "      <td>256</td>\n",
       "    </tr>\n",
       "    <tr>\n",
       "      <th>...</th>\n",
       "      <td>...</td>\n",
       "    </tr>\n",
       "    <tr>\n",
       "      <th>185</th>\n",
       "      <td>128</td>\n",
       "    </tr>\n",
       "    <tr>\n",
       "      <th>186</th>\n",
       "      <td>32</td>\n",
       "    </tr>\n",
       "    <tr>\n",
       "      <th>187</th>\n",
       "      <td>64</td>\n",
       "    </tr>\n",
       "    <tr>\n",
       "      <th>188</th>\n",
       "      <td>128</td>\n",
       "    </tr>\n",
       "    <tr>\n",
       "      <th>189</th>\n",
       "      <td>128</td>\n",
       "    </tr>\n",
       "  </tbody>\n",
       "</table>\n",
       "<p>190 rows × 1 columns</p>\n",
       "</div>"
      ],
      "text/plain": [
       "     ROM\n",
       "0    128\n",
       "1     32\n",
       "2    256\n",
       "3     64\n",
       "4    256\n",
       "..   ...\n",
       "185  128\n",
       "186   32\n",
       "187   64\n",
       "188  128\n",
       "189  128\n",
       "\n",
       "[190 rows x 1 columns]"
      ]
     },
     "execution_count": 147,
     "metadata": {},
     "output_type": "execute_result"
    }
   ],
   "source": [
    "df1"
   ]
  },
  {
   "cell_type": "code",
   "execution_count": 148,
   "id": "053be3fb",
   "metadata": {},
   "outputs": [
    {
     "data": {
      "text/html": [
       "<div>\n",
       "<style scoped>\n",
       "    .dataframe tbody tr th:only-of-type {\n",
       "        vertical-align: middle;\n",
       "    }\n",
       "\n",
       "    .dataframe tbody tr th {\n",
       "        vertical-align: top;\n",
       "    }\n",
       "\n",
       "    .dataframe thead th {\n",
       "        text-align: right;\n",
       "    }\n",
       "</style>\n",
       "<table border=\"1\" class=\"dataframe\">\n",
       "  <thead>\n",
       "    <tr style=\"text-align: right;\">\n",
       "      <th></th>\n",
       "      <th>Products</th>\n",
       "      <th>Prices</th>\n",
       "      <th>Description</th>\n",
       "      <th>Reviews</th>\n",
       "      <th>ROM</th>\n",
       "    </tr>\n",
       "  </thead>\n",
       "  <tbody>\n",
       "    <tr>\n",
       "      <th>0</th>\n",
       "      <td>IQOO 9T 5G (LEGEND, 128 GB)</td>\n",
       "      <td>₹49,499</td>\n",
       "      <td>8 GB RAM | 128 GB ROM17.22 cm (6.78 inch) Disp...</td>\n",
       "      <td>4.1</td>\n",
       "      <td>128</td>\n",
       "    </tr>\n",
       "    <tr>\n",
       "      <th>1</th>\n",
       "      <td>SAMSUNG Galaxy S7 (Gold Platinum, 32 GB)</td>\n",
       "      <td>₹46,000</td>\n",
       "      <td>4 GB RAM | 32 GB ROM | Expandable Upto 200 GB1...</td>\n",
       "      <td>4.4</td>\n",
       "      <td>32</td>\n",
       "    </tr>\n",
       "    <tr>\n",
       "      <th>2</th>\n",
       "      <td>IQOO 9 Pro 5G (Dark Cruise, 256 GB)</td>\n",
       "      <td>₹47,990</td>\n",
       "      <td>8 GB RAM | 256 GB ROM17.22 cm (6.78 inch) Full...</td>\n",
       "      <td>0</td>\n",
       "      <td>256</td>\n",
       "    </tr>\n",
       "    <tr>\n",
       "      <th>3</th>\n",
       "      <td>I Kall Z20 Pro (Black, 64 GB)</td>\n",
       "      <td>₹7,799</td>\n",
       "      <td>4 GB RAM | 64 GB ROM16.51 cm (6.5 inch) HD+ Di...</td>\n",
       "      <td>3</td>\n",
       "      <td>64</td>\n",
       "    </tr>\n",
       "    <tr>\n",
       "      <th>4</th>\n",
       "      <td>IQOO 9 Pro 5G (Legend, 256 GB)</td>\n",
       "      <td>₹47,467</td>\n",
       "      <td>8 GB RAM | 256 GB ROM17.22 cm (6.78 inch) Full...</td>\n",
       "      <td>0</td>\n",
       "      <td>256</td>\n",
       "    </tr>\n",
       "    <tr>\n",
       "      <th>...</th>\n",
       "      <td>...</td>\n",
       "      <td>...</td>\n",
       "      <td>...</td>\n",
       "      <td>...</td>\n",
       "      <td>...</td>\n",
       "    </tr>\n",
       "    <tr>\n",
       "      <th>189</th>\n",
       "      <td>REDMI 10 (Shadow Black, 64 GB)</td>\n",
       "      <td>₹9,999</td>\n",
       "      <td>4 GB RAM | 64 GB ROM | Expandable Upto 1 TB17....</td>\n",
       "      <td>4.2</td>\n",
       "      <td>128</td>\n",
       "    </tr>\n",
       "    <tr>\n",
       "      <th>190</th>\n",
       "      <td>MOTOROLA G62 5G (Midnight Gray, 128 GB)</td>\n",
       "      <td>₹16,149</td>\n",
       "      <td>6 GB RAM | 128 GB ROM16.64 cm (6.55 inch) Full...</td>\n",
       "      <td>4.2</td>\n",
       "      <td>NaN</td>\n",
       "    </tr>\n",
       "    <tr>\n",
       "      <th>191</th>\n",
       "      <td>SAMSUNG Galaxy F14 5G (OMG Black, 128 GB)</td>\n",
       "      <td>₹15,990</td>\n",
       "      <td>6 GB RAM | 128 GB ROM | Expandable Upto 1 TB16...</td>\n",
       "      <td>4.3</td>\n",
       "      <td>NaN</td>\n",
       "    </tr>\n",
       "    <tr>\n",
       "      <th>118</th>\n",
       "      <td>NaN</td>\n",
       "      <td>NaN</td>\n",
       "      <td>NaN</td>\n",
       "      <td>NaN</td>\n",
       "      <td>64</td>\n",
       "    </tr>\n",
       "    <tr>\n",
       "      <th>133</th>\n",
       "      <td>NaN</td>\n",
       "      <td>NaN</td>\n",
       "      <td>NaN</td>\n",
       "      <td>NaN</td>\n",
       "      <td>32</td>\n",
       "    </tr>\n",
       "  </tbody>\n",
       "</table>\n",
       "<p>192 rows × 5 columns</p>\n",
       "</div>"
      ],
      "text/plain": [
       "                                      Products   Prices  \\\n",
       "0                  IQOO 9T 5G (LEGEND, 128 GB)  ₹49,499   \n",
       "1     SAMSUNG Galaxy S7 (Gold Platinum, 32 GB)  ₹46,000   \n",
       "2          IQOO 9 Pro 5G (Dark Cruise, 256 GB)  ₹47,990   \n",
       "3                I Kall Z20 Pro (Black, 64 GB)   ₹7,799   \n",
       "4               IQOO 9 Pro 5G (Legend, 256 GB)  ₹47,467   \n",
       "..                                         ...      ...   \n",
       "189             REDMI 10 (Shadow Black, 64 GB)   ₹9,999   \n",
       "190    MOTOROLA G62 5G (Midnight Gray, 128 GB)  ₹16,149   \n",
       "191  SAMSUNG Galaxy F14 5G (OMG Black, 128 GB)  ₹15,990   \n",
       "118                                        NaN      NaN   \n",
       "133                                        NaN      NaN   \n",
       "\n",
       "                                           Description Reviews  ROM  \n",
       "0    8 GB RAM | 128 GB ROM17.22 cm (6.78 inch) Disp...     4.1  128  \n",
       "1    4 GB RAM | 32 GB ROM | Expandable Upto 200 GB1...     4.4   32  \n",
       "2    8 GB RAM | 256 GB ROM17.22 cm (6.78 inch) Full...       0  256  \n",
       "3    4 GB RAM | 64 GB ROM16.51 cm (6.5 inch) HD+ Di...       3   64  \n",
       "4    8 GB RAM | 256 GB ROM17.22 cm (6.78 inch) Full...       0  256  \n",
       "..                                                 ...     ...  ...  \n",
       "189  4 GB RAM | 64 GB ROM | Expandable Upto 1 TB17....     4.2  128  \n",
       "190  6 GB RAM | 128 GB ROM16.64 cm (6.55 inch) Full...     4.2  NaN  \n",
       "191  6 GB RAM | 128 GB ROM | Expandable Upto 1 TB16...     4.3  NaN  \n",
       "118                                                NaN     NaN   64  \n",
       "133                                                NaN     NaN   32  \n",
       "\n",
       "[192 rows x 5 columns]"
      ]
     },
     "execution_count": 148,
     "metadata": {},
     "output_type": "execute_result"
    }
   ],
   "source": [
    "data = pd.concat([df, df1], axis = 1)\n",
    "data"
   ]
  },
  {
   "cell_type": "code",
   "execution_count": 158,
   "id": "44418da7",
   "metadata": {},
   "outputs": [],
   "source": [
    "data.drop([191,190], axis = 0, inplace = True)"
   ]
  },
  {
   "cell_type": "code",
   "execution_count": 159,
   "id": "cd5a603a",
   "metadata": {},
   "outputs": [
    {
     "data": {
      "text/html": [
       "<div>\n",
       "<style scoped>\n",
       "    .dataframe tbody tr th:only-of-type {\n",
       "        vertical-align: middle;\n",
       "    }\n",
       "\n",
       "    .dataframe tbody tr th {\n",
       "        vertical-align: top;\n",
       "    }\n",
       "\n",
       "    .dataframe thead th {\n",
       "        text-align: right;\n",
       "    }\n",
       "</style>\n",
       "<table border=\"1\" class=\"dataframe\">\n",
       "  <thead>\n",
       "    <tr style=\"text-align: right;\">\n",
       "      <th></th>\n",
       "      <th>Products</th>\n",
       "      <th>Prices</th>\n",
       "      <th>Description</th>\n",
       "      <th>Reviews</th>\n",
       "      <th>ROM</th>\n",
       "    </tr>\n",
       "  </thead>\n",
       "  <tbody>\n",
       "    <tr>\n",
       "      <th>0</th>\n",
       "      <td>IQOO 9T 5G (LEGEND, 128 GB)</td>\n",
       "      <td>₹49,499</td>\n",
       "      <td>8 GB RAM | 128 GB ROM17.22 cm (6.78 inch) Disp...</td>\n",
       "      <td>4.1</td>\n",
       "      <td>128</td>\n",
       "    </tr>\n",
       "    <tr>\n",
       "      <th>1</th>\n",
       "      <td>SAMSUNG Galaxy S7 (Gold Platinum, 32 GB)</td>\n",
       "      <td>₹46,000</td>\n",
       "      <td>4 GB RAM | 32 GB ROM | Expandable Upto 200 GB1...</td>\n",
       "      <td>4.4</td>\n",
       "      <td>32</td>\n",
       "    </tr>\n",
       "    <tr>\n",
       "      <th>2</th>\n",
       "      <td>IQOO 9 Pro 5G (Dark Cruise, 256 GB)</td>\n",
       "      <td>₹47,990</td>\n",
       "      <td>8 GB RAM | 256 GB ROM17.22 cm (6.78 inch) Full...</td>\n",
       "      <td>0</td>\n",
       "      <td>256</td>\n",
       "    </tr>\n",
       "    <tr>\n",
       "      <th>3</th>\n",
       "      <td>I Kall Z20 Pro (Black, 64 GB)</td>\n",
       "      <td>₹7,799</td>\n",
       "      <td>4 GB RAM | 64 GB ROM16.51 cm (6.5 inch) HD+ Di...</td>\n",
       "      <td>3</td>\n",
       "      <td>64</td>\n",
       "    </tr>\n",
       "    <tr>\n",
       "      <th>4</th>\n",
       "      <td>IQOO 9 Pro 5G (Legend, 256 GB)</td>\n",
       "      <td>₹47,467</td>\n",
       "      <td>8 GB RAM | 256 GB ROM17.22 cm (6.78 inch) Full...</td>\n",
       "      <td>0</td>\n",
       "      <td>256</td>\n",
       "    </tr>\n",
       "    <tr>\n",
       "      <th>...</th>\n",
       "      <td>...</td>\n",
       "      <td>...</td>\n",
       "      <td>...</td>\n",
       "      <td>...</td>\n",
       "      <td>...</td>\n",
       "    </tr>\n",
       "    <tr>\n",
       "      <th>187</th>\n",
       "      <td>REDMI 10 (Midnight Black, 128 GB)</td>\n",
       "      <td>₹11,999</td>\n",
       "      <td>6 GB RAM | 128 GB ROM | Expandable Upto 1 TB17...</td>\n",
       "      <td>4.2</td>\n",
       "      <td>64</td>\n",
       "    </tr>\n",
       "    <tr>\n",
       "      <th>188</th>\n",
       "      <td>REDMI A1 (Black, 32 GB)</td>\n",
       "      <td>₹6,400</td>\n",
       "      <td>2 GB RAM | 32 GB ROM16.56 cm (6.52 inch) Displ...</td>\n",
       "      <td>4.3</td>\n",
       "      <td>128</td>\n",
       "    </tr>\n",
       "    <tr>\n",
       "      <th>189</th>\n",
       "      <td>REDMI 10 (Shadow Black, 64 GB)</td>\n",
       "      <td>₹9,999</td>\n",
       "      <td>4 GB RAM | 64 GB ROM | Expandable Upto 1 TB17....</td>\n",
       "      <td>4.2</td>\n",
       "      <td>128</td>\n",
       "    </tr>\n",
       "    <tr>\n",
       "      <th>118</th>\n",
       "      <td>NaN</td>\n",
       "      <td>NaN</td>\n",
       "      <td>NaN</td>\n",
       "      <td>NaN</td>\n",
       "      <td>64</td>\n",
       "    </tr>\n",
       "    <tr>\n",
       "      <th>133</th>\n",
       "      <td>NaN</td>\n",
       "      <td>NaN</td>\n",
       "      <td>NaN</td>\n",
       "      <td>NaN</td>\n",
       "      <td>32</td>\n",
       "    </tr>\n",
       "  </tbody>\n",
       "</table>\n",
       "<p>190 rows × 5 columns</p>\n",
       "</div>"
      ],
      "text/plain": [
       "                                     Products   Prices  \\\n",
       "0                 IQOO 9T 5G (LEGEND, 128 GB)  ₹49,499   \n",
       "1    SAMSUNG Galaxy S7 (Gold Platinum, 32 GB)  ₹46,000   \n",
       "2         IQOO 9 Pro 5G (Dark Cruise, 256 GB)  ₹47,990   \n",
       "3               I Kall Z20 Pro (Black, 64 GB)   ₹7,799   \n",
       "4              IQOO 9 Pro 5G (Legend, 256 GB)  ₹47,467   \n",
       "..                                        ...      ...   \n",
       "187         REDMI 10 (Midnight Black, 128 GB)  ₹11,999   \n",
       "188                   REDMI A1 (Black, 32 GB)   ₹6,400   \n",
       "189            REDMI 10 (Shadow Black, 64 GB)   ₹9,999   \n",
       "118                                       NaN      NaN   \n",
       "133                                       NaN      NaN   \n",
       "\n",
       "                                           Description Reviews  ROM  \n",
       "0    8 GB RAM | 128 GB ROM17.22 cm (6.78 inch) Disp...     4.1  128  \n",
       "1    4 GB RAM | 32 GB ROM | Expandable Upto 200 GB1...     4.4   32  \n",
       "2    8 GB RAM | 256 GB ROM17.22 cm (6.78 inch) Full...       0  256  \n",
       "3    4 GB RAM | 64 GB ROM16.51 cm (6.5 inch) HD+ Di...       3   64  \n",
       "4    8 GB RAM | 256 GB ROM17.22 cm (6.78 inch) Full...       0  256  \n",
       "..                                                 ...     ...  ...  \n",
       "187  6 GB RAM | 128 GB ROM | Expandable Upto 1 TB17...     4.2   64  \n",
       "188  2 GB RAM | 32 GB ROM16.56 cm (6.52 inch) Displ...     4.3  128  \n",
       "189  4 GB RAM | 64 GB ROM | Expandable Upto 1 TB17....     4.2  128  \n",
       "118                                                NaN     NaN   64  \n",
       "133                                                NaN     NaN   32  \n",
       "\n",
       "[190 rows x 5 columns]"
      ]
     },
     "execution_count": 159,
     "metadata": {},
     "output_type": "execute_result"
    }
   ],
   "source": [
    "data"
   ]
  },
  {
   "cell_type": "code",
   "execution_count": 161,
   "id": "e68ef107",
   "metadata": {},
   "outputs": [
    {
     "data": {
      "text/plain": [
       "Products       NaN\n",
       "Prices         NaN\n",
       "Description    NaN\n",
       "Reviews        NaN\n",
       "ROM             32\n",
       "Name: 133, dtype: object"
      ]
     },
     "execution_count": 161,
     "metadata": {},
     "output_type": "execute_result"
    }
   ],
   "source": [
    "data.iloc[189]"
   ]
  },
  {
   "cell_type": "code",
   "execution_count": 162,
   "id": "cd6ab23d",
   "metadata": {},
   "outputs": [
    {
     "data": {
      "text/html": [
       "<div>\n",
       "<style scoped>\n",
       "    .dataframe tbody tr th:only-of-type {\n",
       "        vertical-align: middle;\n",
       "    }\n",
       "\n",
       "    .dataframe tbody tr th {\n",
       "        vertical-align: top;\n",
       "    }\n",
       "\n",
       "    .dataframe thead th {\n",
       "        text-align: right;\n",
       "    }\n",
       "</style>\n",
       "<table border=\"1\" class=\"dataframe\">\n",
       "  <thead>\n",
       "    <tr style=\"text-align: right;\">\n",
       "      <th></th>\n",
       "      <th>Products</th>\n",
       "      <th>Prices</th>\n",
       "      <th>Description</th>\n",
       "      <th>Reviews</th>\n",
       "      <th>ROM</th>\n",
       "    </tr>\n",
       "  </thead>\n",
       "  <tbody>\n",
       "    <tr>\n",
       "      <th>0</th>\n",
       "      <td>IQOO 9T 5G (LEGEND, 128 GB)</td>\n",
       "      <td>₹49,499</td>\n",
       "      <td>8 GB RAM | 128 GB ROM17.22 cm (6.78 inch) Disp...</td>\n",
       "      <td>4.1</td>\n",
       "      <td>128</td>\n",
       "    </tr>\n",
       "    <tr>\n",
       "      <th>1</th>\n",
       "      <td>SAMSUNG Galaxy S7 (Gold Platinum, 32 GB)</td>\n",
       "      <td>₹46,000</td>\n",
       "      <td>4 GB RAM | 32 GB ROM | Expandable Upto 200 GB1...</td>\n",
       "      <td>4.4</td>\n",
       "      <td>32</td>\n",
       "    </tr>\n",
       "    <tr>\n",
       "      <th>2</th>\n",
       "      <td>IQOO 9 Pro 5G (Dark Cruise, 256 GB)</td>\n",
       "      <td>₹47,990</td>\n",
       "      <td>8 GB RAM | 256 GB ROM17.22 cm (6.78 inch) Full...</td>\n",
       "      <td>0</td>\n",
       "      <td>256</td>\n",
       "    </tr>\n",
       "    <tr>\n",
       "      <th>3</th>\n",
       "      <td>I Kall Z20 Pro (Black, 64 GB)</td>\n",
       "      <td>₹7,799</td>\n",
       "      <td>4 GB RAM | 64 GB ROM16.51 cm (6.5 inch) HD+ Di...</td>\n",
       "      <td>3</td>\n",
       "      <td>64</td>\n",
       "    </tr>\n",
       "    <tr>\n",
       "      <th>4</th>\n",
       "      <td>IQOO 9 Pro 5G (Legend, 256 GB)</td>\n",
       "      <td>₹47,467</td>\n",
       "      <td>8 GB RAM | 256 GB ROM17.22 cm (6.78 inch) Full...</td>\n",
       "      <td>0</td>\n",
       "      <td>256</td>\n",
       "    </tr>\n",
       "    <tr>\n",
       "      <th>...</th>\n",
       "      <td>...</td>\n",
       "      <td>...</td>\n",
       "      <td>...</td>\n",
       "      <td>...</td>\n",
       "      <td>...</td>\n",
       "    </tr>\n",
       "    <tr>\n",
       "      <th>185</th>\n",
       "      <td>REDMI 10 (Midnight Black, 128 GB)</td>\n",
       "      <td>₹11,999</td>\n",
       "      <td>6 GB RAM | 128 GB ROM | Expandable Upto 1 TB17...</td>\n",
       "      <td>4.2</td>\n",
       "      <td>64</td>\n",
       "    </tr>\n",
       "    <tr>\n",
       "      <th>186</th>\n",
       "      <td>REDMI A1 (Black, 32 GB)</td>\n",
       "      <td>₹6,400</td>\n",
       "      <td>2 GB RAM | 32 GB ROM16.56 cm (6.52 inch) Displ...</td>\n",
       "      <td>4.3</td>\n",
       "      <td>128</td>\n",
       "    </tr>\n",
       "    <tr>\n",
       "      <th>187</th>\n",
       "      <td>REDMI 10 (Shadow Black, 64 GB)</td>\n",
       "      <td>₹9,999</td>\n",
       "      <td>4 GB RAM | 64 GB ROM | Expandable Upto 1 TB17....</td>\n",
       "      <td>4.2</td>\n",
       "      <td>128</td>\n",
       "    </tr>\n",
       "    <tr>\n",
       "      <th>188</th>\n",
       "      <td>NaN</td>\n",
       "      <td>NaN</td>\n",
       "      <td>NaN</td>\n",
       "      <td>NaN</td>\n",
       "      <td>64</td>\n",
       "    </tr>\n",
       "    <tr>\n",
       "      <th>189</th>\n",
       "      <td>NaN</td>\n",
       "      <td>NaN</td>\n",
       "      <td>NaN</td>\n",
       "      <td>NaN</td>\n",
       "      <td>32</td>\n",
       "    </tr>\n",
       "  </tbody>\n",
       "</table>\n",
       "<p>190 rows × 5 columns</p>\n",
       "</div>"
      ],
      "text/plain": [
       "                                     Products   Prices  \\\n",
       "0                 IQOO 9T 5G (LEGEND, 128 GB)  ₹49,499   \n",
       "1    SAMSUNG Galaxy S7 (Gold Platinum, 32 GB)  ₹46,000   \n",
       "2         IQOO 9 Pro 5G (Dark Cruise, 256 GB)  ₹47,990   \n",
       "3               I Kall Z20 Pro (Black, 64 GB)   ₹7,799   \n",
       "4              IQOO 9 Pro 5G (Legend, 256 GB)  ₹47,467   \n",
       "..                                        ...      ...   \n",
       "185         REDMI 10 (Midnight Black, 128 GB)  ₹11,999   \n",
       "186                   REDMI A1 (Black, 32 GB)   ₹6,400   \n",
       "187            REDMI 10 (Shadow Black, 64 GB)   ₹9,999   \n",
       "188                                       NaN      NaN   \n",
       "189                                       NaN      NaN   \n",
       "\n",
       "                                           Description Reviews  ROM  \n",
       "0    8 GB RAM | 128 GB ROM17.22 cm (6.78 inch) Disp...     4.1  128  \n",
       "1    4 GB RAM | 32 GB ROM | Expandable Upto 200 GB1...     4.4   32  \n",
       "2    8 GB RAM | 256 GB ROM17.22 cm (6.78 inch) Full...       0  256  \n",
       "3    4 GB RAM | 64 GB ROM16.51 cm (6.5 inch) HD+ Di...       3   64  \n",
       "4    8 GB RAM | 256 GB ROM17.22 cm (6.78 inch) Full...       0  256  \n",
       "..                                                 ...     ...  ...  \n",
       "185  6 GB RAM | 128 GB ROM | Expandable Upto 1 TB17...     4.2   64  \n",
       "186  2 GB RAM | 32 GB ROM16.56 cm (6.52 inch) Displ...     4.3  128  \n",
       "187  4 GB RAM | 64 GB ROM | Expandable Upto 1 TB17....     4.2  128  \n",
       "188                                                NaN     NaN   64  \n",
       "189                                                NaN     NaN   32  \n",
       "\n",
       "[190 rows x 5 columns]"
      ]
     },
     "execution_count": 162,
     "metadata": {},
     "output_type": "execute_result"
    }
   ],
   "source": [
    "data = data.reset_index(drop = True)\n",
    "data"
   ]
  },
  {
   "cell_type": "code",
   "execution_count": 163,
   "id": "838a1350",
   "metadata": {},
   "outputs": [],
   "source": [
    "data = data.dropna()"
   ]
  },
  {
   "cell_type": "code",
   "execution_count": 164,
   "id": "2309c4b0",
   "metadata": {},
   "outputs": [],
   "source": [
    "data = data.reset_index(drop = True)"
   ]
  },
  {
   "cell_type": "code",
   "execution_count": 165,
   "id": "4f40e260",
   "metadata": {},
   "outputs": [
    {
     "data": {
      "text/html": [
       "<div>\n",
       "<style scoped>\n",
       "    .dataframe tbody tr th:only-of-type {\n",
       "        vertical-align: middle;\n",
       "    }\n",
       "\n",
       "    .dataframe tbody tr th {\n",
       "        vertical-align: top;\n",
       "    }\n",
       "\n",
       "    .dataframe thead th {\n",
       "        text-align: right;\n",
       "    }\n",
       "</style>\n",
       "<table border=\"1\" class=\"dataframe\">\n",
       "  <thead>\n",
       "    <tr style=\"text-align: right;\">\n",
       "      <th></th>\n",
       "      <th>Products</th>\n",
       "      <th>Prices</th>\n",
       "      <th>Description</th>\n",
       "      <th>Reviews</th>\n",
       "      <th>ROM</th>\n",
       "    </tr>\n",
       "  </thead>\n",
       "  <tbody>\n",
       "    <tr>\n",
       "      <th>0</th>\n",
       "      <td>IQOO 9T 5G (LEGEND, 128 GB)</td>\n",
       "      <td>₹49,499</td>\n",
       "      <td>8 GB RAM | 128 GB ROM17.22 cm (6.78 inch) Disp...</td>\n",
       "      <td>4.1</td>\n",
       "      <td>128</td>\n",
       "    </tr>\n",
       "    <tr>\n",
       "      <th>1</th>\n",
       "      <td>SAMSUNG Galaxy S7 (Gold Platinum, 32 GB)</td>\n",
       "      <td>₹46,000</td>\n",
       "      <td>4 GB RAM | 32 GB ROM | Expandable Upto 200 GB1...</td>\n",
       "      <td>4.4</td>\n",
       "      <td>32</td>\n",
       "    </tr>\n",
       "    <tr>\n",
       "      <th>2</th>\n",
       "      <td>IQOO 9 Pro 5G (Dark Cruise, 256 GB)</td>\n",
       "      <td>₹47,990</td>\n",
       "      <td>8 GB RAM | 256 GB ROM17.22 cm (6.78 inch) Full...</td>\n",
       "      <td>0</td>\n",
       "      <td>256</td>\n",
       "    </tr>\n",
       "    <tr>\n",
       "      <th>3</th>\n",
       "      <td>I Kall Z20 Pro (Black, 64 GB)</td>\n",
       "      <td>₹7,799</td>\n",
       "      <td>4 GB RAM | 64 GB ROM16.51 cm (6.5 inch) HD+ Di...</td>\n",
       "      <td>3</td>\n",
       "      <td>64</td>\n",
       "    </tr>\n",
       "    <tr>\n",
       "      <th>4</th>\n",
       "      <td>IQOO 9 Pro 5G (Legend, 256 GB)</td>\n",
       "      <td>₹47,467</td>\n",
       "      <td>8 GB RAM | 256 GB ROM17.22 cm (6.78 inch) Full...</td>\n",
       "      <td>0</td>\n",
       "      <td>256</td>\n",
       "    </tr>\n",
       "    <tr>\n",
       "      <th>...</th>\n",
       "      <td>...</td>\n",
       "      <td>...</td>\n",
       "      <td>...</td>\n",
       "      <td>...</td>\n",
       "      <td>...</td>\n",
       "    </tr>\n",
       "    <tr>\n",
       "      <th>183</th>\n",
       "      <td>MOTOROLA g52 (Charcoal Grey, 128 GB)</td>\n",
       "      <td>₹13,099</td>\n",
       "      <td>6 GB RAM | 128 GB ROM16.76 cm (6.6 inch) Full ...</td>\n",
       "      <td>4.3</td>\n",
       "      <td>128</td>\n",
       "    </tr>\n",
       "    <tr>\n",
       "      <th>184</th>\n",
       "      <td>SAMSUNG Galaxy F23 5G (Forest Green, 128 GB)</td>\n",
       "      <td>₹16,999</td>\n",
       "      <td>6 GB RAM | 128 GB ROM | Expandable Upto 1 TB16...</td>\n",
       "      <td>4.2</td>\n",
       "      <td>32</td>\n",
       "    </tr>\n",
       "    <tr>\n",
       "      <th>185</th>\n",
       "      <td>REDMI 10 (Midnight Black, 128 GB)</td>\n",
       "      <td>₹11,999</td>\n",
       "      <td>6 GB RAM | 128 GB ROM | Expandable Upto 1 TB17...</td>\n",
       "      <td>4.2</td>\n",
       "      <td>64</td>\n",
       "    </tr>\n",
       "    <tr>\n",
       "      <th>186</th>\n",
       "      <td>REDMI A1 (Black, 32 GB)</td>\n",
       "      <td>₹6,400</td>\n",
       "      <td>2 GB RAM | 32 GB ROM16.56 cm (6.52 inch) Displ...</td>\n",
       "      <td>4.3</td>\n",
       "      <td>128</td>\n",
       "    </tr>\n",
       "    <tr>\n",
       "      <th>187</th>\n",
       "      <td>REDMI 10 (Shadow Black, 64 GB)</td>\n",
       "      <td>₹9,999</td>\n",
       "      <td>4 GB RAM | 64 GB ROM | Expandable Upto 1 TB17....</td>\n",
       "      <td>4.2</td>\n",
       "      <td>128</td>\n",
       "    </tr>\n",
       "  </tbody>\n",
       "</table>\n",
       "<p>188 rows × 5 columns</p>\n",
       "</div>"
      ],
      "text/plain": [
       "                                         Products   Prices  \\\n",
       "0                     IQOO 9T 5G (LEGEND, 128 GB)  ₹49,499   \n",
       "1        SAMSUNG Galaxy S7 (Gold Platinum, 32 GB)  ₹46,000   \n",
       "2             IQOO 9 Pro 5G (Dark Cruise, 256 GB)  ₹47,990   \n",
       "3                   I Kall Z20 Pro (Black, 64 GB)   ₹7,799   \n",
       "4                  IQOO 9 Pro 5G (Legend, 256 GB)  ₹47,467   \n",
       "..                                            ...      ...   \n",
       "183          MOTOROLA g52 (Charcoal Grey, 128 GB)  ₹13,099   \n",
       "184  SAMSUNG Galaxy F23 5G (Forest Green, 128 GB)  ₹16,999   \n",
       "185             REDMI 10 (Midnight Black, 128 GB)  ₹11,999   \n",
       "186                       REDMI A1 (Black, 32 GB)   ₹6,400   \n",
       "187                REDMI 10 (Shadow Black, 64 GB)   ₹9,999   \n",
       "\n",
       "                                           Description Reviews  ROM  \n",
       "0    8 GB RAM | 128 GB ROM17.22 cm (6.78 inch) Disp...     4.1  128  \n",
       "1    4 GB RAM | 32 GB ROM | Expandable Upto 200 GB1...     4.4   32  \n",
       "2    8 GB RAM | 256 GB ROM17.22 cm (6.78 inch) Full...       0  256  \n",
       "3    4 GB RAM | 64 GB ROM16.51 cm (6.5 inch) HD+ Di...       3   64  \n",
       "4    8 GB RAM | 256 GB ROM17.22 cm (6.78 inch) Full...       0  256  \n",
       "..                                                 ...     ...  ...  \n",
       "183  6 GB RAM | 128 GB ROM16.76 cm (6.6 inch) Full ...     4.3  128  \n",
       "184  6 GB RAM | 128 GB ROM | Expandable Upto 1 TB16...     4.2   32  \n",
       "185  6 GB RAM | 128 GB ROM | Expandable Upto 1 TB17...     4.2   64  \n",
       "186  2 GB RAM | 32 GB ROM16.56 cm (6.52 inch) Displ...     4.3  128  \n",
       "187  4 GB RAM | 64 GB ROM | Expandable Upto 1 TB17....     4.2  128  \n",
       "\n",
       "[188 rows x 5 columns]"
      ]
     },
     "execution_count": 165,
     "metadata": {},
     "output_type": "execute_result"
    }
   ],
   "source": [
    "data"
   ]
  },
  {
   "cell_type": "code",
   "execution_count": 166,
   "id": "d41037a6",
   "metadata": {},
   "outputs": [],
   "source": [
    "data.to_excel(\"E:\\\\DataScientist2023\\\\Flipkart_data.xlsx\")"
   ]
  },
  {
   "cell_type": "code",
   "execution_count": null,
   "id": "e24cbeca",
   "metadata": {},
   "outputs": [],
   "source": []
  }
 ],
 "metadata": {
  "kernelspec": {
   "display_name": "Python 3",
   "language": "python",
   "name": "python3"
  },
  "language_info": {
   "codemirror_mode": {
    "name": "ipython",
    "version": 3
   },
   "file_extension": ".py",
   "mimetype": "text/x-python",
   "name": "python",
   "nbconvert_exporter": "python",
   "pygments_lexer": "ipython3",
   "version": "3.9.13"
  }
 },
 "nbformat": 4,
 "nbformat_minor": 5
}
